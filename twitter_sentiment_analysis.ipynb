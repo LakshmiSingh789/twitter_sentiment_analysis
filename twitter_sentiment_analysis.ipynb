{
 "cells": [
  {
   "cell_type": "markdown",
   "metadata": {
    "id": "Yf5WNfwPjVAx"
   },
   "source": [
    "Load DataSet"
   ]
  },
  {
   "cell_type": "code",
   "execution_count": 1,
   "metadata": {
    "executionInfo": {
     "elapsed": 2007,
     "status": "ok",
     "timestamp": 1687025020928,
     "user": {
      "displayName": "Lakshmi Singh",
      "userId": "17047074843456537614"
     },
     "user_tz": -330
    },
    "id": "JA7gZeRiq9RW"
   },
   "outputs": [],
   "source": [
    "import pandas as pd\n",
    "pd.set_option(\"display.max_colwidth\", 200)"
   ]
  },
  {
   "cell_type": "code",
   "execution_count": 2,
   "metadata": {
    "colab": {
     "base_uri": "https://localhost:8080/",
     "height": 206
    },
    "executionInfo": {
     "elapsed": 231,
     "status": "ok",
     "timestamp": 1687025023058,
     "user": {
      "displayName": "Lakshmi Singh",
      "userId": "17047074843456537614"
     },
     "user_tz": -330
    },
    "id": "sM8gmfevrehE",
    "outputId": "23c27a4d-533e-4887-e93a-b27b501f069c"
   },
   "outputs": [
    {
     "data": {
      "text/html": [
       "\n",
       "  <div id=\"df-8291f085-5c4c-4803-bf77-72f1f88623d9\">\n",
       "    <div class=\"colab-df-container\">\n",
       "      <div>\n",
       "<style scoped>\n",
       "    .dataframe tbody tr th:only-of-type {\n",
       "        vertical-align: middle;\n",
       "    }\n",
       "\n",
       "    .dataframe tbody tr th {\n",
       "        vertical-align: top;\n",
       "    }\n",
       "\n",
       "    .dataframe thead th {\n",
       "        text-align: right;\n",
       "    }\n",
       "</style>\n",
       "<table border=\"1\" class=\"dataframe\">\n",
       "  <thead>\n",
       "    <tr style=\"text-align: right;\">\n",
       "      <th></th>\n",
       "      <th>id</th>\n",
       "      <th>label</th>\n",
       "      <th>tweet</th>\n",
       "    </tr>\n",
       "  </thead>\n",
       "  <tbody>\n",
       "    <tr>\n",
       "      <th>0</th>\n",
       "      <td>1</td>\n",
       "      <td>0</td>\n",
       "      <td>@user when a father is dysfunctional and is so selfish he drags his kids into his dysfunction.   #run</td>\n",
       "    </tr>\n",
       "    <tr>\n",
       "      <th>1</th>\n",
       "      <td>2</td>\n",
       "      <td>0</td>\n",
       "      <td>@user @user thanks for #lyft credit i can't use cause they don't offer wheelchair vans in pdx.    #disapointed #getthanked</td>\n",
       "    </tr>\n",
       "    <tr>\n",
       "      <th>2</th>\n",
       "      <td>3</td>\n",
       "      <td>0</td>\n",
       "      <td>bihday your majesty</td>\n",
       "    </tr>\n",
       "    <tr>\n",
       "      <th>3</th>\n",
       "      <td>4</td>\n",
       "      <td>0</td>\n",
       "      <td>#model   i love u take with u all the time in ur📱!!! 😙😎👄👅💦💦💦</td>\n",
       "    </tr>\n",
       "    <tr>\n",
       "      <th>4</th>\n",
       "      <td>5</td>\n",
       "      <td>0</td>\n",
       "      <td>factsguide: society now    #motivation</td>\n",
       "    </tr>\n",
       "  </tbody>\n",
       "</table>\n",
       "</div>\n",
       "      <button class=\"colab-df-convert\" onclick=\"convertToInteractive('df-8291f085-5c4c-4803-bf77-72f1f88623d9')\"\n",
       "              title=\"Convert this dataframe to an interactive table.\"\n",
       "              style=\"display:none;\">\n",
       "        \n",
       "  <svg xmlns=\"http://www.w3.org/2000/svg\" height=\"24px\"viewBox=\"0 0 24 24\"\n",
       "       width=\"24px\">\n",
       "    <path d=\"M0 0h24v24H0V0z\" fill=\"none\"/>\n",
       "    <path d=\"M18.56 5.44l.94 2.06.94-2.06 2.06-.94-2.06-.94-.94-2.06-.94 2.06-2.06.94zm-11 1L8.5 8.5l.94-2.06 2.06-.94-2.06-.94L8.5 2.5l-.94 2.06-2.06.94zm10 10l.94 2.06.94-2.06 2.06-.94-2.06-.94-.94-2.06-.94 2.06-2.06.94z\"/><path d=\"M17.41 7.96l-1.37-1.37c-.4-.4-.92-.59-1.43-.59-.52 0-1.04.2-1.43.59L10.3 9.45l-7.72 7.72c-.78.78-.78 2.05 0 2.83L4 21.41c.39.39.9.59 1.41.59.51 0 1.02-.2 1.41-.59l7.78-7.78 2.81-2.81c.8-.78.8-2.07 0-2.86zM5.41 20L4 18.59l7.72-7.72 1.47 1.35L5.41 20z\"/>\n",
       "  </svg>\n",
       "      </button>\n",
       "      \n",
       "  <style>\n",
       "    .colab-df-container {\n",
       "      display:flex;\n",
       "      flex-wrap:wrap;\n",
       "      gap: 12px;\n",
       "    }\n",
       "\n",
       "    .colab-df-convert {\n",
       "      background-color: #E8F0FE;\n",
       "      border: none;\n",
       "      border-radius: 50%;\n",
       "      cursor: pointer;\n",
       "      display: none;\n",
       "      fill: #1967D2;\n",
       "      height: 32px;\n",
       "      padding: 0 0 0 0;\n",
       "      width: 32px;\n",
       "    }\n",
       "\n",
       "    .colab-df-convert:hover {\n",
       "      background-color: #E2EBFA;\n",
       "      box-shadow: 0px 1px 2px rgba(60, 64, 67, 0.3), 0px 1px 3px 1px rgba(60, 64, 67, 0.15);\n",
       "      fill: #174EA6;\n",
       "    }\n",
       "\n",
       "    [theme=dark] .colab-df-convert {\n",
       "      background-color: #3B4455;\n",
       "      fill: #D2E3FC;\n",
       "    }\n",
       "\n",
       "    [theme=dark] .colab-df-convert:hover {\n",
       "      background-color: #434B5C;\n",
       "      box-shadow: 0px 1px 3px 1px rgba(0, 0, 0, 0.15);\n",
       "      filter: drop-shadow(0px 1px 2px rgba(0, 0, 0, 0.3));\n",
       "      fill: #FFFFFF;\n",
       "    }\n",
       "  </style>\n",
       "\n",
       "      <script>\n",
       "        const buttonEl =\n",
       "          document.querySelector('#df-8291f085-5c4c-4803-bf77-72f1f88623d9 button.colab-df-convert');\n",
       "        buttonEl.style.display =\n",
       "          google.colab.kernel.accessAllowed ? 'block' : 'none';\n",
       "\n",
       "        async function convertToInteractive(key) {\n",
       "          const element = document.querySelector('#df-8291f085-5c4c-4803-bf77-72f1f88623d9');\n",
       "          const dataTable =\n",
       "            await google.colab.kernel.invokeFunction('convertToInteractive',\n",
       "                                                     [key], {});\n",
       "          if (!dataTable) return;\n",
       "\n",
       "          const docLinkHtml = 'Like what you see? Visit the ' +\n",
       "            '<a target=\"_blank\" href=https://colab.research.google.com/notebooks/data_table.ipynb>data table notebook</a>'\n",
       "            + ' to learn more about interactive tables.';\n",
       "          element.innerHTML = '';\n",
       "          dataTable['output_type'] = 'display_data';\n",
       "          await google.colab.output.renderOutput(dataTable, element);\n",
       "          const docLink = document.createElement('div');\n",
       "          docLink.innerHTML = docLinkHtml;\n",
       "          element.appendChild(docLink);\n",
       "        }\n",
       "      </script>\n",
       "    </div>\n",
       "  </div>\n",
       "  "
      ],
      "text/plain": [
       "   id  label  \\\n",
       "0   1      0   \n",
       "1   2      0   \n",
       "2   3      0   \n",
       "3   4      0   \n",
       "4   5      0   \n",
       "\n",
       "                                                                                                                        tweet  \n",
       "0                       @user when a father is dysfunctional and is so selfish he drags his kids into his dysfunction.   #run  \n",
       "1  @user @user thanks for #lyft credit i can't use cause they don't offer wheelchair vans in pdx.    #disapointed #getthanked  \n",
       "2                                                                                                         bihday your majesty  \n",
       "3                                                              #model   i love u take with u all the time in ur📱!!! 😙😎👄👅💦💦💦    \n",
       "4                                                                                      factsguide: society now    #motivation  "
      ]
     },
     "execution_count": 2,
     "metadata": {},
     "output_type": "execute_result"
    }
   ],
   "source": [
    "data = pd.read_csv('/content/TwitterSentimentData.csv')\n",
    "data.head()"
   ]
  },
  {
   "cell_type": "code",
   "execution_count": 3,
   "metadata": {
    "executionInfo": {
     "elapsed": 227,
     "status": "ok",
     "timestamp": 1687025023060,
     "user": {
      "displayName": "Lakshmi Singh",
      "userId": "17047074843456537614"
     },
     "user_tz": -330
    },
    "id": "ZaOLQ7A7jhN_"
   },
   "outputs": [],
   "source": [
    "#here 0 represnt positive tweet and 1 as negative tweet"
   ]
  },
  {
   "cell_type": "code",
   "execution_count": 4,
   "metadata": {
    "executionInfo": {
     "elapsed": 226,
     "status": "ok",
     "timestamp": 1687025023061,
     "user": {
      "displayName": "Lakshmi Singh",
      "userId": "17047074843456537614"
     },
     "user_tz": -330
    },
    "id": "A43BcbXt3JZb"
   },
   "outputs": [],
   "source": [
    "import pandas as pd\n",
    "pd.set_option(\"display.max_colwidth\", 200)"
   ]
  },
  {
   "cell_type": "code",
   "execution_count": 5,
   "metadata": {
    "colab": {
     "base_uri": "https://localhost:8080/"
    },
    "executionInfo": {
     "elapsed": 230,
     "status": "ok",
     "timestamp": 1687025023065,
     "user": {
      "displayName": "Lakshmi Singh",
      "userId": "17047074843456537614"
     },
     "user_tz": -330
    },
    "id": "WUe2qo1fEtiH",
    "outputId": "24719c29-fa74-4885-949a-75b2405a3e6c"
   },
   "outputs": [
    {
     "name": "stdout",
     "output_type": "stream",
     "text": [
      "<class 'pandas.core.frame.DataFrame'>\n",
      "RangeIndex: 300 entries, 0 to 299\n",
      "Data columns (total 3 columns):\n",
      " #   Column  Non-Null Count  Dtype \n",
      "---  ------  --------------  ----- \n",
      " 0   id      300 non-null    int64 \n",
      " 1   label   300 non-null    int64 \n",
      " 2   tweet   300 non-null    object\n",
      "dtypes: int64(2), object(1)\n",
      "memory usage: 7.2+ KB\n"
     ]
    }
   ],
   "source": [
    "data.info()"
   ]
  },
  {
   "cell_type": "code",
   "execution_count": 6,
   "metadata": {
    "colab": {
     "base_uri": "https://localhost:8080/"
    },
    "executionInfo": {
     "elapsed": 160,
     "status": "ok",
     "timestamp": 1687025023066,
     "user": {
      "displayName": "Lakshmi Singh",
      "userId": "17047074843456537614"
     },
     "user_tz": -330
    },
    "id": "Kkd5eQmCFASL",
    "outputId": "546c90dd-edb0-4ac7-9a86-65b36c997b10"
   },
   "outputs": [
    {
     "data": {
      "text/plain": [
       "id       0\n",
       "label    0\n",
       "tweet    0\n",
       "dtype: int64"
      ]
     },
     "execution_count": 6,
     "metadata": {},
     "output_type": "execute_result"
    }
   ],
   "source": [
    "data.isnull().sum() #to check is there any missing value?"
   ]
  },
  {
   "cell_type": "code",
   "execution_count": 7,
   "metadata": {
    "colab": {
     "base_uri": "https://localhost:8080/",
     "height": 206
    },
    "executionInfo": {
     "elapsed": 160,
     "status": "ok",
     "timestamp": 1687025023069,
     "user": {
      "displayName": "Lakshmi Singh",
      "userId": "17047074843456537614"
     },
     "user_tz": -330
    },
    "id": "8uAnT8rOFTCw",
    "outputId": "79f4c0f0-d7f1-465b-e624-f2e4c5d50af5"
   },
   "outputs": [
    {
     "data": {
      "text/html": [
       "\n",
       "  <div id=\"df-81bcb89e-00cd-45d9-b483-316599ad1803\">\n",
       "    <div class=\"colab-df-container\">\n",
       "      <div>\n",
       "<style scoped>\n",
       "    .dataframe tbody tr th:only-of-type {\n",
       "        vertical-align: middle;\n",
       "    }\n",
       "\n",
       "    .dataframe tbody tr th {\n",
       "        vertical-align: top;\n",
       "    }\n",
       "\n",
       "    .dataframe thead th {\n",
       "        text-align: right;\n",
       "    }\n",
       "</style>\n",
       "<table border=\"1\" class=\"dataframe\">\n",
       "  <thead>\n",
       "    <tr style=\"text-align: right;\">\n",
       "      <th></th>\n",
       "      <th>id</th>\n",
       "      <th>label</th>\n",
       "      <th>tweet</th>\n",
       "    </tr>\n",
       "  </thead>\n",
       "  <tbody>\n",
       "    <tr>\n",
       "      <th>0</th>\n",
       "      <td>1</td>\n",
       "      <td>0</td>\n",
       "      <td>@user when a father is dysfunctional and is so selfish he drags his kids into his dysfunction.   #run</td>\n",
       "    </tr>\n",
       "    <tr>\n",
       "      <th>1</th>\n",
       "      <td>2</td>\n",
       "      <td>0</td>\n",
       "      <td>@user @user thanks for #lyft credit i can't use cause they don't offer wheelchair vans in pdx.    #disapointed #getthanked</td>\n",
       "    </tr>\n",
       "    <tr>\n",
       "      <th>2</th>\n",
       "      <td>3</td>\n",
       "      <td>0</td>\n",
       "      <td>bihday your majesty</td>\n",
       "    </tr>\n",
       "    <tr>\n",
       "      <th>3</th>\n",
       "      <td>4</td>\n",
       "      <td>0</td>\n",
       "      <td>#model   i love u take with u all the time in ur📱!!! 😙😎👄👅💦💦💦</td>\n",
       "    </tr>\n",
       "    <tr>\n",
       "      <th>4</th>\n",
       "      <td>5</td>\n",
       "      <td>0</td>\n",
       "      <td>factsguide: society now    #motivation</td>\n",
       "    </tr>\n",
       "  </tbody>\n",
       "</table>\n",
       "</div>\n",
       "      <button class=\"colab-df-convert\" onclick=\"convertToInteractive('df-81bcb89e-00cd-45d9-b483-316599ad1803')\"\n",
       "              title=\"Convert this dataframe to an interactive table.\"\n",
       "              style=\"display:none;\">\n",
       "        \n",
       "  <svg xmlns=\"http://www.w3.org/2000/svg\" height=\"24px\"viewBox=\"0 0 24 24\"\n",
       "       width=\"24px\">\n",
       "    <path d=\"M0 0h24v24H0V0z\" fill=\"none\"/>\n",
       "    <path d=\"M18.56 5.44l.94 2.06.94-2.06 2.06-.94-2.06-.94-.94-2.06-.94 2.06-2.06.94zm-11 1L8.5 8.5l.94-2.06 2.06-.94-2.06-.94L8.5 2.5l-.94 2.06-2.06.94zm10 10l.94 2.06.94-2.06 2.06-.94-2.06-.94-.94-2.06-.94 2.06-2.06.94z\"/><path d=\"M17.41 7.96l-1.37-1.37c-.4-.4-.92-.59-1.43-.59-.52 0-1.04.2-1.43.59L10.3 9.45l-7.72 7.72c-.78.78-.78 2.05 0 2.83L4 21.41c.39.39.9.59 1.41.59.51 0 1.02-.2 1.41-.59l7.78-7.78 2.81-2.81c.8-.78.8-2.07 0-2.86zM5.41 20L4 18.59l7.72-7.72 1.47 1.35L5.41 20z\"/>\n",
       "  </svg>\n",
       "      </button>\n",
       "      \n",
       "  <style>\n",
       "    .colab-df-container {\n",
       "      display:flex;\n",
       "      flex-wrap:wrap;\n",
       "      gap: 12px;\n",
       "    }\n",
       "\n",
       "    .colab-df-convert {\n",
       "      background-color: #E8F0FE;\n",
       "      border: none;\n",
       "      border-radius: 50%;\n",
       "      cursor: pointer;\n",
       "      display: none;\n",
       "      fill: #1967D2;\n",
       "      height: 32px;\n",
       "      padding: 0 0 0 0;\n",
       "      width: 32px;\n",
       "    }\n",
       "\n",
       "    .colab-df-convert:hover {\n",
       "      background-color: #E2EBFA;\n",
       "      box-shadow: 0px 1px 2px rgba(60, 64, 67, 0.3), 0px 1px 3px 1px rgba(60, 64, 67, 0.15);\n",
       "      fill: #174EA6;\n",
       "    }\n",
       "\n",
       "    [theme=dark] .colab-df-convert {\n",
       "      background-color: #3B4455;\n",
       "      fill: #D2E3FC;\n",
       "    }\n",
       "\n",
       "    [theme=dark] .colab-df-convert:hover {\n",
       "      background-color: #434B5C;\n",
       "      box-shadow: 0px 1px 3px 1px rgba(0, 0, 0, 0.15);\n",
       "      filter: drop-shadow(0px 1px 2px rgba(0, 0, 0, 0.3));\n",
       "      fill: #FFFFFF;\n",
       "    }\n",
       "  </style>\n",
       "\n",
       "      <script>\n",
       "        const buttonEl =\n",
       "          document.querySelector('#df-81bcb89e-00cd-45d9-b483-316599ad1803 button.colab-df-convert');\n",
       "        buttonEl.style.display =\n",
       "          google.colab.kernel.accessAllowed ? 'block' : 'none';\n",
       "\n",
       "        async function convertToInteractive(key) {\n",
       "          const element = document.querySelector('#df-81bcb89e-00cd-45d9-b483-316599ad1803');\n",
       "          const dataTable =\n",
       "            await google.colab.kernel.invokeFunction('convertToInteractive',\n",
       "                                                     [key], {});\n",
       "          if (!dataTable) return;\n",
       "\n",
       "          const docLinkHtml = 'Like what you see? Visit the ' +\n",
       "            '<a target=\"_blank\" href=https://colab.research.google.com/notebooks/data_table.ipynb>data table notebook</a>'\n",
       "            + ' to learn more about interactive tables.';\n",
       "          element.innerHTML = '';\n",
       "          dataTable['output_type'] = 'display_data';\n",
       "          await google.colab.output.renderOutput(dataTable, element);\n",
       "          const docLink = document.createElement('div');\n",
       "          docLink.innerHTML = docLinkHtml;\n",
       "          element.appendChild(docLink);\n",
       "        }\n",
       "      </script>\n",
       "    </div>\n",
       "  </div>\n",
       "  "
      ],
      "text/plain": [
       "   id  label  \\\n",
       "0   1      0   \n",
       "1   2      0   \n",
       "2   3      0   \n",
       "3   4      0   \n",
       "4   5      0   \n",
       "\n",
       "                                                                                                                        tweet  \n",
       "0                       @user when a father is dysfunctional and is so selfish he drags his kids into his dysfunction.   #run  \n",
       "1  @user @user thanks for #lyft credit i can't use cause they don't offer wheelchair vans in pdx.    #disapointed #getthanked  \n",
       "2                                                                                                         bihday your majesty  \n",
       "3                                                              #model   i love u take with u all the time in ur📱!!! 😙😎👄👅💦💦💦    \n",
       "4                                                                                      factsguide: society now    #motivation  "
      ]
     },
     "execution_count": 7,
     "metadata": {},
     "output_type": "execute_result"
    }
   ],
   "source": [
    "data.head()"
   ]
  },
  {
   "cell_type": "code",
   "execution_count": 8,
   "metadata": {
    "colab": {
     "base_uri": "https://localhost:8080/"
    },
    "executionInfo": {
     "elapsed": 158,
     "status": "ok",
     "timestamp": 1687025023070,
     "user": {
      "displayName": "Lakshmi Singh",
      "userId": "17047074843456537614"
     },
     "user_tz": -330
    },
    "id": "lQaUFhrPFXfQ",
    "outputId": "1656d194-c722-4446-e816-7adad1569eac"
   },
   "outputs": [
    {
     "data": {
      "text/plain": [
       "0    0.93\n",
       "1    0.07\n",
       "Name: label, dtype: float64"
      ]
     },
     "execution_count": 8,
     "metadata": {},
     "output_type": "execute_result"
    }
   ],
   "source": [
    "data['label'].value_counts(normalize=True) #to check class balance"
   ]
  },
  {
   "cell_type": "code",
   "execution_count": 9,
   "metadata": {
    "colab": {
     "base_uri": "https://localhost:8080/",
     "height": 442
    },
    "executionInfo": {
     "elapsed": 158,
     "status": "ok",
     "timestamp": 1687025023074,
     "user": {
      "displayName": "Lakshmi Singh",
      "userId": "17047074843456537614"
     },
     "user_tz": -330
    },
    "id": "jvJPpoHjGwoC",
    "outputId": "20bc6e1f-19b7-4921-81c5-224720db4993"
   },
   "outputs": [
    {
     "data": {
      "text/plain": [
       "<Axes: >"
      ]
     },
     "execution_count": 9,
     "metadata": {},
     "output_type": "execute_result"
    },
    {
     "data": {
      "image/png": "[encoded data removed]",
      "text/plain": [
       "<Figure size 640x480 with 1 Axes>"
      ]
     },
     "metadata": {},
     "output_type": "display_data"
    }
   ],
   "source": [
    "data['label'].value_counts().plot(kind='bar')"
   ]
  },
  {
   "cell_type": "markdown",
   "metadata": {
    "id": "UytsdhaWkyLl"
   },
   "source": [
    "Data Preprocessing"
   ]
  },
  {
   "cell_type": "code",
   "execution_count": 10,
   "metadata": {
    "colab": {
     "base_uri": "https://localhost:8080/",
     "height": 35
    },
    "executionInfo": {
     "elapsed": 155,
     "status": "ok",
     "timestamp": 1687025023076,
     "user": {
      "displayName": "Lakshmi Singh",
      "userId": "17047074843456537614"
     },
     "user_tz": -330
    },
    "id": "nieOtLorG2_k",
    "outputId": "5a767cb7-5f5b-49e2-9e06-5af3dd320680"
   },
   "outputs": [
    {
     "data": {
      "application/vnd.google.colaboratory.intrinsic+json": {
       "type": "string"
      },
      "text/plain": [
       "' @user #tgif   #ff to my #gamedev #indiedev #indiegamedev #squad! @user @user @user @user @user'"
      ]
     },
     "execution_count": 10,
     "metadata": {},
     "output_type": "execute_result"
    }
   ],
   "source": [
    "data['tweet'][24]"
   ]
  },
  {
   "cell_type": "code",
   "execution_count": 11,
   "metadata": {
    "executionInfo": {
     "elapsed": 160,
     "status": "ok",
     "timestamp": 1687025023084,
     "user": {
      "displayName": "Lakshmi Singh",
      "userId": "17047074843456537614"
     },
     "user_tz": -330
    },
    "id": "G-QlOLqIG8Dq"
   },
   "outputs": [],
   "source": [
    "import re"
   ]
  },
  {
   "cell_type": "code",
   "execution_count": 12,
   "metadata": {
    "colab": {
     "base_uri": "https://localhost:8080/",
     "height": 35
    },
    "executionInfo": {
     "elapsed": 161,
     "status": "ok",
     "timestamp": 1687025023086,
     "user": {
      "displayName": "Lakshmi Singh",
      "userId": "17047074843456537614"
     },
     "user_tz": -330
    },
    "id": "xtk1GZl0G_RR",
    "outputId": "8c5aa473-0574-4e0b-ba54-06937e7ed603"
   },
   "outputs": [
    {
     "data": {
      "application/vnd.google.colaboratory.intrinsic+json": {
       "type": "string"
      },
      "text/plain": [
       "' @user #tgif   #ff to my #gamedev #indiedev #indiegamedev #squad! @user @user @user @user @user'"
      ]
     },
     "execution_count": 12,
     "metadata": {},
     "output_type": "execute_result"
    }
   ],
   "source": [
    "# Substitute 's with \" is\"\n",
    "re.sub(r\"'s\\b\", \" is\", data['tweet'][24])"
   ]
  },
  {
   "cell_type": "code",
   "execution_count": 13,
   "metadata": {
    "colab": {
     "base_uri": "https://localhost:8080/",
     "height": 35
    },
    "executionInfo": {
     "elapsed": 159,
     "status": "ok",
     "timestamp": 1687025023088,
     "user": {
      "displayName": "Lakshmi Singh",
      "userId": "17047074843456537614"
     },
     "user_tz": -330
    },
    "id": "38AdSBzNHCdJ",
    "outputId": "ed979e3a-b37d-482c-c79e-d0d768a56a67"
   },
   "outputs": [
    {
     "data": {
      "application/vnd.google.colaboratory.intrinsic+json": {
       "type": "string"
      },
      "text/plain": [
       "'we are so selfish. #orlando #standwithorlando #pulseshooting #orlandoshooting #biggerproblems #selfish #heabreaking   #values #love #'"
      ]
     },
     "execution_count": 13,
     "metadata": {},
     "output_type": "execute_result"
    }
   ],
   "source": [
    "# Removing the user mentions\n",
    "data['tweet'][11]"
   ]
  },
  {
   "cell_type": "code",
   "execution_count": 14,
   "metadata": {
    "colab": {
     "base_uri": "https://localhost:8080/",
     "height": 35
    },
    "executionInfo": {
     "elapsed": 159,
     "status": "ok",
     "timestamp": 1687025023090,
     "user": {
      "displayName": "Lakshmi Singh",
      "userId": "17047074843456537614"
     },
     "user_tz": -330
    },
    "id": "rDl1MKKYHHFO",
    "outputId": "aa3dac6e-e73f-4fcc-874d-0df21400c77f"
   },
   "outputs": [
    {
     "data": {
      "application/vnd.google.colaboratory.intrinsic+json": {
       "type": "string"
      },
      "text/plain": [
       "'we are so selfish. #orlando #standwithorlando #pulseshooting #orlandoshooting #biggerproblems #selfish #heabreaking   #values #love #'"
      ]
     },
     "execution_count": 14,
     "metadata": {},
     "output_type": "execute_result"
    }
   ],
   "source": [
    "#to retain on the alphabets & digits\n",
    "\n",
    "re.sub(\"@[A-Za-z0-9]+\", \"\", data['tweet'][11])"
   ]
  },
  {
   "cell_type": "code",
   "execution_count": 15,
   "metadata": {
    "colab": {
     "base_uri": "https://localhost:8080/",
     "height": 35
    },
    "executionInfo": {
     "elapsed": 160,
     "status": "ok",
     "timestamp": 1687025023092,
     "user": {
      "displayName": "Lakshmi Singh",
      "userId": "17047074843456537614"
     },
     "user_tz": -330
    },
    "id": "C3qY09PGHKLF",
    "outputId": "18b8cafa-a012-46a0-9847-9b01b332c3ba"
   },
   "outputs": [
    {
     "data": {
      "application/vnd.google.colaboratory.intrinsic+json": {
       "type": "string"
      },
      "text/plain": [
       "' @user when a father is dysfunctional and is so selfish he drags his kids into his dysfunction.   #run'"
      ]
     },
     "execution_count": 15,
     "metadata": {},
     "output_type": "execute_result"
    }
   ],
   "source": [
    "# remive the hashtags\n",
    "data['tweet'][0]"
   ]
  },
  {
   "cell_type": "code",
   "execution_count": 16,
   "metadata": {
    "colab": {
     "base_uri": "https://localhost:8080/",
     "height": 35
    },
    "executionInfo": {
     "elapsed": 161,
     "status": "ok",
     "timestamp": 1687025023095,
     "user": {
      "displayName": "Lakshmi Singh",
      "userId": "17047074843456537614"
     },
     "user_tz": -330
    },
    "id": "_ecP6sCzHOTj",
    "outputId": "405bbdc3-8c4a-4586-c2d8-0e800af8510a"
   },
   "outputs": [
    {
     "data": {
      "application/vnd.google.colaboratory.intrinsic+json": {
       "type": "string"
      },
      "text/plain": [
       "' @user when a father is dysfunctional and is so selfish he drags his kids into his dysfunction.   run'"
      ]
     },
     "execution_count": 16,
     "metadata": {},
     "output_type": "execute_result"
    }
   ],
   "source": [
    "re.sub(\"#\", \"\", data['tweet'][0]) #"
   ]
  },
  {
   "cell_type": "code",
   "execution_count": 17,
   "metadata": {
    "colab": {
     "base_uri": "https://localhost:8080/",
     "height": 35
    },
    "executionInfo": {
     "elapsed": 162,
     "status": "ok",
     "timestamp": 1687025023097,
     "user": {
      "displayName": "Lakshmi Singh",
      "userId": "17047074843456537614"
     },
     "user_tz": -330
    },
    "id": "136ZqusfHRGW",
    "outputId": "692f5e16-6b65-4ba3-a070-ea07232c07a7"
   },
   "outputs": [
    {
     "data": {
      "application/vnd.google.colaboratory.intrinsic+json": {
       "type": "string"
      },
      "text/plain": [
       "' @user when a father is dysfunctional and is so selfish he drags his kids into his dysfunction.   #run'"
      ]
     },
     "execution_count": 17,
     "metadata": {},
     "output_type": "execute_result"
    }
   ],
   "source": [
    "re.sub(r\"http\\S+\", \"\", data['tweet'][0])"
   ]
  },
  {
   "cell_type": "code",
   "execution_count": 18,
   "metadata": {
    "colab": {
     "base_uri": "https://localhost:8080/",
     "height": 35
    },
    "executionInfo": {
     "elapsed": 162,
     "status": "ok",
     "timestamp": 1687025023098,
     "user": {
      "displayName": "Lakshmi Singh",
      "userId": "17047074843456537614"
     },
     "user_tz": -330
    },
    "id": "QZr8ZmD6HUYW",
    "outputId": "ea205723-d1c0-4f83-dd42-bb5188568841"
   },
   "outputs": [
    {
     "data": {
      "application/vnd.google.colaboratory.intrinsic+json": {
       "type": "string"
      },
      "text/plain": [
       "'beautiful sign by vendor 80 for $45.00!! #upsideofflorida #shopalyssas   #love '"
      ]
     },
     "execution_count": 18,
     "metadata": {},
     "output_type": "execute_result"
    }
   ],
   "source": [
    "# Retain on the alphabets (get rid of punctuations, special char, digits)\n",
    "data['tweet'][25]"
   ]
  },
  {
   "cell_type": "code",
   "execution_count": 19,
   "metadata": {
    "colab": {
     "base_uri": "https://localhost:8080/",
     "height": 35
    },
    "executionInfo": {
     "elapsed": 161,
     "status": "ok",
     "timestamp": 1687025023099,
     "user": {
      "displayName": "Lakshmi Singh",
      "userId": "17047074843456537614"
     },
     "user_tz": -330
    },
    "id": "qYEqzSLLH91U",
    "outputId": "0ee90746-3146-4b8a-df67-7924f7ba4d7f"
   },
   "outputs": [
    {
     "data": {
      "application/vnd.google.colaboratory.intrinsic+json": {
       "type": "string"
      },
      "text/plain": [
       "'  user when a father is dysfunctional and is so selfish he drags his kids into his dysfunction     run'"
      ]
     },
     "execution_count": 19,
     "metadata": {},
     "output_type": "execute_result"
    }
   ],
   "source": [
    "re.sub(r\"[^a-zA-Z]\", \" \", data['tweet'][0]) #to retain non alphabetic letters"
   ]
  },
  {
   "cell_type": "code",
   "execution_count": 20,
   "metadata": {
    "colab": {
     "base_uri": "https://localhost:8080/"
    },
    "executionInfo": {
     "elapsed": 5479,
     "status": "ok",
     "timestamp": 1687025028418,
     "user": {
      "displayName": "Lakshmi Singh",
      "userId": "17047074843456537614"
     },
     "user_tz": -330
    },
    "id": "vJs-tentz_nt",
    "outputId": "7c6287fb-ee74-4420-8ce6-8b339b99e02c"
   },
   "outputs": [
    {
     "name": "stdout",
     "output_type": "stream",
     "text": [
      "Looking in indexes: https://pypi.org/simple, https://us-python.pkg.dev/colab-wheels/public/simple/\n",
      "Requirement already satisfied: stopwords in /usr/local/lib/python3.10/dist-packages (1.0.0)\n"
     ]
    }
   ],
   "source": [
    "!pip install stopwords"
   ]
  },
  {
   "cell_type": "code",
   "execution_count": 21,
   "metadata": {
    "colab": {
     "base_uri": "https://localhost:8080/"
    },
    "executionInfo": {
     "elapsed": 106,
     "status": "ok",
     "timestamp": 1687025028420,
     "user": {
      "displayName": "Lakshmi Singh",
      "userId": "17047074843456537614"
     },
     "user_tz": -330
    },
    "id": "7jLvOzlrIBrd",
    "outputId": "606011c6-da71-4bf9-80aa-68fea61e400b"
   },
   "outputs": [
    {
     "name": "stderr",
     "output_type": "stream",
     "text": [
      "[nltk_data] Downloading package stopwords to /root/nltk_data...\n",
      "[nltk_data]   Package stopwords is already up-to-date!\n"
     ]
    },
    {
     "data": {
      "text/plain": [
       "True"
      ]
     },
     "execution_count": 21,
     "metadata": {},
     "output_type": "execute_result"
    }
   ],
   "source": [
    "import nltk\n",
    "import stopwords\n",
    "from nltk.corpus import stopwords\n",
    "nltk.download('stopwords')"
   ]
  },
  {
   "cell_type": "code",
   "execution_count": 22,
   "metadata": {
    "colab": {
     "base_uri": "https://localhost:8080/"
    },
    "executionInfo": {
     "elapsed": 89,
     "status": "ok",
     "timestamp": 1687025028422,
     "user": {
      "displayName": "Lakshmi Singh",
      "userId": "17047074843456537614"
     },
     "user_tz": -330
    },
    "id": "osD7NENeIFfg",
    "outputId": "1557ef8f-36b6-4359-d45b-156fbb437501"
   },
   "outputs": [
    {
     "name": "stdout",
     "output_type": "stream",
     "text": [
      "{'do', 'i', 'each', 'is', \"weren't\", \"it's\", 'than', 'who', 'there', 'wouldn', 'then', 'just', 'or', 'aren', 'at', 'll', 've', \"she's\", 'don', \"won't\", 'was', 'above', 'have', 'which', 'that', 'both', 'mustn', 'being', 'below', 'very', 'me', 'why', 'mightn', \"doesn't\", \"shan't\", 'his', 'too', 'an', 'having', 'he', 'once', 'itself', 'didn', 'themselves', 'further', 'into', 'were', 'of', \"isn't\", 'ours', 'had', 're', 'until', 'him', 'as', 'm', 'shan', 'are', 'needn', \"hadn't\", 'how', 'been', 'own', 't', 'haven', 'same', 'did', 'while', 'about', 'their', 'doesn', 'here', 'few', 'but', 'during', \"mustn't\", 'yourselves', 's', \"aren't\", \"you've\", 'any', 'yourself', 'after', 'such', 'will', 'all', 'theirs', 'because', 'most', 'they', 'our', \"don't\", \"wouldn't\", 'when', 'd', 'isn', 'before', 'by', 'am', 'if', \"shouldn't\", 'down', 'nor', 'on', \"hasn't\", 'hasn', 'between', 'only', 'has', 'no', 'again', 'not', 'against', 'whom', 'with', \"that'll\", 'o', 'myself', 'them', 'now', 'doing', \"haven't\", 'ourselves', 'wasn', 'her', 'up', 'so', \"mightn't\", 'other', 'out', 'does', 'over', 'hadn', 'you', 'and', 'herself', 'it', \"should've\", 'weren', 'in', 'hers', \"you're\", \"wasn't\", 'from', 'your', 'shouldn', \"couldn't\", 'to', 'these', 'yours', 'some', 'where', 'ma', \"didn't\", 'what', 'y', 'my', 'through', \"you'd\", 'she', 'be', 'under', \"you'll\", 'off', 'couldn', 'the', 'can', 'more', 'a', \"needn't\", 'for', 'this', 'we', 'won', 'should', 'ain', 'those', 'its', 'himself'}\n"
     ]
    }
   ],
   "source": [
    "nltk_stopwords = set(stopwords.words('english'))\n",
    "print(nltk_stopwords)"
   ]
  },
  {
   "cell_type": "code",
   "execution_count": 23,
   "metadata": {
    "colab": {
     "base_uri": "https://localhost:8080/"
    },
    "executionInfo": {
     "elapsed": 82,
     "status": "ok",
     "timestamp": 1687025028423,
     "user": {
      "displayName": "Lakshmi Singh",
      "userId": "17047074843456537614"
     },
     "user_tz": -330
    },
    "id": "TZrMzaLdJ_d-",
    "outputId": "dd6cdfaa-d6b9-4982-88eb-63745210dea2"
   },
   "outputs": [
    {
     "data": {
      "text/plain": [
       "179"
      ]
     },
     "execution_count": 23,
     "metadata": {},
     "output_type": "execute_result"
    }
   ],
   "source": [
    "len(nltk_stopwords)"
   ]
  },
  {
   "cell_type": "code",
   "execution_count": 24,
   "metadata": {
    "colab": {
     "base_uri": "https://localhost:8080/"
    },
    "executionInfo": {
     "elapsed": 73,
     "status": "ok",
     "timestamp": 1687025028424,
     "user": {
      "displayName": "Lakshmi Singh",
      "userId": "17047074843456537614"
     },
     "user_tz": -330
    },
    "id": "VyuBdTgVKFLf",
    "outputId": "693d4bfb-9e95-44ef-ae7b-f4e549c55d7e"
   },
   "outputs": [
    {
     "name": "stdout",
     "output_type": "stream",
     "text": [
      "{'ten', 'do', 'either', 'i', 'seems', 'eight', 'latter', 'however', 'than', 'rather', 'who', 'side', 'there', 'latterly', 'last', 'un', 'at', 'etc', 'together', 'cant', 'always', 'was', 'have', 'three', 'which', 'without', 'very', 'his', 'too', 'twenty', 'another', 'indeed', 'he', 'itself', 'amongst', 'formerly', 'whence', 'were', 'of', 'would', 'herein', 're', 'until', 'him', 'even', 'thick', 'are', 'forty', 'seeming', 'part', 'been', 'own', 'perhaps', 'throughout', 'full', 'same', 'inc', 'behind', 'while', 'fifteen', 'here', 'co', 'but', 'yourself', 'cry', 'will', 'all', 'de', 'wherein', 'con', 'thereupon', 'though', 'our', 'bottom', 'anywhere', 'when', 'fill', 'am', 'hereby', 'if', 'nor', 'on', 'among', 'former', 'five', 'front', 'may', 'nevertheless', 'has', 'top', 'no', 'whether', 'still', 'onto', 'seem', 'detail', 'becomes', 'again', 'against', 'first', 'call', 'please', 'whatever', 'give', 'hundred', 'them', 'amoungst', 'made', 'neither', 'see', 'less', 'ourselves', 'four', 'name', 'her', 'up', 'next', 'so', 'else', 'ltd', 'whoever', 'system', 'twelve', 'must', 'mostly', 'it', 'in', 'everything', 'due', 'already', 'from', 'thereafter', 'elsewhere', 'moreover', 'everywhere', 'to', 'whereby', 'yours', 'wherever', 'what', 'whose', 'sixty', 'my', 'thus', 'move', 'put', 'through', 'upon', 'be', 'yet', 'off', 'somewhere', 'the', 'least', 'beside', 'afterwards', 'none', 'since', 'should', 'serious', 'describe', 'nothing', 'those', 'anyhow', 'its', 'himself', 'ie', 'each', 'is', 'keep', 'enough', 'fire', 'then', 'whither', 'or', 'otherwise', 'almost', 'everyone', 'hence', 'above', 'noone', 'both', 'that', 'namely', 'often', 'being', 'below', 'anything', 'me', 'why', 'towards', 'amount', 'an', 'once', 'sometime', 'themselves', 'eleven', 'further', 'someone', 'also', 'get', 'into', 'third', 'well', 'ours', 'had', 'except', 'as', 'hereupon', 'could', 'nine', 'found', 'thin', 'back', 'how', 'whereupon', 'sincere', 'every', 'six', 'about', 'across', 'their', 'few', 'mill', 'hasnt', 'somehow', 'during', 'besides', 'take', 'yourselves', 'any', 'after', 'such', 'because', 'most', 'many', 'around', 'per', 'anyway', 'they', 'thru', 'within', 'before', 'others', 'by', 'couldnt', 'fifty', 'whenever', 'down', 'interest', 'whereafter', 'between', 'only', 'toward', 'therefore', 'became', 'along', 'anyone', 'find', 'several', 'go', 'although', 'thereby', 'via', 'not', 'whom', 'ever', 'empty', 'mine', 'with', 'never', 'seemed', 'whereas', 'eg', 'myself', 'now', 'nowhere', 'beforehand', 'two', 'other', 'bill', 'us', 'out', 'whole', 'over', 'one', 'hereafter', 'might', 'you', 'and', 'herself', 'hers', 'cannot', 'your', 'nobody', 'these', 'much', 'some', 'where', 'meanwhile', 'becoming', 'she', 'something', 'beyond', 'alone', 'under', 'become', 'show', 'can', 'more', 'a', 'for', 'this', 'we', 'done', 'thence', 'therein', 'sometimes'}\n"
     ]
    }
   ],
   "source": [
    "from sklearn.feature_extraction.text import ENGLISH_STOP_WORDS\n",
    "sklearn_stopwords = set(ENGLISH_STOP_WORDS)\n",
    "print(sklearn_stopwords)"
   ]
  },
  {
   "cell_type": "code",
   "execution_count": 25,
   "metadata": {
    "colab": {
     "base_uri": "https://localhost:8080/"
    },
    "executionInfo": {
     "elapsed": 63,
     "status": "ok",
     "timestamp": 1687025028424,
     "user": {
      "displayName": "Lakshmi Singh",
      "userId": "17047074843456537614"
     },
     "user_tz": -330
    },
    "id": "Xr1g5td6KJfh",
    "outputId": "6671ef04-2704-4c6c-bc8e-9762025695b5"
   },
   "outputs": [
    {
     "data": {
      "text/plain": [
       "318"
      ]
     },
     "execution_count": 25,
     "metadata": {},
     "output_type": "execute_result"
    }
   ],
   "source": [
    "len(sklearn_stopwords)"
   ]
  },
  {
   "cell_type": "code",
   "execution_count": 26,
   "metadata": {
    "colab": {
     "base_uri": "https://localhost:8080/"
    },
    "executionInfo": {
     "elapsed": 47,
     "status": "ok",
     "timestamp": 1687025028425,
     "user": {
      "displayName": "Lakshmi Singh",
      "userId": "17047074843456537614"
     },
     "user_tz": -330
    },
    "id": "mQLaSNKsKNRM",
    "outputId": "5a0541df-1f2e-4c72-f9b9-b684f55b6656"
   },
   "outputs": [
    {
     "name": "stdout",
     "output_type": "stream",
     "text": [
      "{'do', 'i', 'each', 'is', 'than', 'who', 'there', 'then', 'or', 'at', 'was', 'above', 'have', 'which', 'that', 'both', 'being', 'below', 'very', 'me', 'why', 'his', 'too', 'an', 'he', 'once', 'itself', 'themselves', 'further', 'into', 'were', 'of', 'ours', 'had', 're', 'until', 'him', 'as', 'are', 'how', 'been', 'own', 'same', 'while', 'about', 'their', 'here', 'few', 'but', 'during', 'yourselves', 'any', 'yourself', 'after', 'such', 'will', 'all', 'because', 'most', 'they', 'our', 'when', 'before', 'by', 'am', 'if', 'down', 'nor', 'on', 'between', 'only', 'has', 'no', 'again', 'not', 'against', 'whom', 'with', 'myself', 'them', 'now', 'ourselves', 'her', 'up', 'so', 'other', 'out', 'over', 'you', 'and', 'herself', 'it', 'in', 'hers', 'from', 'your', 'to', 'these', 'yours', 'some', 'where', 'what', 'my', 'through', 'she', 'be', 'under', 'off', 'the', 'can', 'more', 'a', 'for', 'this', 'we', 'should', 'those', 'its', 'himself'}\n"
     ]
    }
   ],
   "source": [
    "# Find the common stopwords from NLTK & sklearn\n",
    "print(nltk_stopwords.intersection(sklearn_stopwords))"
   ]
  },
  {
   "cell_type": "code",
   "execution_count": 27,
   "metadata": {
    "colab": {
     "base_uri": "https://localhost:8080/"
    },
    "executionInfo": {
     "elapsed": 42,
     "status": "ok",
     "timestamp": 1687025028426,
     "user": {
      "displayName": "Lakshmi Singh",
      "userId": "17047074843456537614"
     },
     "user_tz": -330
    },
    "id": "T9BPBpKnKRq4",
    "outputId": "dcccbd0b-ee01-495f-d8d6-7f5830898ea3"
   },
   "outputs": [
    {
     "data": {
      "text/plain": [
       "119"
      ]
     },
     "execution_count": 27,
     "metadata": {},
     "output_type": "execute_result"
    }
   ],
   "source": [
    "len(nltk_stopwords.intersection(sklearn_stopwords))"
   ]
  },
  {
   "cell_type": "code",
   "execution_count": 28,
   "metadata": {
    "executionInfo": {
     "elapsed": 35,
     "status": "ok",
     "timestamp": 1687025028426,
     "user": {
      "displayName": "Lakshmi Singh",
      "userId": "17047074843456537614"
     },
     "user_tz": -330
    },
    "id": "mz4wyKlTKVyb"
   },
   "outputs": [],
   "source": [
    "# Combining the stopwords from sklearn & NLTK\n",
    "combined_stopwords = nltk_stopwords.union(sklearn_stopwords)"
   ]
  },
  {
   "cell_type": "code",
   "execution_count": 29,
   "metadata": {
    "colab": {
     "base_uri": "https://localhost:8080/"
    },
    "executionInfo": {
     "elapsed": 35,
     "status": "ok",
     "timestamp": 1687025028427,
     "user": {
      "displayName": "Lakshmi Singh",
      "userId": "17047074843456537614"
     },
     "user_tz": -330
    },
    "id": "6UitZ09jKZFC",
    "outputId": "dcfa8f11-2ea5-49a1-b094-97ad784b2c07"
   },
   "outputs": [
    {
     "data": {
      "text/plain": [
       "378"
      ]
     },
     "execution_count": 29,
     "metadata": {},
     "output_type": "execute_result"
    }
   ],
   "source": [
    "len(combined_stopwords)"
   ]
  },
  {
   "cell_type": "code",
   "execution_count": 30,
   "metadata": {
    "executionInfo": {
     "elapsed": 29,
     "status": "ok",
     "timestamp": 1687025028427,
     "user": {
      "displayName": "Lakshmi Singh",
      "userId": "17047074843456537614"
     },
     "user_tz": -330
    },
    "id": "uuatiDOAKcC0"
   },
   "outputs": [],
   "source": [
    "# Text Normalization: Stemming or Lemmatization (prefer)\n",
    "from nltk.stem import WordNetLemmatizer\n",
    "lemmatizer = WordNetLemmatizer()\n",
    "#converts the word to its meaningful base form"
   ]
  },
  {
   "cell_type": "code",
   "execution_count": 31,
   "metadata": {
    "colab": {
     "base_uri": "https://localhost:8080/"
    },
    "executionInfo": {
     "elapsed": 30,
     "status": "ok",
     "timestamp": 1687025028428,
     "user": {
      "displayName": "Lakshmi Singh",
      "userId": "17047074843456537614"
     },
     "user_tz": -330
    },
    "id": "OKf0lcZGKgon",
    "outputId": "ff14f7fb-bf47-461a-ce02-de900e466baf"
   },
   "outputs": [
    {
     "data": {
      "text/plain": [
       "[\"you've\", 'really', 'hu', 'my', 'feelings', ':(']"
      ]
     },
     "execution_count": 31,
     "metadata": {},
     "output_type": "execute_result"
    }
   ],
   "source": [
    "data['tweet'][63].split()"
   ]
  },
  {
   "cell_type": "code",
   "execution_count": 32,
   "metadata": {
    "colab": {
     "base_uri": "https://localhost:8080/",
     "height": 70
    },
    "executionInfo": {
     "elapsed": 1794,
     "status": "ok",
     "timestamp": 1687025030197,
     "user": {
      "displayName": "Lakshmi Singh",
      "userId": "17047074843456537614"
     },
     "user_tz": -330
    },
    "id": "cpniMbFhKkeH",
    "outputId": "5ad05626-e54d-4ee5-c2f7-a25d8552fc83"
   },
   "outputs": [
    {
     "name": "stderr",
     "output_type": "stream",
     "text": [
      "[nltk_data] Downloading package wordnet to /root/nltk_data...\n",
      "[nltk_data]   Package wordnet is already up-to-date!\n"
     ]
    },
    {
     "data": {
      "application/vnd.google.colaboratory.intrinsic+json": {
       "type": "string"
      },
      "text/plain": [
       "\"you've really hu my feeling :( \""
      ]
     },
     "execution_count": 32,
     "metadata": {},
     "output_type": "execute_result"
    }
   ],
   "source": [
    "nltk.download('wordnet')\n",
    "new_sent = ''\n",
    "for token in data['tweet'][63].split():\n",
    "    new_sent = new_sent + lemmatizer.lemmatize(token.lower()) + ' '\n",
    "\n",
    "new_sent #it generate lemmanized version"
   ]
  },
  {
   "cell_type": "code",
   "execution_count": 33,
   "metadata": {
    "colab": {
     "base_uri": "https://localhost:8080/"
    },
    "executionInfo": {
     "elapsed": 4453,
     "status": "ok",
     "timestamp": 1687025034623,
     "user": {
      "displayName": "Lakshmi Singh",
      "userId": "17047074843456537614"
     },
     "user_tz": -330
    },
    "id": "zNOthVoP0Qpc",
    "outputId": "bf3e92ea-b553-4479-bdf4-8b2084f9866a"
   },
   "outputs": [
    {
     "name": "stdout",
     "output_type": "stream",
     "text": [
      "Looking in indexes: https://pypi.org/simple, https://us-python.pkg.dev/colab-wheels/public/simple/\n",
      "Requirement already satisfied: contractions in /usr/local/lib/python3.10/dist-packages (0.1.73)\n",
      "Requirement already satisfied: textsearch>=0.0.21 in /usr/local/lib/python3.10/dist-packages (from contractions) (0.0.24)\n",
      "Requirement already satisfied: anyascii in /usr/local/lib/python3.10/dist-packages (from textsearch>=0.0.21->contractions) (0.3.2)\n",
      "Requirement already satisfied: pyahocorasick in /usr/local/lib/python3.10/dist-packages (from textsearch>=0.0.21->contractions) (2.0.0)\n"
     ]
    }
   ],
   "source": [
    "!pip install contractions"
   ]
  },
  {
   "cell_type": "code",
   "execution_count": 34,
   "metadata": {
    "colab": {
     "base_uri": "https://localhost:8080/",
     "height": 35
    },
    "executionInfo": {
     "elapsed": 106,
     "status": "ok",
     "timestamp": 1687025034624,
     "user": {
      "displayName": "Lakshmi Singh",
      "userId": "17047074843456537614"
     },
     "user_tz": -330
    },
    "id": "BSINRZTxKoSE",
    "outputId": "af07b37a-e5e4-4ad1-bce1-3e193b0889b5"
   },
   "outputs": [
    {
     "data": {
      "application/vnd.google.colaboratory.intrinsic+json": {
       "type": "string"
      },
      "text/plain": [
       "' @user #tgif   #ff to my #gamedev #indiedev #indiegamedev #squad! @user @user @user @user @user'"
      ]
     },
     "execution_count": 34,
     "metadata": {},
     "output_type": "execute_result"
    }
   ],
   "source": [
    "import contractions\n",
    "data['tweet'][24]"
   ]
  },
  {
   "cell_type": "code",
   "execution_count": 35,
   "metadata": {
    "colab": {
     "base_uri": "https://localhost:8080/",
     "height": 35
    },
    "executionInfo": {
     "elapsed": 106,
     "status": "ok",
     "timestamp": 1687025034626,
     "user": {
      "displayName": "Lakshmi Singh",
      "userId": "17047074843456537614"
     },
     "user_tz": -330
    },
    "id": "t0bhOJunLP4i",
    "outputId": "35580026-30ea-49a6-85c5-5e5bf452b0c5"
   },
   "outputs": [
    {
     "data": {
      "application/vnd.google.colaboratory.intrinsic+json": {
       "type": "string"
      },
      "text/plain": [
       "' @user #tgif   #ff to my #gamedev #indiedev #indiegamedev #squad! @user @user @user @user @user'"
      ]
     },
     "execution_count": 35,
     "metadata": {},
     "output_type": "execute_result"
    }
   ],
   "source": [
    "contractions.fix(data['tweet'][24])"
   ]
  },
  {
   "cell_type": "markdown",
   "metadata": {
    "id": "0FkES19WtK0Y"
   },
   "source": [
    "define cleaner function to clean the tweet"
   ]
  },
  {
   "cell_type": "code",
   "execution_count": 36,
   "metadata": {
    "executionInfo": {
     "elapsed": 113,
     "status": "ok",
     "timestamp": 1687025034636,
     "user": {
      "displayName": "Lakshmi Singh",
      "userId": "17047074843456537614"
     },
     "user_tz": -330
    },
    "id": "JvwoGCYSLUqU"
   },
   "outputs": [],
   "source": [
    "import re"
   ]
  },
  {
   "cell_type": "code",
   "execution_count": 37,
   "metadata": {
    "executionInfo": {
     "elapsed": 114,
     "status": "ok",
     "timestamp": 1687025034637,
     "user": {
      "displayName": "Lakshmi Singh",
      "userId": "17047074843456537614"
     },
     "user_tz": -330
    },
    "id": "0P9b4t8eLX2J"
   },
   "outputs": [],
   "source": [
    "def tweet_cleaner_without_stopwords(text):\n",
    "    new_text = re.sub(r\"'s\\b\", \" is\", text)\n",
    "    new_text = re.sub(\"#\", \"\", new_text)\n",
    "    new_text = re.sub(\"@[A-Za-z0-9]+\", \"\", new_text)\n",
    "    new_text = re.sub(r\"http\\S+\", \"\", new_text)\n",
    "    new_text = contractions.fix(new_text)\n",
    "    new_text = re.sub(r\"[^a-zA-Z]\", \" \", new_text)\n",
    "    new_text = new_text.lower().strip()\n",
    "\n",
    "    cleaned_text = ''\n",
    "    for token in new_text.split():\n",
    "        cleaned_text = cleaned_text + lemmatizer.lemmatize(token) + ' '\n",
    "\n",
    "    return cleaned_text"
   ]
  },
  {
   "cell_type": "code",
   "execution_count": 38,
   "metadata": {
    "executionInfo": {
     "elapsed": 115,
     "status": "ok",
     "timestamp": 1687025034638,
     "user": {
      "displayName": "Lakshmi Singh",
      "userId": "17047074843456537614"
     },
     "user_tz": -330
    },
    "id": "yGSZTXtSLb4T"
   },
   "outputs": [],
   "source": [
    "cleaned_tweets = []  # list of cleaned tweets\n",
    "for twt in data['tweet']:\n",
    "    cleaned_tweets.append(tweet_cleaner_without_stopwords(twt))"
   ]
  },
  {
   "cell_type": "code",
   "execution_count": 39,
   "metadata": {
    "colab": {
     "base_uri": "https://localhost:8080/"
    },
    "executionInfo": {
     "elapsed": 115,
     "status": "ok",
     "timestamp": 1687025034639,
     "user": {
      "displayName": "Lakshmi Singh",
      "userId": "17047074843456537614"
     },
     "user_tz": -330
    },
    "id": "C4bqlz0oLhl8",
    "outputId": "9c3810fb-fd5b-40a9-bfb8-98062fb073a9"
   },
   "outputs": [
    {
     "data": {
      "text/plain": [
       "['when a father is dysfunctional and is so selfish he drag his kid into his dysfunction run ',\n",
       " 'thanks for lyft credit i cannot use because they do not offer wheelchair van in pdx disapointed getthanked ',\n",
       " 'bihday your majesty ',\n",
       " 'model i love you take with you all the time in you are ',\n",
       " 'factsguide society now motivation ']"
      ]
     },
     "execution_count": 39,
     "metadata": {},
     "output_type": "execute_result"
    }
   ],
   "source": [
    "cleaned_tweets[:5]"
   ]
  },
  {
   "cell_type": "code",
   "execution_count": 40,
   "metadata": {
    "colab": {
     "base_uri": "https://localhost:8080/",
     "height": 35
    },
    "executionInfo": {
     "elapsed": 104,
     "status": "ok",
     "timestamp": 1687025034640,
     "user": {
      "displayName": "Lakshmi Singh",
      "userId": "17047074843456537614"
     },
     "user_tz": -330
    },
    "id": "6OG7YSrqLk0R",
    "outputId": "24f49e3c-a73d-4b52-ba4b-dde79561e087"
   },
   "outputs": [
    {
     "data": {
      "application/vnd.google.colaboratory.intrinsic+json": {
       "type": "string"
      },
      "text/plain": [
       "'tgif ff to my gamedev indiedev indiegamedev squad '"
      ]
     },
     "execution_count": 40,
     "metadata": {},
     "output_type": "execute_result"
    }
   ],
   "source": [
    "cleaned_tweets[24]"
   ]
  },
  {
   "cell_type": "code",
   "execution_count": 41,
   "metadata": {
    "colab": {
     "base_uri": "https://localhost:8080/",
     "height": 35
    },
    "executionInfo": {
     "elapsed": 105,
     "status": "ok",
     "timestamp": 1687025034644,
     "user": {
      "displayName": "Lakshmi Singh",
      "userId": "17047074843456537614"
     },
     "user_tz": -330
    },
    "id": "yaiuY1ZdLpCW",
    "outputId": "16efadd1-abf6-4dfd-8bd3-a6bd8094809e"
   },
   "outputs": [
    {
     "data": {
      "application/vnd.google.colaboratory.intrinsic+json": {
       "type": "string"
      },
      "text/plain": [
       "'alreemgroup #aly_alshahawy #ad #cute #summer #photographerdubai #sun   #hair #mydubai… '"
      ]
     },
     "execution_count": 41,
     "metadata": {},
     "output_type": "execute_result"
    }
   ],
   "source": [
    "data['tweet'][200]"
   ]
  },
  {
   "cell_type": "code",
   "execution_count": 42,
   "metadata": {
    "colab": {
     "base_uri": "https://localhost:8080/"
    },
    "executionInfo": {
     "elapsed": 104,
     "status": "ok",
     "timestamp": 1687025034645,
     "user": {
      "displayName": "Lakshmi Singh",
      "userId": "17047074843456537614"
     },
     "user_tz": -330
    },
    "id": "zoLSqGSnLz7L",
    "outputId": "e4d5c03e-4c29-4fb0-bb6a-0c4b160bbf6d"
   },
   "outputs": [
    {
     "data": {
      "text/plain": [
       "['alreemgroup',\n",
       " '#aly_alshahawy',\n",
       " '#ad',\n",
       " '#cute',\n",
       " '#summer',\n",
       " '#photographerdubai',\n",
       " '#sun',\n",
       " '#hair',\n",
       " '#mydubai…']"
      ]
     },
     "execution_count": 42,
     "metadata": {},
     "output_type": "execute_result"
    }
   ],
   "source": [
    "data['tweet'][200].split()"
   ]
  },
  {
   "cell_type": "code",
   "execution_count": 43,
   "metadata": {
    "colab": {
     "base_uri": "https://localhost:8080/",
     "height": 35
    },
    "executionInfo": {
     "elapsed": 101,
     "status": "ok",
     "timestamp": 1687025034647,
     "user": {
      "displayName": "Lakshmi Singh",
      "userId": "17047074843456537614"
     },
     "user_tz": -330
    },
    "id": "MIiPdXyML4gS",
    "outputId": "0a899dde-d197-4873-fcfc-759ac89172e1"
   },
   "outputs": [
    {
     "data": {
      "application/vnd.google.colaboratory.intrinsic+json": {
       "type": "string"
      },
      "text/plain": [
       "'alreemgroup aly alshahawy ad cute summer photographerdubai sun hair mydubai '"
      ]
     },
     "execution_count": 43,
     "metadata": {},
     "output_type": "execute_result"
    }
   ],
   "source": [
    "cleaned_tweets[200]"
   ]
  },
  {
   "cell_type": "code",
   "execution_count": 44,
   "metadata": {
    "colab": {
     "base_uri": "https://localhost:8080/",
     "height": 285
    },
    "executionInfo": {
     "elapsed": 103,
     "status": "ok",
     "timestamp": 1687025034652,
     "user": {
      "displayName": "Lakshmi Singh",
      "userId": "17047074843456537614"
     },
     "user_tz": -330
    },
    "id": "Ro-6CFNSL-F0",
    "outputId": "6c0949fe-098f-4a56-d116-d560c8b25772"
   },
   "outputs": [
    {
     "data": {
      "text/html": [
       "\n",
       "  <div id=\"df-46a2c561-a0b7-4a43-81cc-fce31e34afc7\">\n",
       "    <div class=\"colab-df-container\">\n",
       "      <div>\n",
       "<style scoped>\n",
       "    .dataframe tbody tr th:only-of-type {\n",
       "        vertical-align: middle;\n",
       "    }\n",
       "\n",
       "    .dataframe tbody tr th {\n",
       "        vertical-align: top;\n",
       "    }\n",
       "\n",
       "    .dataframe thead th {\n",
       "        text-align: right;\n",
       "    }\n",
       "</style>\n",
       "<table border=\"1\" class=\"dataframe\">\n",
       "  <thead>\n",
       "    <tr style=\"text-align: right;\">\n",
       "      <th></th>\n",
       "      <th>id</th>\n",
       "      <th>label</th>\n",
       "      <th>tweet</th>\n",
       "      <th>cleaned_tweets_w/o_SW</th>\n",
       "    </tr>\n",
       "  </thead>\n",
       "  <tbody>\n",
       "    <tr>\n",
       "      <th>0</th>\n",
       "      <td>1</td>\n",
       "      <td>0</td>\n",
       "      <td>@user when a father is dysfunctional and is so selfish he drags his kids into his dysfunction.   #run</td>\n",
       "      <td>when a father is dysfunctional and is so selfish he drag his kid into his dysfunction run</td>\n",
       "    </tr>\n",
       "    <tr>\n",
       "      <th>1</th>\n",
       "      <td>2</td>\n",
       "      <td>0</td>\n",
       "      <td>@user @user thanks for #lyft credit i can't use cause they don't offer wheelchair vans in pdx.    #disapointed #getthanked</td>\n",
       "      <td>thanks for lyft credit i cannot use because they do not offer wheelchair van in pdx disapointed getthanked</td>\n",
       "    </tr>\n",
       "    <tr>\n",
       "      <th>2</th>\n",
       "      <td>3</td>\n",
       "      <td>0</td>\n",
       "      <td>bihday your majesty</td>\n",
       "      <td>bihday your majesty</td>\n",
       "    </tr>\n",
       "    <tr>\n",
       "      <th>3</th>\n",
       "      <td>4</td>\n",
       "      <td>0</td>\n",
       "      <td>#model   i love u take with u all the time in ur📱!!! 😙😎👄👅💦💦💦</td>\n",
       "      <td>model i love you take with you all the time in you are</td>\n",
       "    </tr>\n",
       "    <tr>\n",
       "      <th>4</th>\n",
       "      <td>5</td>\n",
       "      <td>0</td>\n",
       "      <td>factsguide: society now    #motivation</td>\n",
       "      <td>factsguide society now motivation</td>\n",
       "    </tr>\n",
       "  </tbody>\n",
       "</table>\n",
       "</div>\n",
       "      <button class=\"colab-df-convert\" onclick=\"convertToInteractive('df-46a2c561-a0b7-4a43-81cc-fce31e34afc7')\"\n",
       "              title=\"Convert this dataframe to an interactive table.\"\n",
       "              style=\"display:none;\">\n",
       "        \n",
       "  <svg xmlns=\"http://www.w3.org/2000/svg\" height=\"24px\"viewBox=\"0 0 24 24\"\n",
       "       width=\"24px\">\n",
       "    <path d=\"M0 0h24v24H0V0z\" fill=\"none\"/>\n",
       "    <path d=\"M18.56 5.44l.94 2.06.94-2.06 2.06-.94-2.06-.94-.94-2.06-.94 2.06-2.06.94zm-11 1L8.5 8.5l.94-2.06 2.06-.94-2.06-.94L8.5 2.5l-.94 2.06-2.06.94zm10 10l.94 2.06.94-2.06 2.06-.94-2.06-.94-.94-2.06-.94 2.06-2.06.94z\"/><path d=\"M17.41 7.96l-1.37-1.37c-.4-.4-.92-.59-1.43-.59-.52 0-1.04.2-1.43.59L10.3 9.45l-7.72 7.72c-.78.78-.78 2.05 0 2.83L4 21.41c.39.39.9.59 1.41.59.51 0 1.02-.2 1.41-.59l7.78-7.78 2.81-2.81c.8-.78.8-2.07 0-2.86zM5.41 20L4 18.59l7.72-7.72 1.47 1.35L5.41 20z\"/>\n",
       "  </svg>\n",
       "      </button>\n",
       "      \n",
       "  <style>\n",
       "    .colab-df-container {\n",
       "      display:flex;\n",
       "      flex-wrap:wrap;\n",
       "      gap: 12px;\n",
       "    }\n",
       "\n",
       "    .colab-df-convert {\n",
       "      background-color: #E8F0FE;\n",
       "      border: none;\n",
       "      border-radius: 50%;\n",
       "      cursor: pointer;\n",
       "      display: none;\n",
       "      fill: #1967D2;\n",
       "      height: 32px;\n",
       "      padding: 0 0 0 0;\n",
       "      width: 32px;\n",
       "    }\n",
       "\n",
       "    .colab-df-convert:hover {\n",
       "      background-color: #E2EBFA;\n",
       "      box-shadow: 0px 1px 2px rgba(60, 64, 67, 0.3), 0px 1px 3px 1px rgba(60, 64, 67, 0.15);\n",
       "      fill: #174EA6;\n",
       "    }\n",
       "\n",
       "    [theme=dark] .colab-df-convert {\n",
       "      background-color: #3B4455;\n",
       "      fill: #D2E3FC;\n",
       "    }\n",
       "\n",
       "    [theme=dark] .colab-df-convert:hover {\n",
       "      background-color: #434B5C;\n",
       "      box-shadow: 0px 1px 3px 1px rgba(0, 0, 0, 0.15);\n",
       "      filter: drop-shadow(0px 1px 2px rgba(0, 0, 0, 0.3));\n",
       "      fill: #FFFFFF;\n",
       "    }\n",
       "  </style>\n",
       "\n",
       "      <script>\n",
       "        const buttonEl =\n",
       "          document.querySelector('#df-46a2c561-a0b7-4a43-81cc-fce31e34afc7 button.colab-df-convert');\n",
       "        buttonEl.style.display =\n",
       "          google.colab.kernel.accessAllowed ? 'block' : 'none';\n",
       "\n",
       "        async function convertToInteractive(key) {\n",
       "          const element = document.querySelector('#df-46a2c561-a0b7-4a43-81cc-fce31e34afc7');\n",
       "          const dataTable =\n",
       "            await google.colab.kernel.invokeFunction('convertToInteractive',\n",
       "                                                     [key], {});\n",
       "          if (!dataTable) return;\n",
       "\n",
       "          const docLinkHtml = 'Like what you see? Visit the ' +\n",
       "            '<a target=\"_blank\" href=https://colab.research.google.com/notebooks/data_table.ipynb>data table notebook</a>'\n",
       "            + ' to learn more about interactive tables.';\n",
       "          element.innerHTML = '';\n",
       "          dataTable['output_type'] = 'display_data';\n",
       "          await google.colab.output.renderOutput(dataTable, element);\n",
       "          const docLink = document.createElement('div');\n",
       "          docLink.innerHTML = docLinkHtml;\n",
       "          element.appendChild(docLink);\n",
       "        }\n",
       "      </script>\n",
       "    </div>\n",
       "  </div>\n",
       "  "
      ],
      "text/plain": [
       "   id  label  \\\n",
       "0   1      0   \n",
       "1   2      0   \n",
       "2   3      0   \n",
       "3   4      0   \n",
       "4   5      0   \n",
       "\n",
       "                                                                                                                        tweet  \\\n",
       "0                       @user when a father is dysfunctional and is so selfish he drags his kids into his dysfunction.   #run   \n",
       "1  @user @user thanks for #lyft credit i can't use cause they don't offer wheelchair vans in pdx.    #disapointed #getthanked   \n",
       "2                                                                                                         bihday your majesty   \n",
       "3                                                              #model   i love u take with u all the time in ur📱!!! 😙😎👄👅💦💦💦     \n",
       "4                                                                                      factsguide: society now    #motivation   \n",
       "\n",
       "                                                                                         cleaned_tweets_w/o_SW  \n",
       "0                   when a father is dysfunctional and is so selfish he drag his kid into his dysfunction run   \n",
       "1  thanks for lyft credit i cannot use because they do not offer wheelchair van in pdx disapointed getthanked   \n",
       "2                                                                                         bihday your majesty   \n",
       "3                                                      model i love you take with you all the time in you are   \n",
       "4                                                                           factsguide society now motivation   "
      ]
     },
     "execution_count": 44,
     "metadata": {},
     "output_type": "execute_result"
    }
   ],
   "source": [
    "data['cleaned_tweets_w/o_SW'] = cleaned_tweets\n",
    "data.head()"
   ]
  },
  {
   "cell_type": "markdown",
   "metadata": {
    "id": "asEAbxM6uBg4"
   },
   "source": [
    "Data visualization"
   ]
  },
  {
   "cell_type": "code",
   "execution_count": 45,
   "metadata": {
    "colab": {
     "base_uri": "https://localhost:8080/"
    },
    "executionInfo": {
     "elapsed": 104,
     "status": "ok",
     "timestamp": 1687025034655,
     "user": {
      "displayName": "Lakshmi Singh",
      "userId": "17047074843456537614"
     },
     "user_tz": -330
    },
    "id": "lSQuJhwiMCTO",
    "outputId": "58f3a073-2a22-4ea6-d0b3-ac96a803fd16"
   },
   "outputs": [
    {
     "name": "stdout",
     "output_type": "stream",
     "text": [
      "['@user', 'when', 'a', 'father', 'is', 'dysfunctional', 'and', 'is', 'so', 'selfish', 'he', 'drags', 'his', 'kids', 'into', 'his', 'dysfunction.', '#run', '@user', '@user', 'thanks', 'for', '#lyft', 'credit', 'i', \"can't\", 'use', 'cause', 'they', \"don't\", 'offer', 'wheelchair', 'vans', 'in', 'pdx.', '#disapointed', '#getthanked', 'bihday', 'your', 'majesty', '#model', 'i', 'love', 'u', 'take', 'with', 'u', 'all', 'the', 'time']\n"
     ]
    },
    {
     "data": {
      "text/plain": [
       "1941"
      ]
     },
     "execution_count": 45,
     "metadata": {},
     "output_type": "execute_result"
    }
   ],
   "source": [
    "#to collect all the words from all the tweets into a single list\n",
    "all_words = []\n",
    "for t in data['tweet']:\n",
    "    all_words.extend(t.split())\n",
    "\n",
    "print(all_words[:50])\n",
    "len(set(all_words)) # this is the number of unique words in the list"
   ]
  },
  {
   "cell_type": "code",
   "execution_count": 46,
   "metadata": {
    "executionInfo": {
     "elapsed": 102,
     "status": "ok",
     "timestamp": 1687025034659,
     "user": {
      "displayName": "Lakshmi Singh",
      "userId": "17047074843456537614"
     },
     "user_tz": -330
    },
    "id": "Uua4f5pxML2C"
   },
   "outputs": [],
   "source": [
    "import matplotlib.pyplot as plt"
   ]
  },
  {
   "cell_type": "code",
   "execution_count": 47,
   "metadata": {
    "colab": {
     "base_uri": "https://localhost:8080/",
     "height": 539
    },
    "executionInfo": {
     "elapsed": 1193,
     "status": "ok",
     "timestamp": 1687025035751,
     "user": {
      "displayName": "Lakshmi Singh",
      "userId": "17047074843456537614"
     },
     "user_tz": -330
    },
    "id": "WX2-vwkxMOs3",
    "outputId": "a6085def-f074-4e02-a773-4eceb2edd3e4"
   },
   "outputs": [
    {
     "data": {
      "image/png": "[encoded data removed]",
      "text/plain": [
       "<Figure size 1200x500 with 1 Axes>"
      ]
     },
     "metadata": {},
     "output_type": "display_data"
    }
   ],
   "source": [
    "# Frequency Distribution\n",
    "freq_dist = nltk.FreqDist(all_words)\n",
    "\n",
    "plt.figure(figsize=(12,5))\n",
    "plt.title('Top 25 most common words')\n",
    "plt.xticks(fontsize=15)\n",
    "\n",
    "freq_dist.plot(25, cumulative=False)\n",
    "\n",
    "plt.show()"
   ]
  },
  {
   "cell_type": "code",
   "execution_count": 48,
   "metadata": {
    "colab": {
     "base_uri": "https://localhost:8080/"
    },
    "executionInfo": {
     "elapsed": 34,
     "status": "ok",
     "timestamp": 1687025035754,
     "user": {
      "displayName": "Lakshmi Singh",
      "userId": "17047074843456537614"
     },
     "user_tz": -330
    },
    "id": "NJQV7cXEMUli",
    "outputId": "4d6c3748-7ac8-406c-c1c3-ba02cf935bdf"
   },
   "outputs": [
    {
     "name": "stdout",
     "output_type": "stream",
     "text": [
      "['when', 'a', 'father', 'is', 'dysfunctional', 'and', 'is', 'so', 'selfish', 'he', 'drag', 'his', 'kid', 'into', 'his', 'dysfunction', 'run', 'thanks', 'for', 'lyft', 'credit', 'i', 'cannot', 'use', 'because', 'they', 'do', 'not', 'offer', 'wheelchair', 'van', 'in', 'pdx', 'disapointed', 'getthanked', 'bihday', 'your', 'majesty', 'model', 'i', 'love', 'you', 'take', 'with', 'you', 'all', 'the', 'time', 'in', 'you']\n"
     ]
    }
   ],
   "source": [
    "#for plotting the cleaned tweets\n",
    "all_words = []\n",
    "for t in data['cleaned_tweets_w/o_SW']:\n",
    "    all_words.extend(t.split())\n",
    "\n",
    "print(all_words[:50])"
   ]
  },
  {
   "cell_type": "code",
   "execution_count": 49,
   "metadata": {
    "colab": {
     "base_uri": "https://localhost:8080/"
    },
    "executionInfo": {
     "elapsed": 28,
     "status": "ok",
     "timestamp": 1687025035756,
     "user": {
      "displayName": "Lakshmi Singh",
      "userId": "17047074843456537614"
     },
     "user_tz": -330
    },
    "id": "ZllLPIbdMYi5",
    "outputId": "ac55658a-3467-49ee-c995-5e7f68787a5a"
   },
   "outputs": [
    {
     "data": {
      "text/plain": [
       "1455"
      ]
     },
     "execution_count": 49,
     "metadata": {},
     "output_type": "execute_result"
    }
   ],
   "source": [
    "len(set(all_words)) # this is the number of unique words in the list"
   ]
  },
  {
   "cell_type": "code",
   "execution_count": 50,
   "metadata": {
    "colab": {
     "base_uri": "https://localhost:8080/",
     "height": 524
    },
    "executionInfo": {
     "elapsed": 1056,
     "status": "ok",
     "timestamp": 1687025036794,
     "user": {
      "displayName": "Lakshmi Singh",
      "userId": "17047074843456537614"
     },
     "user_tz": -330
    },
    "id": "VDoOUZ6uMcKQ",
    "outputId": "a67f13ff-7bfa-4f6c-eb82-50b6052c7993"
   },
   "outputs": [
    {
     "data": {
      "image/png": "[encoded data removed]",
      "text/plain": [
       "<Figure size 1200x500 with 1 Axes>"
      ]
     },
     "metadata": {},
     "output_type": "display_data"
    }
   ],
   "source": [
    "# Frequency Distribution\n",
    "freq_dist = nltk.FreqDist(all_words)\n",
    "\n",
    "plt.figure(figsize=(12,5))\n",
    "plt.title('Top 25 most common words')\n",
    "plt.xticks(fontsize=15)\n",
    "\n",
    "freq_dist.plot(25, cumulative=False)\n",
    "\n",
    "plt.show()"
   ]
  },
  {
   "cell_type": "code",
   "execution_count": 51,
   "metadata": {
    "colab": {
     "base_uri": "https://localhost:8080/"
    },
    "executionInfo": {
     "elapsed": 42,
     "status": "ok",
     "timestamp": 1687025036795,
     "user": {
      "displayName": "Lakshmi Singh",
      "userId": "17047074843456537614"
     },
     "user_tz": -330
    },
    "id": "JhIE8m3rMggI",
    "outputId": "5c5cc5c1-23cb-4671-fdfe-c0ada980679a"
   },
   "outputs": [
    {
     "data": {
      "text/plain": [
       "set"
      ]
     },
     "execution_count": 51,
     "metadata": {},
     "output_type": "execute_result"
    }
   ],
   "source": [
    "type(combined_stopwords)"
   ]
  },
  {
   "cell_type": "code",
   "execution_count": 52,
   "metadata": {
    "executionInfo": {
     "elapsed": 36,
     "status": "ok",
     "timestamp": 1687025036796,
     "user": {
      "displayName": "Lakshmi Singh",
      "userId": "17047074843456537614"
     },
     "user_tz": -330
    },
    "id": "Ua1SohEYMlwg"
   },
   "outputs": [],
   "source": [
    "def tweet_cleaner_with_stopwords(text):\n",
    "    new_text = re.sub(r\"'s\\b\", \" is\", text)\n",
    "    new_text = re.sub(\"#\", \"\", new_text)\n",
    "    new_text = re.sub(\"@[A-Za-z0-9]+\", \"\", new_text)\n",
    "    new_text = re.sub(r\"http\\S+\", \"\", new_text)\n",
    "    new_text = contractions.fix(new_text)\n",
    "    new_text = re.sub(r\"[^a-zA-Z]\", \" \", new_text)\n",
    "    new_text = new_text.lower().strip()\n",
    "\n",
    "    new_text = [token for token in new_text.split() if token not in combined_stopwords]\n",
    "\n",
    "    new_text = [token for token in new_text if len(token)>2]\n",
    "\n",
    "    cleaned_text = ''\n",
    "    for token in new_text:\n",
    "        cleaned_text = cleaned_text + lemmatizer.lemmatize(token) + ' '\n",
    "\n",
    "    return cleaned_text\n",
    "    #defination to calculates the frequency distribution of words i"
   ]
  },
  {
   "cell_type": "code",
   "execution_count": 53,
   "metadata": {
    "colab": {
     "base_uri": "https://localhost:8080/"
    },
    "executionInfo": {
     "elapsed": 37,
     "status": "ok",
     "timestamp": 1687025036799,
     "user": {
      "displayName": "Lakshmi Singh",
      "userId": "17047074843456537614"
     },
     "user_tz": -330
    },
    "id": "2s894o-eMpbs",
    "outputId": "4bc46dbd-5df4-4fe5-df01-57690788d08a"
   },
   "outputs": [
    {
     "name": "stdout",
     "output_type": "stream",
     "text": [
      "['father dysfunctional selfish drag kid dysfunction run ', 'thanks lyft credit use offer wheelchair van pdx disapointed getthanked ', 'bihday majesty ', 'model love time ', 'factsguide society motivation ', 'huge fan fare big talking leave chaos pay dispute allshowandnogo ', 'camping tomorrow danny ', 'school year year exam think school exam hate imagine actorslife revolutionschool girl ', 'love land allin cavs champion cleveland clevelandcavaliers ', 'welcome ']\n"
     ]
    }
   ],
   "source": [
    "cleaned_tweets = list(data['tweet'].apply(tweet_cleaner_with_stopwords))\n",
    "print(cleaned_tweets[:10])"
   ]
  },
  {
   "cell_type": "code",
   "execution_count": 54,
   "metadata": {
    "colab": {
     "base_uri": "https://localhost:8080/",
     "height": 302
    },
    "executionInfo": {
     "elapsed": 35,
     "status": "ok",
     "timestamp": 1687025036801,
     "user": {
      "displayName": "Lakshmi Singh",
      "userId": "17047074843456537614"
     },
     "user_tz": -330
    },
    "id": "D0q2yTKWMvsA",
    "outputId": "3d2a00bf-063e-4130-e1dd-0ee7b1ef40cd"
   },
   "outputs": [
    {
     "data": {
      "text/html": [
       "\n",
       "  <div id=\"df-0492809b-bd94-49a5-928d-da0cde57c314\">\n",
       "    <div class=\"colab-df-container\">\n",
       "      <div>\n",
       "<style scoped>\n",
       "    .dataframe tbody tr th:only-of-type {\n",
       "        vertical-align: middle;\n",
       "    }\n",
       "\n",
       "    .dataframe tbody tr th {\n",
       "        vertical-align: top;\n",
       "    }\n",
       "\n",
       "    .dataframe thead th {\n",
       "        text-align: right;\n",
       "    }\n",
       "</style>\n",
       "<table border=\"1\" class=\"dataframe\">\n",
       "  <thead>\n",
       "    <tr style=\"text-align: right;\">\n",
       "      <th></th>\n",
       "      <th>id</th>\n",
       "      <th>label</th>\n",
       "      <th>tweet</th>\n",
       "      <th>cleaned_tweets_w/o_SW</th>\n",
       "      <th>cleaned_tweets_with_SW</th>\n",
       "    </tr>\n",
       "  </thead>\n",
       "  <tbody>\n",
       "    <tr>\n",
       "      <th>0</th>\n",
       "      <td>1</td>\n",
       "      <td>0</td>\n",
       "      <td>@user when a father is dysfunctional and is so selfish he drags his kids into his dysfunction.   #run</td>\n",
       "      <td>when a father is dysfunctional and is so selfish he drag his kid into his dysfunction run</td>\n",
       "      <td>father dysfunctional selfish drag kid dysfunction run</td>\n",
       "    </tr>\n",
       "    <tr>\n",
       "      <th>1</th>\n",
       "      <td>2</td>\n",
       "      <td>0</td>\n",
       "      <td>@user @user thanks for #lyft credit i can't use cause they don't offer wheelchair vans in pdx.    #disapointed #getthanked</td>\n",
       "      <td>thanks for lyft credit i cannot use because they do not offer wheelchair van in pdx disapointed getthanked</td>\n",
       "      <td>thanks lyft credit use offer wheelchair van pdx disapointed getthanked</td>\n",
       "    </tr>\n",
       "    <tr>\n",
       "      <th>2</th>\n",
       "      <td>3</td>\n",
       "      <td>0</td>\n",
       "      <td>bihday your majesty</td>\n",
       "      <td>bihday your majesty</td>\n",
       "      <td>bihday majesty</td>\n",
       "    </tr>\n",
       "    <tr>\n",
       "      <th>3</th>\n",
       "      <td>4</td>\n",
       "      <td>0</td>\n",
       "      <td>#model   i love u take with u all the time in ur📱!!! 😙😎👄👅💦💦💦</td>\n",
       "      <td>model i love you take with you all the time in you are</td>\n",
       "      <td>model love time</td>\n",
       "    </tr>\n",
       "    <tr>\n",
       "      <th>4</th>\n",
       "      <td>5</td>\n",
       "      <td>0</td>\n",
       "      <td>factsguide: society now    #motivation</td>\n",
       "      <td>factsguide society now motivation</td>\n",
       "      <td>factsguide society motivation</td>\n",
       "    </tr>\n",
       "  </tbody>\n",
       "</table>\n",
       "</div>\n",
       "      <button class=\"colab-df-convert\" onclick=\"convertToInteractive('df-0492809b-bd94-49a5-928d-da0cde57c314')\"\n",
       "              title=\"Convert this dataframe to an interactive table.\"\n",
       "              style=\"display:none;\">\n",
       "        \n",
       "  <svg xmlns=\"http://www.w3.org/2000/svg\" height=\"24px\"viewBox=\"0 0 24 24\"\n",
       "       width=\"24px\">\n",
       "    <path d=\"M0 0h24v24H0V0z\" fill=\"none\"/>\n",
       "    <path d=\"M18.56 5.44l.94 2.06.94-2.06 2.06-.94-2.06-.94-.94-2.06-.94 2.06-2.06.94zm-11 1L8.5 8.5l.94-2.06 2.06-.94-2.06-.94L8.5 2.5l-.94 2.06-2.06.94zm10 10l.94 2.06.94-2.06 2.06-.94-2.06-.94-.94-2.06-.94 2.06-2.06.94z\"/><path d=\"M17.41 7.96l-1.37-1.37c-.4-.4-.92-.59-1.43-.59-.52 0-1.04.2-1.43.59L10.3 9.45l-7.72 7.72c-.78.78-.78 2.05 0 2.83L4 21.41c.39.39.9.59 1.41.59.51 0 1.02-.2 1.41-.59l7.78-7.78 2.81-2.81c.8-.78.8-2.07 0-2.86zM5.41 20L4 18.59l7.72-7.72 1.47 1.35L5.41 20z\"/>\n",
       "  </svg>\n",
       "      </button>\n",
       "      \n",
       "  <style>\n",
       "    .colab-df-container {\n",
       "      display:flex;\n",
       "      flex-wrap:wrap;\n",
       "      gap: 12px;\n",
       "    }\n",
       "\n",
       "    .colab-df-convert {\n",
       "      background-color: #E8F0FE;\n",
       "      border: none;\n",
       "      border-radius: 50%;\n",
       "      cursor: pointer;\n",
       "      display: none;\n",
       "      fill: #1967D2;\n",
       "      height: 32px;\n",
       "      padding: 0 0 0 0;\n",
       "      width: 32px;\n",
       "    }\n",
       "\n",
       "    .colab-df-convert:hover {\n",
       "      background-color: #E2EBFA;\n",
       "      box-shadow: 0px 1px 2px rgba(60, 64, 67, 0.3), 0px 1px 3px 1px rgba(60, 64, 67, 0.15);\n",
       "      fill: #174EA6;\n",
       "    }\n",
       "\n",
       "    [theme=dark] .colab-df-convert {\n",
       "      background-color: #3B4455;\n",
       "      fill: #D2E3FC;\n",
       "    }\n",
       "\n",
       "    [theme=dark] .colab-df-convert:hover {\n",
       "      background-color: #434B5C;\n",
       "      box-shadow: 0px 1px 3px 1px rgba(0, 0, 0, 0.15);\n",
       "      filter: drop-shadow(0px 1px 2px rgba(0, 0, 0, 0.3));\n",
       "      fill: #FFFFFF;\n",
       "    }\n",
       "  </style>\n",
       "\n",
       "      <script>\n",
       "        const buttonEl =\n",
       "          document.querySelector('#df-0492809b-bd94-49a5-928d-da0cde57c314 button.colab-df-convert');\n",
       "        buttonEl.style.display =\n",
       "          google.colab.kernel.accessAllowed ? 'block' : 'none';\n",
       "\n",
       "        async function convertToInteractive(key) {\n",
       "          const element = document.querySelector('#df-0492809b-bd94-49a5-928d-da0cde57c314');\n",
       "          const dataTable =\n",
       "            await google.colab.kernel.invokeFunction('convertToInteractive',\n",
       "                                                     [key], {});\n",
       "          if (!dataTable) return;\n",
       "\n",
       "          const docLinkHtml = 'Like what you see? Visit the ' +\n",
       "            '<a target=\"_blank\" href=https://colab.research.google.com/notebooks/data_table.ipynb>data table notebook</a>'\n",
       "            + ' to learn more about interactive tables.';\n",
       "          element.innerHTML = '';\n",
       "          dataTable['output_type'] = 'display_data';\n",
       "          await google.colab.output.renderOutput(dataTable, element);\n",
       "          const docLink = document.createElement('div');\n",
       "          docLink.innerHTML = docLinkHtml;\n",
       "          element.appendChild(docLink);\n",
       "        }\n",
       "      </script>\n",
       "    </div>\n",
       "  </div>\n",
       "  "
      ],
      "text/plain": [
       "   id  label  \\\n",
       "0   1      0   \n",
       "1   2      0   \n",
       "2   3      0   \n",
       "3   4      0   \n",
       "4   5      0   \n",
       "\n",
       "                                                                                                                        tweet  \\\n",
       "0                       @user when a father is dysfunctional and is so selfish he drags his kids into his dysfunction.   #run   \n",
       "1  @user @user thanks for #lyft credit i can't use cause they don't offer wheelchair vans in pdx.    #disapointed #getthanked   \n",
       "2                                                                                                         bihday your majesty   \n",
       "3                                                              #model   i love u take with u all the time in ur📱!!! 😙😎👄👅💦💦💦     \n",
       "4                                                                                      factsguide: society now    #motivation   \n",
       "\n",
       "                                                                                         cleaned_tweets_w/o_SW  \\\n",
       "0                   when a father is dysfunctional and is so selfish he drag his kid into his dysfunction run    \n",
       "1  thanks for lyft credit i cannot use because they do not offer wheelchair van in pdx disapointed getthanked    \n",
       "2                                                                                         bihday your majesty    \n",
       "3                                                      model i love you take with you all the time in you are    \n",
       "4                                                                           factsguide society now motivation    \n",
       "\n",
       "                                                    cleaned_tweets_with_SW  \n",
       "0                   father dysfunctional selfish drag kid dysfunction run   \n",
       "1  thanks lyft credit use offer wheelchair van pdx disapointed getthanked   \n",
       "2                                                          bihday majesty   \n",
       "3                                                         model love time   \n",
       "4                                           factsguide society motivation   "
      ]
     },
     "execution_count": 54,
     "metadata": {},
     "output_type": "execute_result"
    }
   ],
   "source": [
    "data.columns\n",
    "data['cleaned_tweets_with_SW'] = cleaned_tweets\n",
    "data.head()"
   ]
  },
  {
   "cell_type": "code",
   "execution_count": 55,
   "metadata": {
    "colab": {
     "base_uri": "https://localhost:8080/",
     "height": 616
    },
    "executionInfo": {
     "elapsed": 1587,
     "status": "ok",
     "timestamp": 1687025038354,
     "user": {
      "displayName": "Lakshmi Singh",
      "userId": "17047074843456537614"
     },
     "user_tz": -330
    },
    "id": "3B5Vr9VuM2Hu",
    "outputId": "1b224918-3357-49ab-b6ad-aed083bb9760"
   },
   "outputs": [
    {
     "name": "stdout",
     "output_type": "stream",
     "text": [
      "['father', 'dysfunctional', 'selfish', 'drag', 'kid', 'dysfunction', 'run', 'thanks', 'lyft', 'credit', 'use', 'offer', 'wheelchair', 'van', 'pdx', 'disapointed', 'getthanked', 'bihday', 'majesty', 'model', 'love', 'time', 'factsguide', 'society', 'motivation', 'huge', 'fan', 'fare', 'big', 'talking', 'leave', 'chaos', 'pay', 'dispute', 'allshowandnogo', 'camping', 'tomorrow', 'danny', 'school', 'year', 'year', 'exam', 'think', 'school', 'exam', 'hate', 'imagine', 'actorslife', 'revolutionschool', 'girl']\n"
     ]
    },
    {
     "data": {
      "image/png": "[encoded data removed]",
      "text/plain": [
       "<Figure size 1200x500 with 1 Axes>"
      ]
     },
     "metadata": {},
     "output_type": "display_data"
    }
   ],
   "source": [
    "all_words = []\n",
    "for t in data['cleaned_tweets_with_SW']:\n",
    "    all_words.extend(t.split())\n",
    "\n",
    "print(all_words[:50])\n",
    "\n",
    "# Frequency Distribution\n",
    "freq_dist = nltk.FreqDist(all_words)\n",
    "\n",
    "plt.figure(figsize=(12,5))\n",
    "plt.title('Top 25 most common words')\n",
    "plt.xticks(fontsize=15)\n",
    "\n",
    "freq_dist.plot(25, cumulative=False)\n",
    "\n",
    "plt.show()\n",
    "# to calculates the frequency distribution of words i"
   ]
  },
  {
   "cell_type": "code",
   "execution_count": 56,
   "metadata": {
    "executionInfo": {
     "elapsed": 343,
     "status": "ok",
     "timestamp": 1687025038360,
     "user": {
      "displayName": "Lakshmi Singh",
      "userId": "17047074843456537614"
     },
     "user_tz": -330
    },
    "id": "YHATCcweM7cJ"
   },
   "outputs": [],
   "source": [
    "domain_stopwords = ['phone', 'mobile', 'twitter', 'rt', 'com', 'follow']\n",
    "final_stopwords = domain_stopwords + list(combined_stopwords)"
   ]
  },
  {
   "cell_type": "code",
   "execution_count": 57,
   "metadata": {
    "colab": {
     "base_uri": "https://localhost:8080/",
     "height": 302
    },
    "executionInfo": {
     "elapsed": 345,
     "status": "ok",
     "timestamp": 1687025038364,
     "user": {
      "displayName": "Lakshmi Singh",
      "userId": "17047074843456537614"
     },
     "user_tz": -330
    },
    "id": "TpCBc0-IM_hm",
    "outputId": "8d338619-6617-4d1c-b3b3-07646c6afc0e"
   },
   "outputs": [
    {
     "data": {
      "text/html": [
       "\n",
       "  <div id=\"df-74629615-923a-4fc8-9037-94bda68cbd0d\">\n",
       "    <div class=\"colab-df-container\">\n",
       "      <div>\n",
       "<style scoped>\n",
       "    .dataframe tbody tr th:only-of-type {\n",
       "        vertical-align: middle;\n",
       "    }\n",
       "\n",
       "    .dataframe tbody tr th {\n",
       "        vertical-align: top;\n",
       "    }\n",
       "\n",
       "    .dataframe thead th {\n",
       "        text-align: right;\n",
       "    }\n",
       "</style>\n",
       "<table border=\"1\" class=\"dataframe\">\n",
       "  <thead>\n",
       "    <tr style=\"text-align: right;\">\n",
       "      <th></th>\n",
       "      <th>id</th>\n",
       "      <th>label</th>\n",
       "      <th>tweet</th>\n",
       "      <th>cleaned_tweets_w/o_SW</th>\n",
       "      <th>cleaned_tweets_with_SW</th>\n",
       "    </tr>\n",
       "  </thead>\n",
       "  <tbody>\n",
       "    <tr>\n",
       "      <th>0</th>\n",
       "      <td>1</td>\n",
       "      <td>0</td>\n",
       "      <td>@user when a father is dysfunctional and is so selfish he drags his kids into his dysfunction.   #run</td>\n",
       "      <td>when a father is dysfunctional and is so selfish he drag his kid into his dysfunction run</td>\n",
       "      <td>father dysfunctional selfish drag kid dysfunction run</td>\n",
       "    </tr>\n",
       "    <tr>\n",
       "      <th>1</th>\n",
       "      <td>2</td>\n",
       "      <td>0</td>\n",
       "      <td>@user @user thanks for #lyft credit i can't use cause they don't offer wheelchair vans in pdx.    #disapointed #getthanked</td>\n",
       "      <td>thanks for lyft credit i cannot use because they do not offer wheelchair van in pdx disapointed getthanked</td>\n",
       "      <td>thanks lyft credit use offer wheelchair van pdx disapointed getthanked</td>\n",
       "    </tr>\n",
       "    <tr>\n",
       "      <th>2</th>\n",
       "      <td>3</td>\n",
       "      <td>0</td>\n",
       "      <td>bihday your majesty</td>\n",
       "      <td>bihday your majesty</td>\n",
       "      <td>bihday majesty</td>\n",
       "    </tr>\n",
       "    <tr>\n",
       "      <th>3</th>\n",
       "      <td>4</td>\n",
       "      <td>0</td>\n",
       "      <td>#model   i love u take with u all the time in ur📱!!! 😙😎👄👅💦💦💦</td>\n",
       "      <td>model i love you take with you all the time in you are</td>\n",
       "      <td>model love time</td>\n",
       "    </tr>\n",
       "    <tr>\n",
       "      <th>4</th>\n",
       "      <td>5</td>\n",
       "      <td>0</td>\n",
       "      <td>factsguide: society now    #motivation</td>\n",
       "      <td>factsguide society now motivation</td>\n",
       "      <td>factsguide society motivation</td>\n",
       "    </tr>\n",
       "  </tbody>\n",
       "</table>\n",
       "</div>\n",
       "      <button class=\"colab-df-convert\" onclick=\"convertToInteractive('df-74629615-923a-4fc8-9037-94bda68cbd0d')\"\n",
       "              title=\"Convert this dataframe to an interactive table.\"\n",
       "              style=\"display:none;\">\n",
       "        \n",
       "  <svg xmlns=\"http://www.w3.org/2000/svg\" height=\"24px\"viewBox=\"0 0 24 24\"\n",
       "       width=\"24px\">\n",
       "    <path d=\"M0 0h24v24H0V0z\" fill=\"none\"/>\n",
       "    <path d=\"M18.56 5.44l.94 2.06.94-2.06 2.06-.94-2.06-.94-.94-2.06-.94 2.06-2.06.94zm-11 1L8.5 8.5l.94-2.06 2.06-.94-2.06-.94L8.5 2.5l-.94 2.06-2.06.94zm10 10l.94 2.06.94-2.06 2.06-.94-2.06-.94-.94-2.06-.94 2.06-2.06.94z\"/><path d=\"M17.41 7.96l-1.37-1.37c-.4-.4-.92-.59-1.43-.59-.52 0-1.04.2-1.43.59L10.3 9.45l-7.72 7.72c-.78.78-.78 2.05 0 2.83L4 21.41c.39.39.9.59 1.41.59.51 0 1.02-.2 1.41-.59l7.78-7.78 2.81-2.81c.8-.78.8-2.07 0-2.86zM5.41 20L4 18.59l7.72-7.72 1.47 1.35L5.41 20z\"/>\n",
       "  </svg>\n",
       "      </button>\n",
       "      \n",
       "  <style>\n",
       "    .colab-df-container {\n",
       "      display:flex;\n",
       "      flex-wrap:wrap;\n",
       "      gap: 12px;\n",
       "    }\n",
       "\n",
       "    .colab-df-convert {\n",
       "      background-color: #E8F0FE;\n",
       "      border: none;\n",
       "      border-radius: 50%;\n",
       "      cursor: pointer;\n",
       "      display: none;\n",
       "      fill: #1967D2;\n",
       "      height: 32px;\n",
       "      padding: 0 0 0 0;\n",
       "      width: 32px;\n",
       "    }\n",
       "\n",
       "    .colab-df-convert:hover {\n",
       "      background-color: #E2EBFA;\n",
       "      box-shadow: 0px 1px 2px rgba(60, 64, 67, 0.3), 0px 1px 3px 1px rgba(60, 64, 67, 0.15);\n",
       "      fill: #174EA6;\n",
       "    }\n",
       "\n",
       "    [theme=dark] .colab-df-convert {\n",
       "      background-color: #3B4455;\n",
       "      fill: #D2E3FC;\n",
       "    }\n",
       "\n",
       "    [theme=dark] .colab-df-convert:hover {\n",
       "      background-color: #434B5C;\n",
       "      box-shadow: 0px 1px 3px 1px rgba(0, 0, 0, 0.15);\n",
       "      filter: drop-shadow(0px 1px 2px rgba(0, 0, 0, 0.3));\n",
       "      fill: #FFFFFF;\n",
       "    }\n",
       "  </style>\n",
       "\n",
       "      <script>\n",
       "        const buttonEl =\n",
       "          document.querySelector('#df-74629615-923a-4fc8-9037-94bda68cbd0d button.colab-df-convert');\n",
       "        buttonEl.style.display =\n",
       "          google.colab.kernel.accessAllowed ? 'block' : 'none';\n",
       "\n",
       "        async function convertToInteractive(key) {\n",
       "          const element = document.querySelector('#df-74629615-923a-4fc8-9037-94bda68cbd0d');\n",
       "          const dataTable =\n",
       "            await google.colab.kernel.invokeFunction('convertToInteractive',\n",
       "                                                     [key], {});\n",
       "          if (!dataTable) return;\n",
       "\n",
       "          const docLinkHtml = 'Like what you see? Visit the ' +\n",
       "            '<a target=\"_blank\" href=https://colab.research.google.com/notebooks/data_table.ipynb>data table notebook</a>'\n",
       "            + ' to learn more about interactive tables.';\n",
       "          element.innerHTML = '';\n",
       "          dataTable['output_type'] = 'display_data';\n",
       "          await google.colab.output.renderOutput(dataTable, element);\n",
       "          const docLink = document.createElement('div');\n",
       "          docLink.innerHTML = docLinkHtml;\n",
       "          element.appendChild(docLink);\n",
       "        }\n",
       "      </script>\n",
       "    </div>\n",
       "  </div>\n",
       "  "
      ],
      "text/plain": [
       "   id  label  \\\n",
       "0   1      0   \n",
       "1   2      0   \n",
       "2   3      0   \n",
       "3   4      0   \n",
       "4   5      0   \n",
       "\n",
       "                                                                                                                        tweet  \\\n",
       "0                       @user when a father is dysfunctional and is so selfish he drags his kids into his dysfunction.   #run   \n",
       "1  @user @user thanks for #lyft credit i can't use cause they don't offer wheelchair vans in pdx.    #disapointed #getthanked   \n",
       "2                                                                                                         bihday your majesty   \n",
       "3                                                              #model   i love u take with u all the time in ur📱!!! 😙😎👄👅💦💦💦     \n",
       "4                                                                                      factsguide: society now    #motivation   \n",
       "\n",
       "                                                                                         cleaned_tweets_w/o_SW  \\\n",
       "0                   when a father is dysfunctional and is so selfish he drag his kid into his dysfunction run    \n",
       "1  thanks for lyft credit i cannot use because they do not offer wheelchair van in pdx disapointed getthanked    \n",
       "2                                                                                         bihday your majesty    \n",
       "3                                                      model i love you take with you all the time in you are    \n",
       "4                                                                           factsguide society now motivation    \n",
       "\n",
       "                                                    cleaned_tweets_with_SW  \n",
       "0                   father dysfunctional selfish drag kid dysfunction run   \n",
       "1  thanks lyft credit use offer wheelchair van pdx disapointed getthanked   \n",
       "2                                                          bihday majesty   \n",
       "3                                                         model love time   \n",
       "4                                           factsguide society motivation   "
      ]
     },
     "execution_count": 57,
     "metadata": {},
     "output_type": "execute_result"
    }
   ],
   "source": [
    "data.head()"
   ]
  },
  {
   "cell_type": "markdown",
   "metadata": {
    "id": "vikysx63xQRS"
   },
   "source": [
    "Feaure extraction"
   ]
  },
  {
   "cell_type": "code",
   "execution_count": 58,
   "metadata": {
    "colab": {
     "base_uri": "https://localhost:8080/"
    },
    "executionInfo": {
     "elapsed": 337,
     "status": "ok",
     "timestamp": 1687025038366,
     "user": {
      "displayName": "Lakshmi Singh",
      "userId": "17047074843456537614"
     },
     "user_tz": -330
    },
    "id": "I4Sa2B-cNDIE",
    "outputId": "2eadb3e0-d4c7-43bc-ab2f-f695384dfe34"
   },
   "outputs": [
    {
     "data": {
      "text/plain": [
       "(300, 5)"
      ]
     },
     "execution_count": 58,
     "metadata": {},
     "output_type": "execute_result"
    }
   ],
   "source": [
    "data.shape #dimension of frame work"
   ]
  },
  {
   "cell_type": "code",
   "execution_count": 59,
   "metadata": {
    "executionInfo": {
     "elapsed": 320,
     "status": "ok",
     "timestamp": 1687025038369,
     "user": {
      "displayName": "Lakshmi Singh",
      "userId": "17047074843456537614"
     },
     "user_tz": -330
    },
    "id": "QzvkWqy_NHYF"
   },
   "outputs": [],
   "source": [
    "#for matrix representation of dataset\n",
    "from sklearn.feature_extraction.text import CountVectorizer\n",
    "\n",
    "CV = CountVectorizer()\n",
    "CV_features = CV.fit_transform(data['cleaned_tweets_w/o_SW'])"
   ]
  },
  {
   "cell_type": "code",
   "execution_count": 60,
   "metadata": {
    "colab": {
     "base_uri": "https://localhost:8080/"
    },
    "executionInfo": {
     "elapsed": 325,
     "status": "ok",
     "timestamp": 1687025038375,
     "user": {
      "displayName": "Lakshmi Singh",
      "userId": "17047074843456537614"
     },
     "user_tz": -330
    },
    "id": "tWS0msS5yCuE",
    "outputId": "ac4793be-6ae3-4e4e-876d-3b67342bd843"
   },
   "outputs": [
    {
     "data": {
      "text/plain": [
       "(300, 1437)"
      ]
     },
     "execution_count": 60,
     "metadata": {},
     "output_type": "execute_result"
    }
   ],
   "source": [
    "CV_features.shape"
   ]
  },
  {
   "cell_type": "code",
   "execution_count": 61,
   "metadata": {
    "colab": {
     "base_uri": "https://localhost:8080/"
    },
    "executionInfo": {
     "elapsed": 319,
     "status": "ok",
     "timestamp": 1687025038377,
     "user": {
      "displayName": "Lakshmi Singh",
      "userId": "17047074843456537614"
     },
     "user_tz": -330
    },
    "id": "R0_x90cENKcw",
    "outputId": "eb6bbe68-a40e-4d8e-d2d4-fc71a9489369"
   },
   "outputs": [
    {
     "data": {
      "text/plain": [
       "<1x1437 sparse matrix of type '<class 'numpy.int64'>'\n",
       "\twith 14 stored elements in Compressed Sparse Row format>"
      ]
     },
     "execution_count": 61,
     "metadata": {},
     "output_type": "execute_result"
    }
   ],
   "source": [
    "CV_features[0]"
   ]
  },
  {
   "cell_type": "code",
   "execution_count": 62,
   "metadata": {
    "colab": {
     "base_uri": "https://localhost:8080/"
    },
    "executionInfo": {
     "elapsed": 294,
     "status": "ok",
     "timestamp": 1687025038379,
     "user": {
      "displayName": "Lakshmi Singh",
      "userId": "17047074843456537614"
     },
     "user_tz": -330
    },
    "id": "nm_seCtaNQbA",
    "outputId": "c5b6e973-8316-4d41-f197-da1e65757097"
   },
   "outputs": [
    {
     "data": {
      "text/plain": [
       "scipy.sparse._csr.csr_matrix"
      ]
     },
     "execution_count": 62,
     "metadata": {},
     "output_type": "execute_result"
    }
   ],
   "source": [
    "type(CV_features[0])  # each row is a compressed spare row"
   ]
  },
  {
   "cell_type": "code",
   "execution_count": 63,
   "metadata": {
    "colab": {
     "base_uri": "https://localhost:8080/"
    },
    "executionInfo": {
     "elapsed": 291,
     "status": "ok",
     "timestamp": 1687025038381,
     "user": {
      "displayName": "Lakshmi Singh",
      "userId": "17047074843456537614"
     },
     "user_tz": -330
    },
    "id": "EZz--2zHNXNx",
    "outputId": "36e88317-bba4-4960-9d46-3f92b0e3d2d7"
   },
   "outputs": [
    {
     "data": {
      "text/plain": [
       "matrix([[0, 0, 0, ..., 0, 0, 0]])"
      ]
     },
     "execution_count": 63,
     "metadata": {},
     "output_type": "execute_result"
    }
   ],
   "source": [
    "CV_features[0].todense()  # decompressing the CSR data"
   ]
  },
  {
   "cell_type": "code",
   "execution_count": 64,
   "metadata": {
    "colab": {
     "base_uri": "https://localhost:8080/",
     "height": 424
    },
    "executionInfo": {
     "elapsed": 288,
     "status": "ok",
     "timestamp": 1687025038382,
     "user": {
      "displayName": "Lakshmi Singh",
      "userId": "17047074843456537614"
     },
     "user_tz": -330
    },
    "id": "udPZKo20NcCI",
    "outputId": "09510f5a-755d-4f20-b877-8c28ca8c35fd"
   },
   "outputs": [
    {
     "data": {
      "text/html": [
       "\n",
       "  <div id=\"df-55772efd-fab3-4888-98e2-f5d82c905bf1\">\n",
       "    <div class=\"colab-df-container\">\n",
       "      <div>\n",
       "<style scoped>\n",
       "    .dataframe tbody tr th:only-of-type {\n",
       "        vertical-align: middle;\n",
       "    }\n",
       "\n",
       "    .dataframe tbody tr th {\n",
       "        vertical-align: top;\n",
       "    }\n",
       "\n",
       "    .dataframe thead th {\n",
       "        text-align: right;\n",
       "    }\n",
       "</style>\n",
       "<table border=\"1\" class=\"dataframe\">\n",
       "  <thead>\n",
       "    <tr style=\"text-align: right;\">\n",
       "      <th></th>\n",
       "      <th>0</th>\n",
       "      <th>1</th>\n",
       "      <th>2</th>\n",
       "      <th>3</th>\n",
       "      <th>4</th>\n",
       "      <th>5</th>\n",
       "      <th>6</th>\n",
       "      <th>7</th>\n",
       "      <th>8</th>\n",
       "      <th>9</th>\n",
       "      <th>...</th>\n",
       "      <th>1427</th>\n",
       "      <th>1428</th>\n",
       "      <th>1429</th>\n",
       "      <th>1430</th>\n",
       "      <th>1431</th>\n",
       "      <th>1432</th>\n",
       "      <th>1433</th>\n",
       "      <th>1434</th>\n",
       "      <th>1435</th>\n",
       "      <th>1436</th>\n",
       "    </tr>\n",
       "  </thead>\n",
       "  <tbody>\n",
       "    <tr>\n",
       "      <th>0</th>\n",
       "      <td>0</td>\n",
       "      <td>0</td>\n",
       "      <td>0</td>\n",
       "      <td>0</td>\n",
       "      <td>0</td>\n",
       "      <td>0</td>\n",
       "      <td>0</td>\n",
       "      <td>0</td>\n",
       "      <td>0</td>\n",
       "      <td>0</td>\n",
       "      <td>...</td>\n",
       "      <td>0</td>\n",
       "      <td>0</td>\n",
       "      <td>0</td>\n",
       "      <td>0</td>\n",
       "      <td>0</td>\n",
       "      <td>0</td>\n",
       "      <td>0</td>\n",
       "      <td>0</td>\n",
       "      <td>0</td>\n",
       "      <td>0</td>\n",
       "    </tr>\n",
       "    <tr>\n",
       "      <th>1</th>\n",
       "      <td>0</td>\n",
       "      <td>0</td>\n",
       "      <td>0</td>\n",
       "      <td>0</td>\n",
       "      <td>0</td>\n",
       "      <td>0</td>\n",
       "      <td>0</td>\n",
       "      <td>0</td>\n",
       "      <td>0</td>\n",
       "      <td>0</td>\n",
       "      <td>...</td>\n",
       "      <td>0</td>\n",
       "      <td>0</td>\n",
       "      <td>0</td>\n",
       "      <td>0</td>\n",
       "      <td>0</td>\n",
       "      <td>0</td>\n",
       "      <td>0</td>\n",
       "      <td>0</td>\n",
       "      <td>0</td>\n",
       "      <td>0</td>\n",
       "    </tr>\n",
       "    <tr>\n",
       "      <th>2</th>\n",
       "      <td>0</td>\n",
       "      <td>0</td>\n",
       "      <td>0</td>\n",
       "      <td>0</td>\n",
       "      <td>0</td>\n",
       "      <td>0</td>\n",
       "      <td>0</td>\n",
       "      <td>0</td>\n",
       "      <td>0</td>\n",
       "      <td>0</td>\n",
       "      <td>...</td>\n",
       "      <td>0</td>\n",
       "      <td>0</td>\n",
       "      <td>0</td>\n",
       "      <td>1</td>\n",
       "      <td>0</td>\n",
       "      <td>0</td>\n",
       "      <td>0</td>\n",
       "      <td>0</td>\n",
       "      <td>0</td>\n",
       "      <td>0</td>\n",
       "    </tr>\n",
       "    <tr>\n",
       "      <th>3</th>\n",
       "      <td>0</td>\n",
       "      <td>0</td>\n",
       "      <td>0</td>\n",
       "      <td>0</td>\n",
       "      <td>0</td>\n",
       "      <td>0</td>\n",
       "      <td>0</td>\n",
       "      <td>0</td>\n",
       "      <td>0</td>\n",
       "      <td>0</td>\n",
       "      <td>...</td>\n",
       "      <td>0</td>\n",
       "      <td>0</td>\n",
       "      <td>3</td>\n",
       "      <td>0</td>\n",
       "      <td>0</td>\n",
       "      <td>0</td>\n",
       "      <td>0</td>\n",
       "      <td>0</td>\n",
       "      <td>0</td>\n",
       "      <td>0</td>\n",
       "    </tr>\n",
       "    <tr>\n",
       "      <th>4</th>\n",
       "      <td>0</td>\n",
       "      <td>0</td>\n",
       "      <td>0</td>\n",
       "      <td>0</td>\n",
       "      <td>0</td>\n",
       "      <td>0</td>\n",
       "      <td>0</td>\n",
       "      <td>0</td>\n",
       "      <td>0</td>\n",
       "      <td>0</td>\n",
       "      <td>...</td>\n",
       "      <td>0</td>\n",
       "      <td>0</td>\n",
       "      <td>0</td>\n",
       "      <td>0</td>\n",
       "      <td>0</td>\n",
       "      <td>0</td>\n",
       "      <td>0</td>\n",
       "      <td>0</td>\n",
       "      <td>0</td>\n",
       "      <td>0</td>\n",
       "    </tr>\n",
       "    <tr>\n",
       "      <th>...</th>\n",
       "      <td>...</td>\n",
       "      <td>...</td>\n",
       "      <td>...</td>\n",
       "      <td>...</td>\n",
       "      <td>...</td>\n",
       "      <td>...</td>\n",
       "      <td>...</td>\n",
       "      <td>...</td>\n",
       "      <td>...</td>\n",
       "      <td>...</td>\n",
       "      <td>...</td>\n",
       "      <td>...</td>\n",
       "      <td>...</td>\n",
       "      <td>...</td>\n",
       "      <td>...</td>\n",
       "      <td>...</td>\n",
       "      <td>...</td>\n",
       "      <td>...</td>\n",
       "      <td>...</td>\n",
       "      <td>...</td>\n",
       "      <td>...</td>\n",
       "    </tr>\n",
       "    <tr>\n",
       "      <th>295</th>\n",
       "      <td>0</td>\n",
       "      <td>0</td>\n",
       "      <td>0</td>\n",
       "      <td>0</td>\n",
       "      <td>0</td>\n",
       "      <td>0</td>\n",
       "      <td>0</td>\n",
       "      <td>0</td>\n",
       "      <td>0</td>\n",
       "      <td>0</td>\n",
       "      <td>...</td>\n",
       "      <td>0</td>\n",
       "      <td>0</td>\n",
       "      <td>0</td>\n",
       "      <td>0</td>\n",
       "      <td>0</td>\n",
       "      <td>0</td>\n",
       "      <td>0</td>\n",
       "      <td>0</td>\n",
       "      <td>0</td>\n",
       "      <td>0</td>\n",
       "    </tr>\n",
       "    <tr>\n",
       "      <th>296</th>\n",
       "      <td>0</td>\n",
       "      <td>0</td>\n",
       "      <td>0</td>\n",
       "      <td>0</td>\n",
       "      <td>0</td>\n",
       "      <td>0</td>\n",
       "      <td>0</td>\n",
       "      <td>0</td>\n",
       "      <td>0</td>\n",
       "      <td>0</td>\n",
       "      <td>...</td>\n",
       "      <td>0</td>\n",
       "      <td>0</td>\n",
       "      <td>0</td>\n",
       "      <td>0</td>\n",
       "      <td>0</td>\n",
       "      <td>0</td>\n",
       "      <td>0</td>\n",
       "      <td>0</td>\n",
       "      <td>0</td>\n",
       "      <td>0</td>\n",
       "    </tr>\n",
       "    <tr>\n",
       "      <th>297</th>\n",
       "      <td>0</td>\n",
       "      <td>0</td>\n",
       "      <td>0</td>\n",
       "      <td>0</td>\n",
       "      <td>0</td>\n",
       "      <td>0</td>\n",
       "      <td>0</td>\n",
       "      <td>0</td>\n",
       "      <td>0</td>\n",
       "      <td>0</td>\n",
       "      <td>...</td>\n",
       "      <td>0</td>\n",
       "      <td>0</td>\n",
       "      <td>0</td>\n",
       "      <td>0</td>\n",
       "      <td>0</td>\n",
       "      <td>0</td>\n",
       "      <td>0</td>\n",
       "      <td>0</td>\n",
       "      <td>0</td>\n",
       "      <td>0</td>\n",
       "    </tr>\n",
       "    <tr>\n",
       "      <th>298</th>\n",
       "      <td>0</td>\n",
       "      <td>0</td>\n",
       "      <td>0</td>\n",
       "      <td>0</td>\n",
       "      <td>0</td>\n",
       "      <td>0</td>\n",
       "      <td>0</td>\n",
       "      <td>0</td>\n",
       "      <td>0</td>\n",
       "      <td>0</td>\n",
       "      <td>...</td>\n",
       "      <td>0</td>\n",
       "      <td>0</td>\n",
       "      <td>0</td>\n",
       "      <td>0</td>\n",
       "      <td>0</td>\n",
       "      <td>0</td>\n",
       "      <td>0</td>\n",
       "      <td>0</td>\n",
       "      <td>0</td>\n",
       "      <td>0</td>\n",
       "    </tr>\n",
       "    <tr>\n",
       "      <th>299</th>\n",
       "      <td>0</td>\n",
       "      <td>0</td>\n",
       "      <td>0</td>\n",
       "      <td>0</td>\n",
       "      <td>0</td>\n",
       "      <td>0</td>\n",
       "      <td>0</td>\n",
       "      <td>0</td>\n",
       "      <td>0</td>\n",
       "      <td>0</td>\n",
       "      <td>...</td>\n",
       "      <td>0</td>\n",
       "      <td>0</td>\n",
       "      <td>0</td>\n",
       "      <td>0</td>\n",
       "      <td>0</td>\n",
       "      <td>0</td>\n",
       "      <td>0</td>\n",
       "      <td>0</td>\n",
       "      <td>0</td>\n",
       "      <td>0</td>\n",
       "    </tr>\n",
       "  </tbody>\n",
       "</table>\n",
       "<p>300 rows × 1437 columns</p>\n",
       "</div>\n",
       "      <button class=\"colab-df-convert\" onclick=\"convertToInteractive('df-55772efd-fab3-4888-98e2-f5d82c905bf1')\"\n",
       "              title=\"Convert this dataframe to an interactive table.\"\n",
       "              style=\"display:none;\">\n",
       "        \n",
       "  <svg xmlns=\"http://www.w3.org/2000/svg\" height=\"24px\"viewBox=\"0 0 24 24\"\n",
       "       width=\"24px\">\n",
       "    <path d=\"M0 0h24v24H0V0z\" fill=\"none\"/>\n",
       "    <path d=\"M18.56 5.44l.94 2.06.94-2.06 2.06-.94-2.06-.94-.94-2.06-.94 2.06-2.06.94zm-11 1L8.5 8.5l.94-2.06 2.06-.94-2.06-.94L8.5 2.5l-.94 2.06-2.06.94zm10 10l.94 2.06.94-2.06 2.06-.94-2.06-.94-.94-2.06-.94 2.06-2.06.94z\"/><path d=\"M17.41 7.96l-1.37-1.37c-.4-.4-.92-.59-1.43-.59-.52 0-1.04.2-1.43.59L10.3 9.45l-7.72 7.72c-.78.78-.78 2.05 0 2.83L4 21.41c.39.39.9.59 1.41.59.51 0 1.02-.2 1.41-.59l7.78-7.78 2.81-2.81c.8-.78.8-2.07 0-2.86zM5.41 20L4 18.59l7.72-7.72 1.47 1.35L5.41 20z\"/>\n",
       "  </svg>\n",
       "      </button>\n",
       "      \n",
       "  <style>\n",
       "    .colab-df-container {\n",
       "      display:flex;\n",
       "      flex-wrap:wrap;\n",
       "      gap: 12px;\n",
       "    }\n",
       "\n",
       "    .colab-df-convert {\n",
       "      background-color: #E8F0FE;\n",
       "      border: none;\n",
       "      border-radius: 50%;\n",
       "      cursor: pointer;\n",
       "      display: none;\n",
       "      fill: #1967D2;\n",
       "      height: 32px;\n",
       "      padding: 0 0 0 0;\n",
       "      width: 32px;\n",
       "    }\n",
       "\n",
       "    .colab-df-convert:hover {\n",
       "      background-color: #E2EBFA;\n",
       "      box-shadow: 0px 1px 2px rgba(60, 64, 67, 0.3), 0px 1px 3px 1px rgba(60, 64, 67, 0.15);\n",
       "      fill: #174EA6;\n",
       "    }\n",
       "\n",
       "    [theme=dark] .colab-df-convert {\n",
       "      background-color: #3B4455;\n",
       "      fill: #D2E3FC;\n",
       "    }\n",
       "\n",
       "    [theme=dark] .colab-df-convert:hover {\n",
       "      background-color: #434B5C;\n",
       "      box-shadow: 0px 1px 3px 1px rgba(0, 0, 0, 0.15);\n",
       "      filter: drop-shadow(0px 1px 2px rgba(0, 0, 0, 0.3));\n",
       "      fill: #FFFFFF;\n",
       "    }\n",
       "  </style>\n",
       "\n",
       "      <script>\n",
       "        const buttonEl =\n",
       "          document.querySelector('#df-55772efd-fab3-4888-98e2-f5d82c905bf1 button.colab-df-convert');\n",
       "        buttonEl.style.display =\n",
       "          google.colab.kernel.accessAllowed ? 'block' : 'none';\n",
       "\n",
       "        async function convertToInteractive(key) {\n",
       "          const element = document.querySelector('#df-55772efd-fab3-4888-98e2-f5d82c905bf1');\n",
       "          const dataTable =\n",
       "            await google.colab.kernel.invokeFunction('convertToInteractive',\n",
       "                                                     [key], {});\n",
       "          if (!dataTable) return;\n",
       "\n",
       "          const docLinkHtml = 'Like what you see? Visit the ' +\n",
       "            '<a target=\"_blank\" href=https://colab.research.google.com/notebooks/data_table.ipynb>data table notebook</a>'\n",
       "            + ' to learn more about interactive tables.';\n",
       "          element.innerHTML = '';\n",
       "          dataTable['output_type'] = 'display_data';\n",
       "          await google.colab.output.renderOutput(dataTable, element);\n",
       "          const docLink = document.createElement('div');\n",
       "          docLink.innerHTML = docLinkHtml;\n",
       "          element.appendChild(docLink);\n",
       "        }\n",
       "      </script>\n",
       "    </div>\n",
       "  </div>\n",
       "  "
      ],
      "text/plain": [
       "     0     1     2     3     4     5     6     7     8     9     ...  1427  \\\n",
       "0       0     0     0     0     0     0     0     0     0     0  ...     0   \n",
       "1       0     0     0     0     0     0     0     0     0     0  ...     0   \n",
       "2       0     0     0     0     0     0     0     0     0     0  ...     0   \n",
       "3       0     0     0     0     0     0     0     0     0     0  ...     0   \n",
       "4       0     0     0     0     0     0     0     0     0     0  ...     0   \n",
       "..    ...   ...   ...   ...   ...   ...   ...   ...   ...   ...  ...   ...   \n",
       "295     0     0     0     0     0     0     0     0     0     0  ...     0   \n",
       "296     0     0     0     0     0     0     0     0     0     0  ...     0   \n",
       "297     0     0     0     0     0     0     0     0     0     0  ...     0   \n",
       "298     0     0     0     0     0     0     0     0     0     0  ...     0   \n",
       "299     0     0     0     0     0     0     0     0     0     0  ...     0   \n",
       "\n",
       "     1428  1429  1430  1431  1432  1433  1434  1435  1436  \n",
       "0       0     0     0     0     0     0     0     0     0  \n",
       "1       0     0     0     0     0     0     0     0     0  \n",
       "2       0     0     1     0     0     0     0     0     0  \n",
       "3       0     3     0     0     0     0     0     0     0  \n",
       "4       0     0     0     0     0     0     0     0     0  \n",
       "..    ...   ...   ...   ...   ...   ...   ...   ...   ...  \n",
       "295     0     0     0     0     0     0     0     0     0  \n",
       "296     0     0     0     0     0     0     0     0     0  \n",
       "297     0     0     0     0     0     0     0     0     0  \n",
       "298     0     0     0     0     0     0     0     0     0  \n",
       "299     0     0     0     0     0     0     0     0     0  \n",
       "\n",
       "[300 rows x 1437 columns]"
      ]
     },
     "execution_count": 64,
     "metadata": {},
     "output_type": "execute_result"
    }
   ],
   "source": [
    "import pandas as pd\n",
    "df = pd.DataFrame(CV_features.todense() )\n",
    "df\n",
    "# Document-Term-Matrix X = [N x p ]\n",
    "# N = no. of documentns\n",
    "# p = no. of unique words in the vocab!!# this is your D"
   ]
  },
  {
   "cell_type": "code",
   "execution_count": 65,
   "metadata": {
    "colab": {
     "base_uri": "https://localhost:8080/"
    },
    "executionInfo": {
     "elapsed": 284,
     "status": "ok",
     "timestamp": 1687025038387,
     "user": {
      "displayName": "Lakshmi Singh",
      "userId": "17047074843456537614"
     },
     "user_tz": -330
    },
    "id": "B07Q1MgANfmX",
    "outputId": "a050c083-899b-44e4-ccc1-d9397a704ed3"
   },
   "outputs": [
    {
     "data": {
      "text/plain": [
       "0.4311"
      ]
     },
     "execution_count": 65,
     "metadata": {},
     "output_type": "execute_result"
    }
   ],
   "source": [
    "df.size/1e6  # these many elements/numbers are present in the df"
   ]
  },
  {
   "cell_type": "code",
   "execution_count": 66,
   "metadata": {
    "colab": {
     "base_uri": "https://localhost:8080/"
    },
    "executionInfo": {
     "elapsed": 277,
     "status": "ok",
     "timestamp": 1687025038388,
     "user": {
      "displayName": "Lakshmi Singh",
      "userId": "17047074843456537614"
     },
     "user_tz": -330
    },
    "id": "hGfsuePc3NX4",
    "outputId": "61bdb275-fbb8-4340-d1a2-8bc2fb88cdd6"
   },
   "outputs": [
    {
     "data": {
      "text/plain": [
       "matrix([[0, 0, 0, ..., 0, 0, 0]])"
      ]
     },
     "execution_count": 66,
     "metadata": {},
     "output_type": "execute_result"
    }
   ],
   "source": [
    "CV_features[10].todense() # these are numbers corresponding to the 11th tweet"
   ]
  },
  {
   "cell_type": "code",
   "execution_count": 67,
   "metadata": {
    "colab": {
     "base_uri": "https://localhost:8080/"
    },
    "executionInfo": {
     "elapsed": 271,
     "status": "ok",
     "timestamp": 1687025038389,
     "user": {
      "displayName": "Lakshmi Singh",
      "userId": "17047074843456537614"
     },
     "user_tz": -330
    },
    "id": "OfQBgI3xPP8m",
    "outputId": "daa58129-f9ad-4a2f-d36e-ff2eea417697"
   },
   "outputs": [
    {
     "data": {
      "text/plain": [
       "3298"
      ]
     },
     "execution_count": 67,
     "metadata": {},
     "output_type": "execute_result"
    }
   ],
   "source": [
    "import numpy as np\n",
    "np.count_nonzero(df)"
   ]
  },
  {
   "cell_type": "code",
   "execution_count": 68,
   "metadata": {
    "colab": {
     "base_uri": "https://localhost:8080/"
    },
    "executionInfo": {
     "elapsed": 246,
     "status": "ok",
     "timestamp": 1687025038390,
     "user": {
      "displayName": "Lakshmi Singh",
      "userId": "17047074843456537614"
     },
     "user_tz": -330
    },
    "id": "ApYHRH0CPTFg",
    "outputId": "8179fe2e-0d21-46dc-e09b-eda31b343b5f"
   },
   "outputs": [
    {
     "data": {
      "text/plain": [
       "0.7650197170030155"
      ]
     },
     "execution_count": 68,
     "metadata": {},
     "output_type": "execute_result"
    }
   ],
   "source": [
    "100*np.count_nonzero(df)/df.size # percent of the non-zero elements i nthe df"
   ]
  },
  {
   "cell_type": "markdown",
   "metadata": {
    "id": "hXS-k6Qfvp0x"
   },
   "source": [
    "To build a model"
   ]
  },
  {
   "cell_type": "code",
   "execution_count": 69,
   "metadata": {
    "executionInfo": {
     "elapsed": 239,
     "status": "ok",
     "timestamp": 1687025038390,
     "user": {
      "displayName": "Lakshmi Singh",
      "userId": "17047074843456537614"
     },
     "user_tz": -330
    },
    "id": "Yj2Ns9Bjyy8b"
   },
   "outputs": [],
   "source": [
    "from sklearn.model_selection import train_test_split\n",
    "\n",
    "X_train, X_test, y_train, y_test = train_test_split(CV_features, data['label'], test_size=0.25, stratify=data['label'], random_state=42)"
   ]
  },
  {
   "cell_type": "code",
   "execution_count": 70,
   "metadata": {
    "colab": {
     "base_uri": "https://localhost:8080/"
    },
    "executionInfo": {
     "elapsed": 238,
     "status": "ok",
     "timestamp": 1687025038391,
     "user": {
      "displayName": "Lakshmi Singh",
      "userId": "17047074843456537614"
     },
     "user_tz": -330
    },
    "id": "tTCaoEyjvlIw",
    "outputId": "e6b5f000-ccfa-4b1e-ae98-a6cedd9146e2"
   },
   "outputs": [
    {
     "name": "stdout",
     "output_type": "stream",
     "text": [
      "1.0\n",
      "0.9333333333333333\n"
     ]
    }
   ],
   "source": [
    "from sklearn.linear_model import LogisticRegression\n",
    "LR = LogisticRegression(solver='liblinear')\n",
    "LR.fit(X_train, y_train)\n",
    "\n",
    "print(LR.score(X_train, y_train))  # train score)\n",
    "print(LR.score(X_test, y_test))   # test score)"
   ]
  },
  {
   "cell_type": "code",
   "execution_count": 71,
   "metadata": {
    "colab": {
     "base_uri": "https://localhost:8080/"
    },
    "executionInfo": {
     "elapsed": 226,
     "status": "ok",
     "timestamp": 1687025038391,
     "user": {
      "displayName": "Lakshmi Singh",
      "userId": "17047074843456537614"
     },
     "user_tz": -330
    },
    "id": "_pBNYYCvvyZz",
    "outputId": "31eecbdf-725e-45b7-e04f-c5c15844b720"
   },
   "outputs": [
    {
     "name": "stdout",
     "output_type": "stream",
     "text": [
      "0.9377777777777778\n",
      "0.8666666666666667\n"
     ]
    }
   ],
   "source": [
    "## L1-REGULARIZATION\n",
    "LR1 = LogisticRegression(class_weight='balanced', solver='liblinear', penalty='l1', C=0.4)\n",
    "LR1.fit(X_train, y_train)\n",
    "\n",
    "print(LR1.score(X_train, y_train))  # train score)\n",
    "print(LR1.score(X_test, y_test))   # test score)"
   ]
  },
  {
   "cell_type": "code",
   "execution_count": 72,
   "metadata": {
    "executionInfo": {
     "elapsed": 187,
     "status": "ok",
     "timestamp": 1687025038393,
     "user": {
      "displayName": "Lakshmi Singh",
      "userId": "17047074843456537614"
     },
     "user_tz": -330
    },
    "id": "hIO_wYl_v5vn"
   },
   "outputs": [],
   "source": [
    "# leT'S Cross-Validate the Logistic Regression Model ?????\n",
    "from sklearn.model_selection import cross_val_score, cross_validate\n",
    "from sklearn.model_selection import StratifiedKFold"
   ]
  },
  {
   "cell_type": "code",
   "execution_count": 73,
   "metadata": {
    "executionInfo": {
     "elapsed": 187,
     "status": "ok",
     "timestamp": 1687025038394,
     "user": {
      "displayName": "Lakshmi Singh",
      "userId": "17047074843456537614"
     },
     "user_tz": -330
    },
    "id": "3wBTycn9wBAa"
   },
   "outputs": [],
   "source": [
    "X = CV_features\n",
    "y = data['label']"
   ]
  },
  {
   "cell_type": "code",
   "execution_count": 74,
   "metadata": {
    "colab": {
     "base_uri": "https://localhost:8080/"
    },
    "executionInfo": {
     "elapsed": 160,
     "status": "ok",
     "timestamp": 1687025038395,
     "user": {
      "displayName": "Lakshmi Singh",
      "userId": "17047074843456537614"
     },
     "user_tz": -330
    },
    "id": "otLMIaFBwGKD",
    "outputId": "3cf036c5-a23f-479b-96f2-7d87bf947899"
   },
   "outputs": [
    {
     "name": "stdout",
     "output_type": "stream",
     "text": [
      "[0.88333333 0.91666667 0.83333333 0.91666667 0.86666667]\n",
      "88.33 3.16\n"
     ]
    }
   ],
   "source": [
    "# crOSS VALIDATE THE LR1 model\n",
    "LR1 = LogisticRegression(class_weight='balanced', solver='liblinear', penalty='l1', C=0.4)\n",
    "kfold = StratifiedKFold(n_splits=5, shuffle=True, random_state=42)\n",
    "results = cross_val_score(LR1, X, y, cv=kfold, scoring='accuracy')\n",
    "print(results)\n",
    "print(np.round((results.mean())*100, 2), np.round((results.std())*100, 2))"
   ]
  },
  {
   "cell_type": "code",
   "execution_count": 75,
   "metadata": {
    "colab": {
     "base_uri": "https://localhost:8080/"
    },
    "executionInfo": {
     "elapsed": 153,
     "status": "ok",
     "timestamp": 1687025038396,
     "user": {
      "displayName": "Lakshmi Singh",
      "userId": "17047074843456537614"
     },
     "user_tz": -330
    },
    "id": "bZzFBlkxwR7b",
    "outputId": "1262ef6c-4806-4bdd-ba17-12fe63f870a3"
   },
   "outputs": [
    {
     "data": {
      "text/plain": [
       "{'fit_time': array([0.00875807, 0.00751162, 0.00415039, 0.0041337 , 0.0045321 ]),\n",
       " 'score_time': array([0.0012126 , 0.00114393, 0.00107217, 0.00111938, 0.00115204]),\n",
       " 'test_score': array([0.88333333, 0.91666667, 0.83333333, 0.9       , 0.86666667]),\n",
       " 'train_score': array([0.93333333, 0.975     , 0.94166667, 0.94583333, 0.94166667])}"
      ]
     },
     "execution_count": 75,
     "metadata": {},
     "output_type": "execute_result"
    }
   ],
   "source": [
    "kfold = StratifiedKFold(n_splits=5, shuffle=True, random_state=42)\n",
    "results = cross_validate(LR1, X, y, cv=kfold, scoring='accuracy', return_train_score=True)\n",
    "results"
   ]
  },
  {
   "cell_type": "code",
   "execution_count": 76,
   "metadata": {
    "colab": {
     "base_uri": "https://localhost:8080/"
    },
    "executionInfo": {
     "elapsed": 132,
     "status": "ok",
     "timestamp": 1687025038398,
     "user": {
      "displayName": "Lakshmi Singh",
      "userId": "17047074843456537614"
     },
     "user_tz": -330
    },
    "id": "udi1SEKNwdNx",
    "outputId": "f4ef0aa1-c502-4986-f42f-56b640e9c873"
   },
   "outputs": [
    {
     "name": "stdout",
     "output_type": "stream",
     "text": [
      "[0.93333333 0.975      0.94166667 0.94583333 0.94166667]\n",
      "94.75 1.43\n"
     ]
    }
   ],
   "source": [
    "print(results['train_score'])\n",
    "print(np.round((results['train_score'].mean())*100, 2), np.round((results['train_score'].std())*100, 2))"
   ]
  },
  {
   "cell_type": "code",
   "execution_count": 77,
   "metadata": {
    "colab": {
     "base_uri": "https://localhost:8080/"
    },
    "executionInfo": {
     "elapsed": 109,
     "status": "ok",
     "timestamp": 1687025038399,
     "user": {
      "displayName": "Lakshmi Singh",
      "userId": "17047074843456537614"
     },
     "user_tz": -330
    },
    "id": "5rOQD-KkwjoY",
    "outputId": "45f2ef0d-b9ce-4ad9-c5c4-bd6c9fa38c76"
   },
   "outputs": [
    {
     "name": "stdout",
     "output_type": "stream",
     "text": [
      "[0.88333333 0.91666667 0.83333333 0.9        0.86666667]\n",
      "88.0 2.87\n"
     ]
    }
   ],
   "source": [
    "print(results['test_score'])\n",
    "print(np.round((results['test_score'].mean())*100, 2), np.round((results['test_score'].std())*100, 2))"
   ]
  },
  {
   "cell_type": "code",
   "execution_count": 78,
   "metadata": {
    "colab": {
     "base_uri": "https://localhost:8080/"
    },
    "executionInfo": {
     "elapsed": 3174,
     "status": "ok",
     "timestamp": 1687025041475,
     "user": {
      "displayName": "Lakshmi Singh",
      "userId": "17047074843456537614"
     },
     "user_tz": -330
    },
    "id": "8V5iSgcDwndw",
    "outputId": "9caa7932-0aaa-472e-bc47-cea1c4598491"
   },
   "outputs": [
    {
     "name": "stdout",
     "output_type": "stream",
     "text": [
      "Fitting 5 folds for each of 20 candidates, totalling 100 fits\n"
     ]
    }
   ],
   "source": [
    "# Hyper parameter tuning of the LR1 model\n",
    "from sklearn.model_selection import GridSearchCV\n",
    "\n",
    "LR1 = LogisticRegression(class_weight='balanced', solver='liblinear', penalty='l1')\n",
    "\n",
    "C_values = np.arange(0.00001, 1, 0.05) # 20 values\n",
    "\n",
    "grid = GridSearchCV(estimator=LR1, param_grid={'C': C_values}, cv=kfold, scoring='accuracy', \\\n",
    "                    return_train_score=True, verbose=2, n_jobs=-1)\n",
    "grid_results = grid.fit(X,y)"
   ]
  },
  {
   "cell_type": "code",
   "execution_count": 79,
   "metadata": {
    "colab": {
     "base_uri": "https://localhost:8080/",
     "height": 118
    },
    "executionInfo": {
     "elapsed": 323,
     "status": "ok",
     "timestamp": 1687025041479,
     "user": {
      "displayName": "Lakshmi Singh",
      "userId": "17047074843456537614"
     },
     "user_tz": -330
    },
    "id": "Gvlt0ci0wv1P",
    "outputId": "26a3e94c-d547-43db-80eb-afd96d7b732e"
   },
   "outputs": [
    {
     "data": {
      "text/html": [
       "<style>#sk-container-id-1 {color: black;background-color: white;}#sk-container-id-1 pre{padding: 0;}#sk-container-id-1 div.sk-toggleable {background-color: white;}#sk-container-id-1 label.sk-toggleable__label {cursor: pointer;display: block;width: 100%;margin-bottom: 0;padding: 0.3em;box-sizing: border-box;text-align: center;}#sk-container-id-1 label.sk-toggleable__label-arrow:before {content: \"▸\";float: left;margin-right: 0.25em;color: #696969;}#sk-container-id-1 label.sk-toggleable__label-arrow:hover:before {color: black;}#sk-container-id-1 div.sk-estimator:hover label.sk-toggleable__label-arrow:before {color: black;}#sk-container-id-1 div.sk-toggleable__content {max-height: 0;max-width: 0;overflow: hidden;text-align: left;background-color: #f0f8ff;}#sk-container-id-1 div.sk-toggleable__content pre {margin: 0.2em;color: black;border-radius: 0.25em;background-color: #f0f8ff;}#sk-container-id-1 input.sk-toggleable__control:checked~div.sk-toggleable__content {max-height: 200px;max-width: 100%;overflow: auto;}#sk-container-id-1 input.sk-toggleable__control:checked~label.sk-toggleable__label-arrow:before {content: \"▾\";}#sk-container-id-1 div.sk-estimator input.sk-toggleable__control:checked~label.sk-toggleable__label {background-color: #d4ebff;}#sk-container-id-1 div.sk-label input.sk-toggleable__control:checked~label.sk-toggleable__label {background-color: #d4ebff;}#sk-container-id-1 input.sk-hidden--visually {border: 0;clip: rect(1px 1px 1px 1px);clip: rect(1px, 1px, 1px, 1px);height: 1px;margin: -1px;overflow: hidden;padding: 0;position: absolute;width: 1px;}#sk-container-id-1 div.sk-estimator {font-family: monospace;background-color: #f0f8ff;border: 1px dotted black;border-radius: 0.25em;box-sizing: border-box;margin-bottom: 0.5em;}#sk-container-id-1 div.sk-estimator:hover {background-color: #d4ebff;}#sk-container-id-1 div.sk-parallel-item::after {content: \"\";width: 100%;border-bottom: 1px solid gray;flex-grow: 1;}#sk-container-id-1 div.sk-label:hover label.sk-toggleable__label {background-color: #d4ebff;}#sk-container-id-1 div.sk-serial::before {content: \"\";position: absolute;border-left: 1px solid gray;box-sizing: border-box;top: 0;bottom: 0;left: 50%;z-index: 0;}#sk-container-id-1 div.sk-serial {display: flex;flex-direction: column;align-items: center;background-color: white;padding-right: 0.2em;padding-left: 0.2em;position: relative;}#sk-container-id-1 div.sk-item {position: relative;z-index: 1;}#sk-container-id-1 div.sk-parallel {display: flex;align-items: stretch;justify-content: center;background-color: white;position: relative;}#sk-container-id-1 div.sk-item::before, #sk-container-id-1 div.sk-parallel-item::before {content: \"\";position: absolute;border-left: 1px solid gray;box-sizing: border-box;top: 0;bottom: 0;left: 50%;z-index: -1;}#sk-container-id-1 div.sk-parallel-item {display: flex;flex-direction: column;z-index: 1;position: relative;background-color: white;}#sk-container-id-1 div.sk-parallel-item:first-child::after {align-self: flex-end;width: 50%;}#sk-container-id-1 div.sk-parallel-item:last-child::after {align-self: flex-start;width: 50%;}#sk-container-id-1 div.sk-parallel-item:only-child::after {width: 0;}#sk-container-id-1 div.sk-dashed-wrapped {border: 1px dashed gray;margin: 0 0.4em 0.5em 0.4em;box-sizing: border-box;padding-bottom: 0.4em;background-color: white;}#sk-container-id-1 div.sk-label label {font-family: monospace;font-weight: bold;display: inline-block;line-height: 1.2em;}#sk-container-id-1 div.sk-label-container {text-align: center;}#sk-container-id-1 div.sk-container {/* jupyter's `normalize.less` sets `[hidden] { display: none; }` but bootstrap.min.css set `[hidden] { display: none !important; }` so we also need the `!important` here to be able to override the default hidden behavior on the sphinx rendered scikit-learn.org. See: https://github.com/scikit-learn/scikit-learn/issues/21755 */display: inline-block !important;position: relative;}#sk-container-id-1 div.sk-text-repr-fallback {display: none;}</style><div id=\"sk-container-id-1\" class=\"sk-top-container\"><div class=\"sk-text-repr-fallback\"><pre>GridSearchCV(cv=StratifiedKFold(n_splits=5, random_state=42, shuffle=True),\n",
       "             estimator=LogisticRegression(class_weight=&#x27;balanced&#x27;, penalty=&#x27;l1&#x27;,\n",
       "                                          solver=&#x27;liblinear&#x27;),\n",
       "             n_jobs=-1,\n",
       "             param_grid={&#x27;C&#x27;: array([1.0000e-05, 5.0010e-02, 1.0001e-01, 1.5001e-01, 2.0001e-01,\n",
       "       2.5001e-01, 3.0001e-01, 3.5001e-01, 4.0001e-01, 4.5001e-01,\n",
       "       5.0001e-01, 5.5001e-01, 6.0001e-01, 6.5001e-01, 7.0001e-01,\n",
       "       7.5001e-01, 8.0001e-01, 8.5001e-01, 9.0001e-01, 9.5001e-01])},\n",
       "             return_train_score=True, scoring=&#x27;accuracy&#x27;, verbose=2)</pre><b>In a Jupyter environment, please rerun this cell to show the HTML representation or trust the notebook. <br />On GitHub, the HTML representation is unable to render, please try loading this page with nbviewer.org.</b></div><div class=\"sk-container\" hidden><div class=\"sk-item sk-dashed-wrapped\"><div class=\"sk-label-container\"><div class=\"sk-label sk-toggleable\"><input class=\"sk-toggleable__control sk-hidden--visually\" id=\"sk-estimator-id-1\" type=\"checkbox\" ><label for=\"sk-estimator-id-1\" class=\"sk-toggleable__label sk-toggleable__label-arrow\">GridSearchCV</label><div class=\"sk-toggleable__content\"><pre>GridSearchCV(cv=StratifiedKFold(n_splits=5, random_state=42, shuffle=True),\n",
       "             estimator=LogisticRegression(class_weight=&#x27;balanced&#x27;, penalty=&#x27;l1&#x27;,\n",
       "                                          solver=&#x27;liblinear&#x27;),\n",
       "             n_jobs=-1,\n",
       "             param_grid={&#x27;C&#x27;: array([1.0000e-05, 5.0010e-02, 1.0001e-01, 1.5001e-01, 2.0001e-01,\n",
       "       2.5001e-01, 3.0001e-01, 3.5001e-01, 4.0001e-01, 4.5001e-01,\n",
       "       5.0001e-01, 5.5001e-01, 6.0001e-01, 6.5001e-01, 7.0001e-01,\n",
       "       7.5001e-01, 8.0001e-01, 8.5001e-01, 9.0001e-01, 9.5001e-01])},\n",
       "             return_train_score=True, scoring=&#x27;accuracy&#x27;, verbose=2)</pre></div></div></div><div class=\"sk-parallel\"><div class=\"sk-parallel-item\"><div class=\"sk-item\"><div class=\"sk-label-container\"><div class=\"sk-label sk-toggleable\"><input class=\"sk-toggleable__control sk-hidden--visually\" id=\"sk-estimator-id-2\" type=\"checkbox\" ><label for=\"sk-estimator-id-2\" class=\"sk-toggleable__label sk-toggleable__label-arrow\">estimator: LogisticRegression</label><div class=\"sk-toggleable__content\"><pre>LogisticRegression(class_weight=&#x27;balanced&#x27;, penalty=&#x27;l1&#x27;, solver=&#x27;liblinear&#x27;)</pre></div></div></div><div class=\"sk-serial\"><div class=\"sk-item\"><div class=\"sk-estimator sk-toggleable\"><input class=\"sk-toggleable__control sk-hidden--visually\" id=\"sk-estimator-id-3\" type=\"checkbox\" ><label for=\"sk-estimator-id-3\" class=\"sk-toggleable__label sk-toggleable__label-arrow\">LogisticRegression</label><div class=\"sk-toggleable__content\"><pre>LogisticRegression(class_weight=&#x27;balanced&#x27;, penalty=&#x27;l1&#x27;, solver=&#x27;liblinear&#x27;)</pre></div></div></div></div></div></div></div></div></div></div>"
      ],
      "text/plain": [
       "GridSearchCV(cv=StratifiedKFold(n_splits=5, random_state=42, shuffle=True),\n",
       "             estimator=LogisticRegression(class_weight='balanced', penalty='l1',\n",
       "                                          solver='liblinear'),\n",
       "             n_jobs=-1,\n",
       "             param_grid={'C': array([1.0000e-05, 5.0010e-02, 1.0001e-01, 1.5001e-01, 2.0001e-01,\n",
       "       2.5001e-01, 3.0001e-01, 3.5001e-01, 4.0001e-01, 4.5001e-01,\n",
       "       5.0001e-01, 5.5001e-01, 6.0001e-01, 6.5001e-01, 7.0001e-01,\n",
       "       7.5001e-01, 8.0001e-01, 8.5001e-01, 9.0001e-01, 9.5001e-01])},\n",
       "             return_train_score=True, scoring='accuracy', verbose=2)"
      ]
     },
     "execution_count": 79,
     "metadata": {},
     "output_type": "execute_result"
    }
   ],
   "source": [
    "grid_results"
   ]
  },
  {
   "cell_type": "code",
   "execution_count": 80,
   "metadata": {
    "colab": {
     "base_uri": "https://localhost:8080/"
    },
    "executionInfo": {
     "elapsed": 315,
     "status": "ok",
     "timestamp": 1687025041480,
     "user": {
      "displayName": "Lakshmi Singh",
      "userId": "17047074843456537614"
     },
     "user_tz": -330
    },
    "id": "rcCjnW5mwzpw",
    "outputId": "14ddf7a5-13f2-4453-afab-ea24c4e8e181"
   },
   "outputs": [
    {
     "data": {
      "text/plain": [
       "({'C': 1e-05}, 0.93, 0)"
      ]
     },
     "execution_count": 80,
     "metadata": {},
     "output_type": "execute_result"
    }
   ],
   "source": [
    "grid_results.best_params_, grid_results.best_score_, grid_results.best_index_"
   ]
  },
  {
   "cell_type": "code",
   "execution_count": 81,
   "metadata": {
    "colab": {
     "base_uri": "https://localhost:8080/"
    },
    "executionInfo": {
     "elapsed": 308,
     "status": "ok",
     "timestamp": 1687025041484,
     "user": {
      "displayName": "Lakshmi Singh",
      "userId": "17047074843456537614"
     },
     "user_tz": -330
    },
    "id": "R1F_s5uKxA58",
    "outputId": "9baac3b9-4321-4175-c2ed-973b78f3ef14"
   },
   "outputs": [
    {
     "data": {
      "text/plain": [
       "dict_keys(['mean_fit_time', 'std_fit_time', 'mean_score_time', 'std_score_time', 'param_C', 'params', 'split0_test_score', 'split1_test_score', 'split2_test_score', 'split3_test_score', 'split4_test_score', 'mean_test_score', 'std_test_score', 'rank_test_score', 'split0_train_score', 'split1_train_score', 'split2_train_score', 'split3_train_score', 'split4_train_score', 'mean_train_score', 'std_train_score'])"
      ]
     },
     "execution_count": 81,
     "metadata": {},
     "output_type": "execute_result"
    }
   ],
   "source": [
    "grid_results.cv_results_.keys()"
   ]
  },
  {
   "cell_type": "code",
   "execution_count": 82,
   "metadata": {
    "colab": {
     "base_uri": "https://localhost:8080/"
    },
    "executionInfo": {
     "elapsed": 302,
     "status": "ok",
     "timestamp": 1687025041486,
     "user": {
      "displayName": "Lakshmi Singh",
      "userId": "17047074843456537614"
     },
     "user_tz": -330
    },
    "id": "3Cir9ih0xFtK",
    "outputId": "78648074-3d30-4a4d-bec0-b95d3744e592"
   },
   "outputs": [
    {
     "data": {
      "text/plain": [
       "93.0"
      ]
     },
     "execution_count": 82,
     "metadata": {},
     "output_type": "execute_result"
    }
   ],
   "source": [
    "grid_results.cv_results_['mean_test_score'][grid_results.best_index_]*100"
   ]
  },
  {
   "cell_type": "code",
   "execution_count": 83,
   "metadata": {
    "colab": {
     "base_uri": "https://localhost:8080/"
    },
    "executionInfo": {
     "elapsed": 297,
     "status": "ok",
     "timestamp": 1687025041488,
     "user": {
      "displayName": "Lakshmi Singh",
      "userId": "17047074843456537614"
     },
     "user_tz": -330
    },
    "id": "H-7Mj7R0xJqV",
    "outputId": "5e6ac3c3-a10e-4d3c-ec67-025f43980aad"
   },
   "outputs": [
    {
     "data": {
      "text/plain": [
       "93.0"
      ]
     },
     "execution_count": 83,
     "metadata": {},
     "output_type": "execute_result"
    }
   ],
   "source": [
    "# means your \"best-fitted\" model from GridsearchCV is (could be) still OVERFITTED!!!!!!!!!\n",
    "grid_results.cv_results_['mean_train_score'][grid_results.best_index_]*100"
   ]
  },
  {
   "cell_type": "code",
   "execution_count": 84,
   "metadata": {
    "colab": {
     "base_uri": "https://localhost:8080/"
    },
    "executionInfo": {
     "elapsed": 289,
     "status": "ok",
     "timestamp": 1687025041488,
     "user": {
      "displayName": "Lakshmi Singh",
      "userId": "17047074843456537614"
     },
     "user_tz": -330
    },
    "id": "h75-PJSSxwZ4",
    "outputId": "f1dfdfe7-601c-4d02-b3be-247907f2a57f"
   },
   "outputs": [
    {
     "data": {
      "text/plain": [
       "array([0.93      , 0.93      , 0.86      , 0.86666667, 0.895     ,\n",
       "       0.915     , 0.93916667, 0.94166667, 0.9475    , 0.96333333,\n",
       "       0.96416667, 0.96833333, 0.97083333, 0.97416667, 0.97666667,\n",
       "       0.97916667, 0.9825    , 0.98416667, 0.98583333, 0.98583333])"
      ]
     },
     "execution_count": 84,
     "metadata": {},
     "output_type": "execute_result"
    }
   ],
   "source": [
    "grid_results.cv_results_['std_test_score'][grid_results.best_index_]*100\n",
    "grid_results.cv_results_['mean_test_score']\n",
    "grid_results.cv_results_['mean_train_score']"
   ]
  },
  {
   "cell_type": "code",
   "execution_count": 85,
   "metadata": {
    "colab": {
     "base_uri": "https://localhost:8080/",
     "height": 447
    },
    "executionInfo": {
     "elapsed": 282,
     "status": "ok",
     "timestamp": 1687025041489,
     "user": {
      "displayName": "Lakshmi Singh",
      "userId": "17047074843456537614"
     },
     "user_tz": -330
    },
    "id": "aOXCgHXRyCSR",
    "outputId": "79f0fb9e-0829-42c2-970b-fae8d9c796fb"
   },
   "outputs": [
    {
     "data": {
      "text/plain": [
       "[<matplotlib.lines.Line2D at 0x7fdb7137f9a0>]"
      ]
     },
     "execution_count": 85,
     "metadata": {},
     "output_type": "execute_result"
    },
    {
     "data": {
      "image/png": "[encoded data removed]",
      "text/plain": [
       "<Figure size 640x480 with 1 Axes>"
      ]
     },
     "metadata": {},
     "output_type": "display_data"
    }
   ],
   "source": [
    "plt.plot(grid_results.cv_results_['mean_train_score'] - grid_results.cv_results_['mean_test_score'])"
   ]
  },
  {
   "cell_type": "code",
   "execution_count": 86,
   "metadata": {
    "colab": {
     "base_uri": "https://localhost:8080/"
    },
    "executionInfo": {
     "elapsed": 269,
     "status": "ok",
     "timestamp": 1687025041489,
     "user": {
      "displayName": "Lakshmi Singh",
      "userId": "17047074843456537614"
     },
     "user_tz": -330
    },
    "id": "ncvN_A5byHf-",
    "outputId": "fbe1c98c-4102-4f0d-b2d9-8b791b8bbee0"
   },
   "outputs": [
    {
     "data": {
      "text/plain": [
       "{'C': array([1.0000e-05, 5.0010e-02, 1.0001e-01, 1.5001e-01, 2.0001e-01,\n",
       "        2.5001e-01, 3.0001e-01, 3.5001e-01, 4.0001e-01, 4.5001e-01,\n",
       "        5.0001e-01, 5.5001e-01, 6.0001e-01, 6.5001e-01, 7.0001e-01,\n",
       "        7.5001e-01, 8.0001e-01, 8.5001e-01, 9.0001e-01, 9.5001e-01])}"
      ]
     },
     "execution_count": 86,
     "metadata": {},
     "output_type": "execute_result"
    }
   ],
   "source": [
    "grid_results.param_grid"
   ]
  },
  {
   "cell_type": "code",
   "execution_count": 87,
   "metadata": {
    "colab": {
     "base_uri": "https://localhost:8080/"
    },
    "executionInfo": {
     "elapsed": 261,
     "status": "ok",
     "timestamp": 1687025041490,
     "user": {
      "displayName": "Lakshmi Singh",
      "userId": "17047074843456537614"
     },
     "user_tz": -330
    },
    "id": "mHbIc_5331a9",
    "outputId": "2b2603f7-c4aa-4658-8bc7-97320e62ef46"
   },
   "outputs": [
    {
     "data": {
      "text/plain": [
       "0.15001000000000003"
      ]
     },
     "execution_count": 87,
     "metadata": {},
     "output_type": "execute_result"
    }
   ],
   "source": [
    "grid_results.param_grid['C'][3]"
   ]
  },
  {
   "cell_type": "code",
   "execution_count": 88,
   "metadata": {
    "colab": {
     "base_uri": "https://localhost:8080/"
    },
    "executionInfo": {
     "elapsed": 253,
     "status": "ok",
     "timestamp": 1687025041490,
     "user": {
      "displayName": "Lakshmi Singh",
      "userId": "17047074843456537614"
     },
     "user_tz": -330
    },
    "id": "e0OvF9BH36dR",
    "outputId": "e0e20fb6-f8f8-48f2-befe-f13973039449"
   },
   "outputs": [
    {
     "data": {
      "text/plain": [
       "array([0.        , 0.        , 0.04      , 0.06666667, 0.05166667,\n",
       "       0.05166667, 0.05916667, 0.06166667, 0.06416667, 0.07      ,\n",
       "       0.07083333, 0.07833333, 0.07083333, 0.08083333, 0.07666667,\n",
       "       0.07916667, 0.08583333, 0.08416667, 0.0825    , 0.08583333])"
      ]
     },
     "execution_count": 88,
     "metadata": {},
     "output_type": "execute_result"
    }
   ],
   "source": [
    "grid_results.cv_results_['mean_train_score'] - grid_results.cv_results_['mean_test_score']"
   ]
  },
  {
   "cell_type": "markdown",
   "metadata": {
    "id": "dpT7lHc14Atp"
   },
   "source": [
    "For postprocessing"
   ]
  },
  {
   "cell_type": "code",
   "execution_count": 89,
   "metadata": {
    "colab": {
     "base_uri": "https://localhost:8080/"
    },
    "executionInfo": {
     "elapsed": 244,
     "status": "ok",
     "timestamp": 1687025041491,
     "user": {
      "displayName": "Lakshmi Singh",
      "userId": "17047074843456537614"
     },
     "user_tz": -330
    },
    "id": "qsnwrdGK37sg",
    "outputId": "0c9024f2-6e9c-4f33-9474-9d846c38458d"
   },
   "outputs": [
    {
     "name": "stdout",
     "output_type": "stream",
     "text": [
      "88.33 3.16\n"
     ]
    }
   ],
   "source": [
    "# Create a pipeline & cross-validate\n",
    "from sklearn.pipeline import make_pipeline, Pipeline\n",
    "\n",
    "X = data['cleaned_tweets_w/o_SW']\n",
    "y = data['label']\n",
    "\n",
    "CV = CountVectorizer()\n",
    "LR1 = LogisticRegression(class_weight='balanced', solver='liblinear', penalty='l1', C=0.4)\n",
    "\n",
    "CV_pipe = Pipeline([('CV', CV) , ('LR', LR1)] )\n",
    "\n",
    "results = cross_val_score(CV_pipe, X, y, cv=kfold, scoring='accuracy')\n",
    "print(np.round((results.mean())*100, 2), np.round((results.std())*100, 2))"
   ]
  },
  {
   "cell_type": "code",
   "execution_count": 90,
   "metadata": {
    "colab": {
     "base_uri": "https://localhost:8080/"
    },
    "executionInfo": {
     "elapsed": 233,
     "status": "ok",
     "timestamp": 1687025041492,
     "user": {
      "displayName": "Lakshmi Singh",
      "userId": "17047074843456537614"
     },
     "user_tz": -330
    },
    "id": "r3WcItZb4JIB",
    "outputId": "b63fb7cb-1a07-43fe-e183-76af538b232c"
   },
   "outputs": [
    {
     "data": {
      "text/plain": [
       "{'CV': CountVectorizer(),\n",
       " 'LR': LogisticRegression(C=0.4, class_weight='balanced', penalty='l1',\n",
       "                    solver='liblinear')}"
      ]
     },
     "execution_count": 90,
     "metadata": {},
     "output_type": "execute_result"
    }
   ],
   "source": [
    "CV_pipe.named_steps"
   ]
  },
  {
   "cell_type": "code",
   "execution_count": 91,
   "metadata": {
    "colab": {
     "base_uri": "https://localhost:8080/",
     "height": 126
    },
    "executionInfo": {
     "elapsed": 225,
     "status": "ok",
     "timestamp": 1687025041493,
     "user": {
      "displayName": "Lakshmi Singh",
      "userId": "17047074843456537614"
     },
     "user_tz": -330
    },
    "id": "y5DQnu_X4Nh-",
    "outputId": "9758c173-7194-4d4a-875a-748651eafd4b"
   },
   "outputs": [
    {
     "data": {
      "text/html": [
       "<style>#sk-container-id-2 {color: black;background-color: white;}#sk-container-id-2 pre{padding: 0;}#sk-container-id-2 div.sk-toggleable {background-color: white;}#sk-container-id-2 label.sk-toggleable__label {cursor: pointer;display: block;width: 100%;margin-bottom: 0;padding: 0.3em;box-sizing: border-box;text-align: center;}#sk-container-id-2 label.sk-toggleable__label-arrow:before {content: \"▸\";float: left;margin-right: 0.25em;color: #696969;}#sk-container-id-2 label.sk-toggleable__label-arrow:hover:before {color: black;}#sk-container-id-2 div.sk-estimator:hover label.sk-toggleable__label-arrow:before {color: black;}#sk-container-id-2 div.sk-toggleable__content {max-height: 0;max-width: 0;overflow: hidden;text-align: left;background-color: #f0f8ff;}#sk-container-id-2 div.sk-toggleable__content pre {margin: 0.2em;color: black;border-radius: 0.25em;background-color: #f0f8ff;}#sk-container-id-2 input.sk-toggleable__control:checked~div.sk-toggleable__content {max-height: 200px;max-width: 100%;overflow: auto;}#sk-container-id-2 input.sk-toggleable__control:checked~label.sk-toggleable__label-arrow:before {content: \"▾\";}#sk-container-id-2 div.sk-estimator input.sk-toggleable__control:checked~label.sk-toggleable__label {background-color: #d4ebff;}#sk-container-id-2 div.sk-label input.sk-toggleable__control:checked~label.sk-toggleable__label {background-color: #d4ebff;}#sk-container-id-2 input.sk-hidden--visually {border: 0;clip: rect(1px 1px 1px 1px);clip: rect(1px, 1px, 1px, 1px);height: 1px;margin: -1px;overflow: hidden;padding: 0;position: absolute;width: 1px;}#sk-container-id-2 div.sk-estimator {font-family: monospace;background-color: #f0f8ff;border: 1px dotted black;border-radius: 0.25em;box-sizing: border-box;margin-bottom: 0.5em;}#sk-container-id-2 div.sk-estimator:hover {background-color: #d4ebff;}#sk-container-id-2 div.sk-parallel-item::after {content: \"\";width: 100%;border-bottom: 1px solid gray;flex-grow: 1;}#sk-container-id-2 div.sk-label:hover label.sk-toggleable__label {background-color: #d4ebff;}#sk-container-id-2 div.sk-serial::before {content: \"\";position: absolute;border-left: 1px solid gray;box-sizing: border-box;top: 0;bottom: 0;left: 50%;z-index: 0;}#sk-container-id-2 div.sk-serial {display: flex;flex-direction: column;align-items: center;background-color: white;padding-right: 0.2em;padding-left: 0.2em;position: relative;}#sk-container-id-2 div.sk-item {position: relative;z-index: 1;}#sk-container-id-2 div.sk-parallel {display: flex;align-items: stretch;justify-content: center;background-color: white;position: relative;}#sk-container-id-2 div.sk-item::before, #sk-container-id-2 div.sk-parallel-item::before {content: \"\";position: absolute;border-left: 1px solid gray;box-sizing: border-box;top: 0;bottom: 0;left: 50%;z-index: -1;}#sk-container-id-2 div.sk-parallel-item {display: flex;flex-direction: column;z-index: 1;position: relative;background-color: white;}#sk-container-id-2 div.sk-parallel-item:first-child::after {align-self: flex-end;width: 50%;}#sk-container-id-2 div.sk-parallel-item:last-child::after {align-self: flex-start;width: 50%;}#sk-container-id-2 div.sk-parallel-item:only-child::after {width: 0;}#sk-container-id-2 div.sk-dashed-wrapped {border: 1px dashed gray;margin: 0 0.4em 0.5em 0.4em;box-sizing: border-box;padding-bottom: 0.4em;background-color: white;}#sk-container-id-2 div.sk-label label {font-family: monospace;font-weight: bold;display: inline-block;line-height: 1.2em;}#sk-container-id-2 div.sk-label-container {text-align: center;}#sk-container-id-2 div.sk-container {/* jupyter's `normalize.less` sets `[hidden] { display: none; }` but bootstrap.min.css set `[hidden] { display: none !important; }` so we also need the `!important` here to be able to override the default hidden behavior on the sphinx rendered scikit-learn.org. See: https://github.com/scikit-learn/scikit-learn/issues/21755 */display: inline-block !important;position: relative;}#sk-container-id-2 div.sk-text-repr-fallback {display: none;}</style><div id=\"sk-container-id-2\" class=\"sk-top-container\"><div class=\"sk-text-repr-fallback\"><pre>Pipeline(steps=[(&#x27;CV&#x27;, CountVectorizer()),\n",
       "                (&#x27;LR&#x27;,\n",
       "                 LogisticRegression(C=0.4, class_weight=&#x27;balanced&#x27;,\n",
       "                                    penalty=&#x27;l1&#x27;, solver=&#x27;liblinear&#x27;))])</pre><b>In a Jupyter environment, please rerun this cell to show the HTML representation or trust the notebook. <br />On GitHub, the HTML representation is unable to render, please try loading this page with nbviewer.org.</b></div><div class=\"sk-container\" hidden><div class=\"sk-item sk-dashed-wrapped\"><div class=\"sk-label-container\"><div class=\"sk-label sk-toggleable\"><input class=\"sk-toggleable__control sk-hidden--visually\" id=\"sk-estimator-id-4\" type=\"checkbox\" ><label for=\"sk-estimator-id-4\" class=\"sk-toggleable__label sk-toggleable__label-arrow\">Pipeline</label><div class=\"sk-toggleable__content\"><pre>Pipeline(steps=[(&#x27;CV&#x27;, CountVectorizer()),\n",
       "                (&#x27;LR&#x27;,\n",
       "                 LogisticRegression(C=0.4, class_weight=&#x27;balanced&#x27;,\n",
       "                                    penalty=&#x27;l1&#x27;, solver=&#x27;liblinear&#x27;))])</pre></div></div></div><div class=\"sk-serial\"><div class=\"sk-item\"><div class=\"sk-estimator sk-toggleable\"><input class=\"sk-toggleable__control sk-hidden--visually\" id=\"sk-estimator-id-5\" type=\"checkbox\" ><label for=\"sk-estimator-id-5\" class=\"sk-toggleable__label sk-toggleable__label-arrow\">CountVectorizer</label><div class=\"sk-toggleable__content\"><pre>CountVectorizer()</pre></div></div></div><div class=\"sk-item\"><div class=\"sk-estimator sk-toggleable\"><input class=\"sk-toggleable__control sk-hidden--visually\" id=\"sk-estimator-id-6\" type=\"checkbox\" ><label for=\"sk-estimator-id-6\" class=\"sk-toggleable__label sk-toggleable__label-arrow\">LogisticRegression</label><div class=\"sk-toggleable__content\"><pre>LogisticRegression(C=0.4, class_weight=&#x27;balanced&#x27;, penalty=&#x27;l1&#x27;,\n",
       "                   solver=&#x27;liblinear&#x27;)</pre></div></div></div></div></div></div></div>"
      ],
      "text/plain": [
       "Pipeline(steps=[('CV', CountVectorizer()),\n",
       "                ('LR',\n",
       "                 LogisticRegression(C=0.4, class_weight='balanced',\n",
       "                                    penalty='l1', solver='liblinear'))])"
      ]
     },
     "execution_count": 91,
     "metadata": {},
     "output_type": "execute_result"
    }
   ],
   "source": [
    "CV_pipe.fit(X,y) #fit the pipeline"
   ]
  },
  {
   "cell_type": "code",
   "execution_count": 92,
   "metadata": {
    "colab": {
     "base_uri": "https://localhost:8080/"
    },
    "executionInfo": {
     "elapsed": 223,
     "status": "ok",
     "timestamp": 1687025041494,
     "user": {
      "displayName": "Lakshmi Singh",
      "userId": "17047074843456537614"
     },
     "user_tz": -330
    },
    "id": "jyg92aq54Tji",
    "outputId": "b6a431e4-4f40-4216-d101-6645e9ed42da"
   },
   "outputs": [
    {
     "data": {
      "text/plain": [
       "1437"
      ]
     },
     "execution_count": 92,
     "metadata": {},
     "output_type": "execute_result"
    }
   ],
   "source": [
    "len(CV_pipe['CV'].vocabulary_)  # CV with stopwords applied already & word_len > 2"
   ]
  },
  {
   "cell_type": "markdown",
   "metadata": {
    "id": "qNWwswf0VMIa"
   },
   "source": [
    "Word embedding"
   ]
  },
  {
   "cell_type": "code",
   "execution_count": 93,
   "metadata": {
    "colab": {
     "base_uri": "https://localhost:8080/"
    },
    "executionInfo": {
     "elapsed": 215,
     "status": "ok",
     "timestamp": 1687025041495,
     "user": {
      "displayName": "Lakshmi Singh",
      "userId": "17047074843456537614"
     },
     "user_tz": -330
    },
    "id": "tQyWy4jS4oa6",
    "outputId": "87d15024-d470-4278-f793-ee9735b0a2b6"
   },
   "outputs": [
    {
     "data": {
      "text/plain": [
       "['when',\n",
       " 'a',\n",
       " 'father',\n",
       " 'is',\n",
       " 'dysfunctional',\n",
       " 'and',\n",
       " 'is',\n",
       " 'so',\n",
       " 'selfish',\n",
       " 'he',\n",
       " 'drag',\n",
       " 'his',\n",
       " 'kid',\n",
       " 'into',\n",
       " 'his',\n",
       " 'dysfunction',\n",
       " 'run']"
      ]
     },
     "execution_count": 93,
     "metadata": {},
     "output_type": "execute_result"
    }
   ],
   "source": [
    "tweets_list = list(data['cleaned_tweets_w/o_SW'].apply(lambda x: x.split()))\n",
    "tweets_list[0] # list of lists, where each tweet is a list of tokens, finally we have a list of tweets"
   ]
  },
  {
   "cell_type": "code",
   "execution_count": 94,
   "metadata": {
    "executionInfo": {
     "elapsed": 901,
     "status": "ok",
     "timestamp": 1687025042190,
     "user": {
      "displayName": "Lakshmi Singh",
      "userId": "17047074843456537614"
     },
     "user_tz": -330
    },
    "id": "DZfzXYrPUaJO"
   },
   "outputs": [],
   "source": [
    "# Creating your own Word2Vec Model & Train\n",
    "#to learn distributed representations of words by predicting the context words given a target word.\n",
    "#to capture the surrounding context of a word in a given corpus.\n",
    "from gensim.models import Word2Vec\n",
    "# train model\n",
    "cbow_model = Word2Vec(tweets_list, vector_size = 300, window = 3, min_count=5, sg=0)"
   ]
  },
  {
   "cell_type": "code",
   "execution_count": 95,
   "metadata": {
    "colab": {
     "base_uri": "https://localhost:8080/"
    },
    "executionInfo": {
     "elapsed": 122,
     "status": "ok",
     "timestamp": 1687025042192,
     "user": {
      "displayName": "Lakshmi Singh",
      "userId": "17047074843456537614"
     },
     "user_tz": -330
    },
    "id": "2BSBT0oEVWTC",
    "outputId": "b3957e52-8005-48c5-9d9b-77e0d1a486e4"
   },
   "outputs": [
    {
     "name": "stdout",
     "output_type": "stream",
     "text": [
      "Word2Vec<vocab=126, vector_size=300, alpha=0.025>\n"
     ]
    }
   ],
   "source": [
    "# summarize the loaded model\n",
    "print(cbow_model)"
   ]
  },
  {
   "cell_type": "code",
   "execution_count": 96,
   "metadata": {
    "colab": {
     "base_uri": "https://localhost:8080/"
    },
    "executionInfo": {
     "elapsed": 122,
     "status": "ok",
     "timestamp": 1687025042198,
     "user": {
      "displayName": "Lakshmi Singh",
      "userId": "17047074843456537614"
     },
     "user_tz": -330
    },
    "id": "T3hSeF6jVlig",
    "outputId": "d9d6cb02-77b6-4f3c-c748-f7732485e9c2"
   },
   "outputs": [
    {
     "data": {
      "text/plain": [
       "['the',\n",
       " 'you',\n",
       " 'to',\n",
       " 'i',\n",
       " 'is',\n",
       " 'a',\n",
       " 'it',\n",
       " 'for',\n",
       " 'and',\n",
       " 'in',\n",
       " 'love',\n",
       " 'of',\n",
       " 'are',\n",
       " 'am',\n",
       " 'have',\n",
       " 'not',\n",
       " 'my',\n",
       " 'on',\n",
       " 'all',\n",
       " 'so']"
      ]
     },
     "execution_count": 96,
     "metadata": {},
     "output_type": "execute_result"
    }
   ],
   "source": [
    "cbow_model.wv.index_to_key[:20]  # this your vocab"
   ]
  },
  {
   "cell_type": "code",
   "execution_count": 97,
   "metadata": {
    "colab": {
     "base_uri": "https://localhost:8080/"
    },
    "executionInfo": {
     "elapsed": 120,
     "status": "ok",
     "timestamp": 1687025042202,
     "user": {
      "displayName": "Lakshmi Singh",
      "userId": "17047074843456537614"
     },
     "user_tz": -330
    },
    "id": "nYTtr5lIVpxh",
    "outputId": "59fe98f5-02a4-4306-e422-f4faab4f8b27"
   },
   "outputs": [
    {
     "data": {
      "text/plain": [
       "126"
      ]
     },
     "execution_count": 97,
     "metadata": {},
     "output_type": "execute_result"
    }
   ],
   "source": [
    "len(cbow_model.wv.index_to_key)"
   ]
  },
  {
   "cell_type": "code",
   "execution_count": 98,
   "metadata": {
    "executionInfo": {
     "elapsed": 117,
     "status": "ok",
     "timestamp": 1687025042204,
     "user": {
      "displayName": "Lakshmi Singh",
      "userId": "17047074843456537614"
     },
     "user_tz": -330
    },
    "id": "8PRsaLfiVsca"
   },
   "outputs": [],
   "source": [
    "def document_vector(doc):\n",
    "    \"\"\"Create document vectors by averaging word vectors. Remove out-of-vocabulary words.\"\"\"\n",
    "\n",
    "    # doc1 contains those words of the document which are included in the vocab\n",
    "    doc1 = [word for word in doc.split() if word in cbow_model.wv.index_to_key]\n",
    "\n",
    "    wv1 = []  # this will contain the WE of all the vocab words from the doc\n",
    "    for word in doc1:\n",
    "        wv1.append(cbow_model.wv.get_vector(word))\n",
    "    wv1_ = np.array(wv1)\n",
    "    wv1_mean = wv1_.mean(axis=0)\n",
    "    return wv1_mean\n",
    "\n",
    "# np.mean(model[doc], axis=0)"
   ]
  },
  {
   "cell_type": "code",
   "execution_count": 99,
   "metadata": {
    "colab": {
     "base_uri": "https://localhost:8080/"
    },
    "executionInfo": {
     "elapsed": 121,
     "status": "ok",
     "timestamp": 1687025042209,
     "user": {
      "displayName": "Lakshmi Singh",
      "userId": "17047074843456537614"
     },
     "user_tz": -330
    },
    "id": "sYvWkySmVzOY",
    "outputId": "7bd0504a-458e-4ea9-967c-665ac39ea81f"
   },
   "outputs": [
    {
     "name": "stderr",
     "output_type": "stream",
     "text": [
      "<ipython-input-98-ab5affc3cd8c>:11: RuntimeWarning: Mean of empty slice.\n",
      "  wv1_mean = wv1_.mean(axis=0)\n"
     ]
    }
   ],
   "source": [
    "tweets_temp = data['cleaned_tweets_w/o_SW'].apply(document_vector)"
   ]
  },
  {
   "cell_type": "code",
   "execution_count": 100,
   "metadata": {
    "colab": {
     "base_uri": "https://localhost:8080/"
    },
    "executionInfo": {
     "elapsed": 119,
     "status": "ok",
     "timestamp": 1687025042212,
     "user": {
      "displayName": "Lakshmi Singh",
      "userId": "17047074843456537614"
     },
     "user_tz": -330
    },
    "id": "B6xtlLofV2Wo",
    "outputId": "5cea89cb-e63e-4aea-b661-de05df5745aa"
   },
   "outputs": [
    {
     "data": {
      "text/plain": [
       "0    [-0.0013821644, 0.0011881584, 0.0014661971, -0.0012742494, -0.00019973896, -0.00054954336, 0.0018664381, 0.0031570725, 0.0015331192, -0.0016956164, -0.0006269156, -0.00080423284, -0.0009828857, 0....\n",
       "1    [-0.0005012006, 0.0019622375, -0.00012813916, 0.0012590208, 0.00014337114, -0.00029954265, 0.0014871265, 0.0019538233, 0.00018789682, -4.629664e-05, 0.0009535809, 0.0006411772, 0.00021969253, 0.00...\n",
       "2    [0.0016588522, 0.001998095, -0.0026845594, -0.0015153401, 0.0013582057, 0.00019540236, 0.0024436344, 0.0019766975, 0.00076327287, -0.0018854411, 0.0012908678, -0.0017495928, 0.00019788061, -0.0024...\n",
       "3    [-0.0012605977, 0.0022618715, -0.0004930126, 0.0004999654, -0.00040018145, -0.0009109779, 0.0030835639, 0.0036650884, 0.00042016405, -0.0012929594, 0.0012408916, -0.00048148932, -9.999588e-06, -0....\n",
       "4    [-0.00263397, -0.0013074506, 0.0007899966, 0.0015061296, -0.0028757027, 0.0023702863, 0.0038073615, 5.8487436e-05, -0.0024367822, -0.0034888198, -0.0010532249, 0.0029611574, -0.0026516165, 0.00015...\n",
       "Name: cleaned_tweets_w/o_SW, dtype: object"
      ]
     },
     "execution_count": 100,
     "metadata": {},
     "output_type": "execute_result"
    }
   ],
   "source": [
    "tweets_temp[:5]  # displaying the 1st 5 tweets, as document vectors"
   ]
  },
  {
   "cell_type": "code",
   "execution_count": 101,
   "metadata": {
    "colab": {
     "base_uri": "https://localhost:8080/"
    },
    "executionInfo": {
     "elapsed": 103,
     "status": "ok",
     "timestamp": 1687025042213,
     "user": {
      "displayName": "Lakshmi Singh",
      "userId": "17047074843456537614"
     },
     "user_tz": -330
    },
    "id": "sTmKHvtiV9LF",
    "outputId": "cab00f0b-b0e2-4907-89d0-856973e40535"
   },
   "outputs": [
    {
     "data": {
      "text/plain": [
       "(300,)"
      ]
     },
     "execution_count": 101,
     "metadata": {},
     "output_type": "execute_result"
    }
   ],
   "source": [
    "tweets_temp[0].shape"
   ]
  },
  {
   "cell_type": "code",
   "execution_count": 102,
   "metadata": {
    "colab": {
     "base_uri": "https://localhost:8080/"
    },
    "executionInfo": {
     "elapsed": 89,
     "status": "ok",
     "timestamp": 1687025042213,
     "user": {
      "displayName": "Lakshmi Singh",
      "userId": "17047074843456537614"
     },
     "user_tz": -330
    },
    "id": "SHCAVS47WDxo",
    "outputId": "f92a65d3-74bd-44f7-876c-edb3248c6558"
   },
   "outputs": [
    {
     "data": {
      "text/plain": [
       "pandas.core.series.Series"
      ]
     },
     "execution_count": 102,
     "metadata": {},
     "output_type": "execute_result"
    }
   ],
   "source": [
    "type(tweets_temp)"
   ]
  },
  {
   "cell_type": "code",
   "execution_count": 103,
   "metadata": {
    "colab": {
     "base_uri": "https://localhost:8080/"
    },
    "executionInfo": {
     "elapsed": 85,
     "status": "ok",
     "timestamp": 1687025042214,
     "user": {
      "displayName": "Lakshmi Singh",
      "userId": "17047074843456537614"
     },
     "user_tz": -330
    },
    "id": "9SLNdPn7WI5s",
    "outputId": "b9bb2be8-c937-46d8-ca06-cb96c18e9951"
   },
   "outputs": [
    {
     "data": {
      "text/plain": [
       "(300, 300)"
      ]
     },
     "execution_count": 103,
     "metadata": {},
     "output_type": "execute_result"
    }
   ],
   "source": [
    "# Combining all the document vectors into a singl numpy array (tweets_vec)\n",
    "embedding_size = 300\n",
    "tweets_vec = np.ones((len(tweets_temp), embedding_size))*np.nan\n",
    "for i in range(tweets_vec.shape[0]):\n",
    "    tweets_vec[i,:] = tweets_temp.iloc[i]\n",
    "\n",
    "tweets_vec.shape # this itself is your final FEATURE MATRIX"
   ]
  },
  {
   "cell_type": "code",
   "execution_count": 104,
   "metadata": {
    "executionInfo": {
     "elapsed": 80,
     "status": "ok",
     "timestamp": 1687025042214,
     "user": {
      "displayName": "Lakshmi Singh",
      "userId": "17047074843456537614"
     },
     "user_tz": -330
    },
    "id": "5lu9Xm5bWNMX"
   },
   "outputs": [],
   "source": [
    "# Create a new DF to store these new documnent features\n",
    "df = pd.DataFrame(tweets_vec)\n",
    "df['y'] = data['label']\n",
    "df.dropna(how='any', axis=0, inplace=True)"
   ]
  },
  {
   "cell_type": "code",
   "execution_count": 105,
   "metadata": {
    "colab": {
     "base_uri": "https://localhost:8080/",
     "height": 300
    },
    "executionInfo": {
     "elapsed": 79,
     "status": "ok",
     "timestamp": 1687025042214,
     "user": {
      "displayName": "Lakshmi Singh",
      "userId": "17047074843456537614"
     },
     "user_tz": -330
    },
    "id": "PEV0FP04WRys",
    "outputId": "f769cbb0-3de5-4a33-9d6f-0dcb3535fdc9"
   },
   "outputs": [
    {
     "data": {
      "text/html": [
       "\n",
       "  <div id=\"df-4745e66f-cf0b-4d9e-8440-abe8f490e6a6\">\n",
       "    <div class=\"colab-df-container\">\n",
       "      <div>\n",
       "<style scoped>\n",
       "    .dataframe tbody tr th:only-of-type {\n",
       "        vertical-align: middle;\n",
       "    }\n",
       "\n",
       "    .dataframe tbody tr th {\n",
       "        vertical-align: top;\n",
       "    }\n",
       "\n",
       "    .dataframe thead th {\n",
       "        text-align: right;\n",
       "    }\n",
       "</style>\n",
       "<table border=\"1\" class=\"dataframe\">\n",
       "  <thead>\n",
       "    <tr style=\"text-align: right;\">\n",
       "      <th></th>\n",
       "      <th>0</th>\n",
       "      <th>1</th>\n",
       "      <th>2</th>\n",
       "      <th>3</th>\n",
       "      <th>4</th>\n",
       "      <th>5</th>\n",
       "      <th>6</th>\n",
       "      <th>7</th>\n",
       "      <th>8</th>\n",
       "      <th>9</th>\n",
       "      <th>...</th>\n",
       "      <th>291</th>\n",
       "      <th>292</th>\n",
       "      <th>293</th>\n",
       "      <th>294</th>\n",
       "      <th>295</th>\n",
       "      <th>296</th>\n",
       "      <th>297</th>\n",
       "      <th>298</th>\n",
       "      <th>299</th>\n",
       "      <th>y</th>\n",
       "    </tr>\n",
       "  </thead>\n",
       "  <tbody>\n",
       "    <tr>\n",
       "      <th>0</th>\n",
       "      <td>-0.001382</td>\n",
       "      <td>0.001188</td>\n",
       "      <td>0.001466</td>\n",
       "      <td>-0.001274</td>\n",
       "      <td>-0.000200</td>\n",
       "      <td>-0.000550</td>\n",
       "      <td>0.001866</td>\n",
       "      <td>0.003157</td>\n",
       "      <td>0.001533</td>\n",
       "      <td>-0.001696</td>\n",
       "      <td>...</td>\n",
       "      <td>0.001853</td>\n",
       "      <td>0.001229</td>\n",
       "      <td>0.000998</td>\n",
       "      <td>0.000270</td>\n",
       "      <td>0.000252</td>\n",
       "      <td>0.000472</td>\n",
       "      <td>0.000518</td>\n",
       "      <td>-0.000223</td>\n",
       "      <td>0.000893</td>\n",
       "      <td>0</td>\n",
       "    </tr>\n",
       "    <tr>\n",
       "      <th>1</th>\n",
       "      <td>-0.000501</td>\n",
       "      <td>0.001962</td>\n",
       "      <td>-0.000128</td>\n",
       "      <td>0.001259</td>\n",
       "      <td>0.000143</td>\n",
       "      <td>-0.000300</td>\n",
       "      <td>0.001487</td>\n",
       "      <td>0.001954</td>\n",
       "      <td>0.000188</td>\n",
       "      <td>-0.000046</td>\n",
       "      <td>...</td>\n",
       "      <td>0.001588</td>\n",
       "      <td>-0.001058</td>\n",
       "      <td>0.001603</td>\n",
       "      <td>0.001501</td>\n",
       "      <td>0.001761</td>\n",
       "      <td>0.000665</td>\n",
       "      <td>-0.000423</td>\n",
       "      <td>0.001042</td>\n",
       "      <td>-0.000132</td>\n",
       "      <td>0</td>\n",
       "    </tr>\n",
       "    <tr>\n",
       "      <th>2</th>\n",
       "      <td>0.001659</td>\n",
       "      <td>0.001998</td>\n",
       "      <td>-0.002685</td>\n",
       "      <td>-0.001515</td>\n",
       "      <td>0.001358</td>\n",
       "      <td>0.000195</td>\n",
       "      <td>0.002444</td>\n",
       "      <td>0.001977</td>\n",
       "      <td>0.000763</td>\n",
       "      <td>-0.001885</td>\n",
       "      <td>...</td>\n",
       "      <td>0.001695</td>\n",
       "      <td>0.001665</td>\n",
       "      <td>0.002287</td>\n",
       "      <td>0.001233</td>\n",
       "      <td>0.000366</td>\n",
       "      <td>0.002905</td>\n",
       "      <td>0.001934</td>\n",
       "      <td>0.000193</td>\n",
       "      <td>0.000442</td>\n",
       "      <td>0</td>\n",
       "    </tr>\n",
       "    <tr>\n",
       "      <th>3</th>\n",
       "      <td>-0.001261</td>\n",
       "      <td>0.002262</td>\n",
       "      <td>-0.000493</td>\n",
       "      <td>0.000500</td>\n",
       "      <td>-0.000400</td>\n",
       "      <td>-0.000911</td>\n",
       "      <td>0.003084</td>\n",
       "      <td>0.003665</td>\n",
       "      <td>0.000420</td>\n",
       "      <td>-0.001293</td>\n",
       "      <td>...</td>\n",
       "      <td>0.002946</td>\n",
       "      <td>-0.000264</td>\n",
       "      <td>0.000406</td>\n",
       "      <td>0.002400</td>\n",
       "      <td>0.002615</td>\n",
       "      <td>0.000018</td>\n",
       "      <td>-0.001116</td>\n",
       "      <td>0.001203</td>\n",
       "      <td>-0.000536</td>\n",
       "      <td>0</td>\n",
       "    </tr>\n",
       "    <tr>\n",
       "      <th>4</th>\n",
       "      <td>-0.002634</td>\n",
       "      <td>-0.001307</td>\n",
       "      <td>0.000790</td>\n",
       "      <td>0.001506</td>\n",
       "      <td>-0.002876</td>\n",
       "      <td>0.002370</td>\n",
       "      <td>0.003807</td>\n",
       "      <td>0.000058</td>\n",
       "      <td>-0.002437</td>\n",
       "      <td>-0.003489</td>\n",
       "      <td>...</td>\n",
       "      <td>0.000774</td>\n",
       "      <td>0.002648</td>\n",
       "      <td>0.002794</td>\n",
       "      <td>0.000607</td>\n",
       "      <td>0.002305</td>\n",
       "      <td>-0.002393</td>\n",
       "      <td>-0.000891</td>\n",
       "      <td>0.003380</td>\n",
       "      <td>-0.000517</td>\n",
       "      <td>0</td>\n",
       "    </tr>\n",
       "  </tbody>\n",
       "</table>\n",
       "<p>5 rows × 301 columns</p>\n",
       "</div>\n",
       "      <button class=\"colab-df-convert\" onclick=\"convertToInteractive('df-4745e66f-cf0b-4d9e-8440-abe8f490e6a6')\"\n",
       "              title=\"Convert this dataframe to an interactive table.\"\n",
       "              style=\"display:none;\">\n",
       "        \n",
       "  <svg xmlns=\"http://www.w3.org/2000/svg\" height=\"24px\"viewBox=\"0 0 24 24\"\n",
       "       width=\"24px\">\n",
       "    <path d=\"M0 0h24v24H0V0z\" fill=\"none\"/>\n",
       "    <path d=\"M18.56 5.44l.94 2.06.94-2.06 2.06-.94-2.06-.94-.94-2.06-.94 2.06-2.06.94zm-11 1L8.5 8.5l.94-2.06 2.06-.94-2.06-.94L8.5 2.5l-.94 2.06-2.06.94zm10 10l.94 2.06.94-2.06 2.06-.94-2.06-.94-.94-2.06-.94 2.06-2.06.94z\"/><path d=\"M17.41 7.96l-1.37-1.37c-.4-.4-.92-.59-1.43-.59-.52 0-1.04.2-1.43.59L10.3 9.45l-7.72 7.72c-.78.78-.78 2.05 0 2.83L4 21.41c.39.39.9.59 1.41.59.51 0 1.02-.2 1.41-.59l7.78-7.78 2.81-2.81c.8-.78.8-2.07 0-2.86zM5.41 20L4 18.59l7.72-7.72 1.47 1.35L5.41 20z\"/>\n",
       "  </svg>\n",
       "      </button>\n",
       "      \n",
       "  <style>\n",
       "    .colab-df-container {\n",
       "      display:flex;\n",
       "      flex-wrap:wrap;\n",
       "      gap: 12px;\n",
       "    }\n",
       "\n",
       "    .colab-df-convert {\n",
       "      background-color: #E8F0FE;\n",
       "      border: none;\n",
       "      border-radius: 50%;\n",
       "      cursor: pointer;\n",
       "      display: none;\n",
       "      fill: #1967D2;\n",
       "      height: 32px;\n",
       "      padding: 0 0 0 0;\n",
       "      width: 32px;\n",
       "    }\n",
       "\n",
       "    .colab-df-convert:hover {\n",
       "      background-color: #E2EBFA;\n",
       "      box-shadow: 0px 1px 2px rgba(60, 64, 67, 0.3), 0px 1px 3px 1px rgba(60, 64, 67, 0.15);\n",
       "      fill: #174EA6;\n",
       "    }\n",
       "\n",
       "    [theme=dark] .colab-df-convert {\n",
       "      background-color: #3B4455;\n",
       "      fill: #D2E3FC;\n",
       "    }\n",
       "\n",
       "    [theme=dark] .colab-df-convert:hover {\n",
       "      background-color: #434B5C;\n",
       "      box-shadow: 0px 1px 3px 1px rgba(0, 0, 0, 0.15);\n",
       "      filter: drop-shadow(0px 1px 2px rgba(0, 0, 0, 0.3));\n",
       "      fill: #FFFFFF;\n",
       "    }\n",
       "  </style>\n",
       "\n",
       "      <script>\n",
       "        const buttonEl =\n",
       "          document.querySelector('#df-4745e66f-cf0b-4d9e-8440-abe8f490e6a6 button.colab-df-convert');\n",
       "        buttonEl.style.display =\n",
       "          google.colab.kernel.accessAllowed ? 'block' : 'none';\n",
       "\n",
       "        async function convertToInteractive(key) {\n",
       "          const element = document.querySelector('#df-4745e66f-cf0b-4d9e-8440-abe8f490e6a6');\n",
       "          const dataTable =\n",
       "            await google.colab.kernel.invokeFunction('convertToInteractive',\n",
       "                                                     [key], {});\n",
       "          if (!dataTable) return;\n",
       "\n",
       "          const docLinkHtml = 'Like what you see? Visit the ' +\n",
       "            '<a target=\"_blank\" href=https://colab.research.google.com/notebooks/data_table.ipynb>data table notebook</a>'\n",
       "            + ' to learn more about interactive tables.';\n",
       "          element.innerHTML = '';\n",
       "          dataTable['output_type'] = 'display_data';\n",
       "          await google.colab.output.renderOutput(dataTable, element);\n",
       "          const docLink = document.createElement('div');\n",
       "          docLink.innerHTML = docLinkHtml;\n",
       "          element.appendChild(docLink);\n",
       "        }\n",
       "      </script>\n",
       "    </div>\n",
       "  </div>\n",
       "  "
      ],
      "text/plain": [
       "          0         1         2         3         4         5         6  \\\n",
       "0 -0.001382  0.001188  0.001466 -0.001274 -0.000200 -0.000550  0.001866   \n",
       "1 -0.000501  0.001962 -0.000128  0.001259  0.000143 -0.000300  0.001487   \n",
       "2  0.001659  0.001998 -0.002685 -0.001515  0.001358  0.000195  0.002444   \n",
       "3 -0.001261  0.002262 -0.000493  0.000500 -0.000400 -0.000911  0.003084   \n",
       "4 -0.002634 -0.001307  0.000790  0.001506 -0.002876  0.002370  0.003807   \n",
       "\n",
       "          7         8         9  ...       291       292       293       294  \\\n",
       "0  0.003157  0.001533 -0.001696  ...  0.001853  0.001229  0.000998  0.000270   \n",
       "1  0.001954  0.000188 -0.000046  ...  0.001588 -0.001058  0.001603  0.001501   \n",
       "2  0.001977  0.000763 -0.001885  ...  0.001695  0.001665  0.002287  0.001233   \n",
       "3  0.003665  0.000420 -0.001293  ...  0.002946 -0.000264  0.000406  0.002400   \n",
       "4  0.000058 -0.002437 -0.003489  ...  0.000774  0.002648  0.002794  0.000607   \n",
       "\n",
       "        295       296       297       298       299  y  \n",
       "0  0.000252  0.000472  0.000518 -0.000223  0.000893  0  \n",
       "1  0.001761  0.000665 -0.000423  0.001042 -0.000132  0  \n",
       "2  0.000366  0.002905  0.001934  0.000193  0.000442  0  \n",
       "3  0.002615  0.000018 -0.001116  0.001203 -0.000536  0  \n",
       "4  0.002305 -0.002393 -0.000891  0.003380 -0.000517  0  \n",
       "\n",
       "[5 rows x 301 columns]"
      ]
     },
     "execution_count": 105,
     "metadata": {},
     "output_type": "execute_result"
    }
   ],
   "source": [
    "df.head()"
   ]
  },
  {
   "cell_type": "code",
   "execution_count": 106,
   "metadata": {
    "colab": {
     "base_uri": "https://localhost:8080/"
    },
    "executionInfo": {
     "elapsed": 78,
     "status": "ok",
     "timestamp": 1687025042215,
     "user": {
      "displayName": "Lakshmi Singh",
      "userId": "17047074843456537614"
     },
     "user_tz": -330
    },
    "id": "Of5cp45pWVNJ",
    "outputId": "2eb61bee-9313-4702-cca4-75ed39069783"
   },
   "outputs": [
    {
     "data": {
      "text/plain": [
       "(290, 301)"
      ]
     },
     "execution_count": 106,
     "metadata": {},
     "output_type": "execute_result"
    }
   ],
   "source": [
    "df.shape"
   ]
  },
  {
   "cell_type": "code",
   "execution_count": 107,
   "metadata": {
    "colab": {
     "base_uri": "https://localhost:8080/"
    },
    "executionInfo": {
     "elapsed": 73,
     "status": "ok",
     "timestamp": 1687025042216,
     "user": {
      "displayName": "Lakshmi Singh",
      "userId": "17047074843456537614"
     },
     "user_tz": -330
    },
    "id": "OdkzG9lwWYnY",
    "outputId": "e45c4fe7-d727-42c7-85c3-25319639e675"
   },
   "outputs": [
    {
     "data": {
      "text/plain": [
       "(290, 300)"
      ]
     },
     "execution_count": 107,
     "metadata": {},
     "output_type": "execute_result"
    }
   ],
   "source": [
    "X_word_emb = df.drop('y', axis=1)\n",
    "y = df['y']\n",
    "X_word_emb.shape"
   ]
  },
  {
   "cell_type": "code",
   "execution_count": 108,
   "metadata": {
    "executionInfo": {
     "elapsed": 68,
     "status": "ok",
     "timestamp": 1687025042216,
     "user": {
      "displayName": "Lakshmi Singh",
      "userId": "17047074843456537614"
     },
     "user_tz": -330
    },
    "id": "cSSbzPGTWbU9"
   },
   "outputs": [],
   "source": [
    "from sklearn.pipeline import make_pipeline, Pipeline\n",
    "from sklearn.linear_model import LogisticRegression\n",
    "from sklearn.model_selection import cross_val_score, cross_validate\n",
    "from sklearn.model_selection import StratifiedKFold\n",
    "from sklearn.preprocessing import StandardScaler\n",
    "from sklearn.feature_extraction.text import CountVectorizer"
   ]
  },
  {
   "cell_type": "code",
   "execution_count": 109,
   "metadata": {
    "colab": {
     "base_uri": "https://localhost:8080/"
    },
    "executionInfo": {
     "elapsed": 68,
     "status": "ok",
     "timestamp": 1687025042217,
     "user": {
      "displayName": "Lakshmi Singh",
      "userId": "17047074843456537614"
     },
     "user_tz": -330
    },
    "id": "rH4wl9izWeYg",
    "outputId": "22b2a52b-c8d6-4f66-fedc-dee352263265"
   },
   "outputs": [
    {
     "name": "stdout",
     "output_type": "stream",
     "text": [
      "95.52 0.75\n",
      "82.41 2.97\n"
     ]
    }
   ],
   "source": [
    "kfold = StratifiedKFold(n_splits=5, shuffle=True, random_state=42)\n",
    "LR1 = LogisticRegression(class_weight='balanced', solver='liblinear', penalty='l1', C=0.4, random_state=42)\n",
    "WE_pipe = Pipeline([('SC', StandardScaler()), ('LR', LR1)] )\n",
    "\n",
    "results = cross_validate(WE_pipe, X_word_emb, y, cv=kfold, scoring='accuracy', return_train_score=True)\n",
    "\n",
    "# print(results['train_score'])\n",
    "print(np.round((results['train_score'].mean())*100, 2), np.round((results['train_score'].std())*100, 2))\n",
    "\n",
    "# print(results['test_score'])\n",
    "print(np.round((results['test_score'].mean())*100, 2), np.round((results['test_score'].std())*100, 2))"
   ]
  },
  {
   "cell_type": "code",
   "execution_count": 110,
   "metadata": {
    "executionInfo": {
     "elapsed": 63,
     "status": "ok",
     "timestamp": 1687025042217,
     "user": {
      "displayName": "Lakshmi Singh",
      "userId": "17047074843456537614"
     },
     "user_tz": -330
    },
    "id": "7EHVDl6GWie6"
   },
   "outputs": [],
   "source": [
    "X = data['cleaned_tweets_w/o_SW']\n",
    "y = data['label']"
   ]
  },
  {
   "cell_type": "code",
   "execution_count": 111,
   "metadata": {
    "colab": {
     "base_uri": "https://localhost:8080/"
    },
    "executionInfo": {
     "elapsed": 63,
     "status": "ok",
     "timestamp": 1687025042218,
     "user": {
      "displayName": "Lakshmi Singh",
      "userId": "17047074843456537614"
     },
     "user_tz": -330
    },
    "id": "wVw6VYs5Wnsm",
    "outputId": "0ab71b18-fd2f-491f-f45d-ff08146f8b0f"
   },
   "outputs": [
    {
     "name": "stdout",
     "output_type": "stream",
     "text": [
      "86.92 2.64\n",
      "79.0 7.12\n"
     ]
    },
    {
     "data": {
      "text/plain": [
       "115"
      ]
     },
     "execution_count": 111,
     "metadata": {},
     "output_type": "execute_result"
    }
   ],
   "source": [
    "# we want to include only those words in the vocab which have min df of 5,\n",
    "# means select only those words which occur ATLEAST in 5 documents!!\n",
    "# AND SELECT the TOP 300 FEATURES ONLY to build the model\n",
    "CV = CountVectorizer(min_df=5, max_features=300)\n",
    "\n",
    "LR1 = LogisticRegression(class_weight='balanced', solver='liblinear', penalty='l1', C=0.4)\n",
    "CV_pipe = Pipeline([('CV', CV) , ('LR', LR1)] )\n",
    "results = cross_validate(CV_pipe, X, y, cv=kfold, scoring='accuracy', return_train_score=True)\n",
    "\n",
    "# print(results['train_score'])\n",
    "print(np.round((results['train_score'].mean())*100, 2), np.round((results['train_score'].std())*100, 2))\n",
    "\n",
    "# print(results['test_score'])\n",
    "print(np.round((results['test_score'].mean())*100, 2), np.round((results['test_score'].std())*100, 2))\n",
    "\n",
    "CV.fit_transform(X)\n",
    "len(CV.vocabulary_)  # no. of features AFTER applying the stopwords"
   ]
  },
  {
   "cell_type": "markdown",
   "metadata": {
    "id": "MRFrbi8-XJy6"
   },
   "source": [
    "Word embedding with GloVe Model"
   ]
  },
  {
   "cell_type": "code",
   "execution_count": 112,
   "metadata": {
    "executionInfo": {
     "elapsed": 59,
     "status": "ok",
     "timestamp": 1687025042219,
     "user": {
      "displayName": "Lakshmi Singh",
      "userId": "17047074843456537614"
     },
     "user_tz": -330
    },
    "id": "QRtsXJeJWvTh"
   },
   "outputs": [],
   "source": [
    "from gensim.models import KeyedVectors\n",
    "from gensim.scripts.glove2word2vec import glove2word2vec"
   ]
  },
  {
   "cell_type": "code",
   "execution_count": 113,
   "metadata": {
    "executionInfo": {
     "elapsed": 59,
     "status": "ok",
     "timestamp": 1687025042220,
     "user": {
      "displayName": "Lakshmi Singh",
      "userId": "17047074843456537614"
     },
     "user_tz": -330
    },
    "id": "XYeAAdXiXTcz"
   },
   "outputs": [],
   "source": [
    "# load the converted model\n",
    "filename = 'word2vec.txt'\n",
    "#model = KeyedVectors.load_word2vec_format(filename, binary=False)"
   ]
  },
  {
   "cell_type": "code",
   "execution_count": 114,
   "metadata": {
    "executionInfo": {
     "elapsed": 59,
     "status": "ok",
     "timestamp": 1687025042220,
     "user": {
      "displayName": "Lakshmi Singh",
      "userId": "17047074843456537614"
     },
     "user_tz": -330
    },
    "id": "YLgcknbzYI94"
   },
   "outputs": [],
   "source": [
    "#model.get_vector('analytics')"
   ]
  },
  {
   "cell_type": "code",
   "execution_count": 115,
   "metadata": {
    "executionInfo": {
     "elapsed": 9,
     "status": "ok",
     "timestamp": 1687025042776,
     "user": {
      "displayName": "Lakshmi Singh",
      "userId": "17047074843456537614"
     },
     "user_tz": -330
    },
    "id": "mm3va8lCYi5d"
   },
   "outputs": [],
   "source": [
    "def document_vector_GloVe(doc):\n",
    "    \"\"\"Create document vectors by averaging word vectors. Remove out-of-vocabulary words.\"\"\"\n",
    "\n",
    "    # doc1 contains those words of the document which are included in the vocab\n",
    "    doc1 = [word for word in doc.split() if word in cbow_model.wv.index_to_key]\n",
    "\n",
    "    wv1 = []  # this will contain the WE of all the vocab words from the doc\n",
    "    for word in doc1:\n",
    "        wv1.append(model.get_vector(word))\n",
    "    wv1_ = np.array(wv1)\n",
    "    wv1_mean = wv1_.mean(axis=0)\n",
    "    return wv1_mean"
   ]
  },
  {
   "cell_type": "markdown",
   "metadata": {
    "id": "mUZsgE3-Y1BR"
   },
   "source": [
    "Deep learning with binary feature"
   ]
  },
  {
   "cell_type": "code",
   "execution_count": 116,
   "metadata": {
    "executionInfo": {
     "elapsed": 2840,
     "status": "ok",
     "timestamp": 1687025045609,
     "user": {
      "displayName": "Lakshmi Singh",
      "userId": "17047074843456537614"
     },
     "user_tz": -330
    },
    "id": "EtU_KZZqXWhS"
   },
   "outputs": [],
   "source": [
    "from keras.utils.vis_utils import plot_model\n",
    "from keras.models import Sequential\n",
    "from keras.layers import Dense, Dropout\n",
    "from keras.callbacks import ModelCheckpoint\n",
    "import pydot\n",
    "import keras.backend as K"
   ]
  },
  {
   "cell_type": "code",
   "execution_count": 117,
   "metadata": {
    "executionInfo": {
     "elapsed": 77,
     "status": "ok",
     "timestamp": 1687025045610,
     "user": {
      "displayName": "Lakshmi Singh",
      "userId": "17047074843456537614"
     },
     "user_tz": -330
    },
    "id": "jqhIgPaIY_96"
   },
   "outputs": [],
   "source": [
    "# This user-defined function return a Deep Learning Model\n",
    "\n",
    "def define_model(n_words):\n",
    "    # define network\n",
    "    model = Sequential()\n",
    "    model.add(Dense(64, input_shape=(n_words,), activation='relu', kernel_regularizer='l2'))\n",
    "#     model.add(Dropout(0.25))\n",
    "    model.add(Dense(32, activation='relu', kernel_regularizer='l2'))\n",
    "#     model.add(Dropout(0.25))\n",
    "    model.add(Dense(1, activation='sigmoid'))\n",
    "\n",
    "    # compile network\n",
    "    model.compile(loss='binary_crossentropy', optimizer='adam', metrics=['accuracy'], )\n",
    "\n",
    "    # summarize defined model\n",
    "    model.summary()\n",
    "    plot_model(model, to_file='model1.png', show_shapes=True)\n",
    "    return model"
   ]
  },
  {
   "cell_type": "code",
   "execution_count": 118,
   "metadata": {
    "executionInfo": {
     "elapsed": 75,
     "status": "ok",
     "timestamp": 1687025045610,
     "user": {
      "displayName": "Lakshmi Singh",
      "userId": "17047074843456537614"
     },
     "user_tz": -330
    },
    "id": "b2lQFU99ZD7K"
   },
   "outputs": [],
   "source": [
    "# evaluate a neural network model\n",
    "def evaluate_model(Xtrain, ytrain, Xtest, ytest):\n",
    "    scores = list()\n",
    "    n_repeats = 5\n",
    "    n_words = Xtest.shape[1]\n",
    "\n",
    "    for i in range(n_repeats):\n",
    "        # define network\n",
    "        model = define_model(n_words)\n",
    "\n",
    "        # fit network\n",
    "        model.fit(Xtrain, ytrain, epochs=10, verbose=0)\n",
    "\n",
    "        # evaluate\n",
    "        _, acc = model.evaluate(Xtest, ytest, verbose=0)\n",
    "        scores.append(acc)\n",
    "\n",
    "        print('%d accuracy: %s' % ((i+1), acc))\n",
    "    return scores"
   ]
  },
  {
   "cell_type": "code",
   "execution_count": 119,
   "metadata": {
    "executionInfo": {
     "elapsed": 73,
     "status": "ok",
     "timestamp": 1687025045611,
     "user": {
      "displayName": "Lakshmi Singh",
      "userId": "17047074843456537614"
     },
     "user_tz": -330
    },
    "id": "igUJf8d0ZHde"
   },
   "outputs": [],
   "source": [
    "# fit a tokenizer\n",
    "from keras.preprocessing.text import Tokenizer\n",
    "def create_tokenizer(lines):\n",
    "    tokenizer = Tokenizer() # num_words=1000\n",
    "    tokenizer.fit_on_texts(lines)\n",
    "    return tokenizer"
   ]
  },
  {
   "cell_type": "code",
   "execution_count": 120,
   "metadata": {
    "executionInfo": {
     "elapsed": 70,
     "status": "ok",
     "timestamp": 1687025045611,
     "user": {
      "displayName": "Lakshmi Singh",
      "userId": "17047074843456537614"
     },
     "user_tz": -330
    },
    "id": "WXjh5wQ8ZLfO"
   },
   "outputs": [],
   "source": [
    "# create the tokenizer\n",
    "train_docs = data['cleaned_tweets_with_SW']\n",
    "tokenizer = create_tokenizer(train_docs)"
   ]
  },
  {
   "cell_type": "code",
   "execution_count": 121,
   "metadata": {
    "executionInfo": {
     "elapsed": 68,
     "status": "ok",
     "timestamp": 1687025045612,
     "user": {
      "displayName": "Lakshmi Singh",
      "userId": "17047074843456537614"
     },
     "user_tz": -330
    },
    "id": "jKxCFS7hZOoS"
   },
   "outputs": [],
   "source": [
    "# encode data\n",
    "X = tokenizer.texts_to_matrix(train_docs, mode='binary')"
   ]
  },
  {
   "cell_type": "code",
   "execution_count": 122,
   "metadata": {
    "colab": {
     "base_uri": "https://localhost:8080/"
    },
    "executionInfo": {
     "elapsed": 67,
     "status": "ok",
     "timestamp": 1687025045613,
     "user": {
      "displayName": "Lakshmi Singh",
      "userId": "17047074843456537614"
     },
     "user_tz": -330
    },
    "id": "qfJuNzBjZSJv",
    "outputId": "5bccfb4c-8c7d-47a7-8349-78737b4ce8fe"
   },
   "outputs": [
    {
     "data": {
      "text/plain": [
       "(300, 1257)"
      ]
     },
     "execution_count": 122,
     "metadata": {},
     "output_type": "execute_result"
    }
   ],
   "source": [
    "X.shape"
   ]
  },
  {
   "cell_type": "code",
   "execution_count": 123,
   "metadata": {
    "colab": {
     "base_uri": "https://localhost:8080/"
    },
    "executionInfo": {
     "elapsed": 51,
     "status": "ok",
     "timestamp": 1687025045614,
     "user": {
      "displayName": "Lakshmi Singh",
      "userId": "17047074843456537614"
     },
     "user_tz": -330
    },
    "id": "lVhhZzBHZUzQ",
    "outputId": "986d8127-97ce-47c9-8dbb-b1cf2cdb2569"
   },
   "outputs": [
    {
     "data": {
      "text/plain": [
       "array([0., 0., 0., ..., 0., 0., 0.])"
      ]
     },
     "execution_count": 123,
     "metadata": {},
     "output_type": "execute_result"
    }
   ],
   "source": [
    "X[0]"
   ]
  },
  {
   "cell_type": "code",
   "execution_count": 124,
   "metadata": {
    "executionInfo": {
     "elapsed": 38,
     "status": "ok",
     "timestamp": 1687025045615,
     "user": {
      "displayName": "Lakshmi Singh",
      "userId": "17047074843456537614"
     },
     "user_tz": -330
    },
    "id": "1TZAowS_ZXQU"
   },
   "outputs": [],
   "source": [
    "y = data['label']"
   ]
  },
  {
   "cell_type": "code",
   "execution_count": 125,
   "metadata": {
    "executionInfo": {
     "elapsed": 37,
     "status": "ok",
     "timestamp": 1687025045616,
     "user": {
      "displayName": "Lakshmi Singh",
      "userId": "17047074843456537614"
     },
     "user_tz": -330
    },
    "id": "1CtQQj_BZZ1Q"
   },
   "outputs": [],
   "source": [
    "Xtrain, Xtest, ytrain, ytest = train_test_split(X, y,  test_size=0.2,random_state=42)"
   ]
  },
  {
   "cell_type": "code",
   "execution_count": 126,
   "metadata": {
    "colab": {
     "base_uri": "https://localhost:8080/"
    },
    "executionInfo": {
     "elapsed": 33,
     "status": "ok",
     "timestamp": 1687025045617,
     "user": {
      "displayName": "Lakshmi Singh",
      "userId": "17047074843456537614"
     },
     "user_tz": -330
    },
    "id": "HGUxs-9wZc5-",
    "outputId": "a650c8a1-e857-4210-b31d-48cd970968ee"
   },
   "outputs": [
    {
     "data": {
      "text/plain": [
       "((240, 1257), (60, 1257))"
      ]
     },
     "execution_count": 126,
     "metadata": {},
     "output_type": "execute_result"
    }
   ],
   "source": [
    "Xtrain.shape, Xtest.shape"
   ]
  },
  {
   "cell_type": "code",
   "execution_count": 127,
   "metadata": {
    "colab": {
     "base_uri": "https://localhost:8080/"
    },
    "executionInfo": {
     "elapsed": 29,
     "status": "ok",
     "timestamp": 1687025045618,
     "user": {
      "displayName": "Lakshmi Singh",
      "userId": "17047074843456537614"
     },
     "user_tz": -330
    },
    "id": "5zACNCwvZjfT",
    "outputId": "8693396a-1576-4b4a-deea-1f1f7f10846d"
   },
   "outputs": [
    {
     "name": "stdout",
     "output_type": "stream",
     "text": [
      "Model: \"sequential\"\n",
      "_________________________________________________________________\n",
      " Layer (type)                Output Shape              Param #   \n",
      "=================================================================\n",
      " dense (Dense)               (None, 64)                80512     \n",
      "                                                                 \n",
      " dense_1 (Dense)             (None, 32)                2080      \n",
      "                                                                 \n",
      " dense_2 (Dense)             (None, 1)                 33        \n",
      "                                                                 \n",
      "=================================================================\n",
      "Total params: 82,625\n",
      "Trainable params: 82,625\n",
      "Non-trainable params: 0\n",
      "_________________________________________________________________\n"
     ]
    }
   ],
   "source": [
    "# define network\n",
    "K.clear_session()\n",
    "n_words = Xtrain.shape[1]\n",
    "model = define_model(n_words)"
   ]
  },
  {
   "cell_type": "code",
   "execution_count": 128,
   "metadata": {
    "colab": {
     "base_uri": "https://localhost:8080/"
    },
    "executionInfo": {
     "elapsed": 6806,
     "status": "ok",
     "timestamp": 1687025052404,
     "user": {
      "displayName": "Lakshmi Singh",
      "userId": "17047074843456537614"
     },
     "user_tz": -330
    },
    "id": "UMGvhXFEZt3U",
    "outputId": "67ebc040-bfab-4571-b80c-b736e8821acd"
   },
   "outputs": [
    {
     "name": "stdout",
     "output_type": "stream",
     "text": [
      "Epoch 1/25\n",
      "\n",
      "Epoch 1: val_loss improved from inf to 2.23419, saving model to BestModel.h5\n",
      "2/2 - 2s - loss: 2.3458 - accuracy: 0.2315 - val_loss: 2.2342 - val_accuracy: 0.3333 - 2s/epoch - 905ms/step\n",
      "Epoch 2/25\n",
      "\n",
      "Epoch 2: val_loss improved from 2.23419 to 2.12021, saving model to BestModel.h5\n",
      "2/2 - 0s - loss: 2.2187 - accuracy: 0.5000 - val_loss: 2.1202 - val_accuracy: 0.6250 - 123ms/epoch - 62ms/step\n",
      "Epoch 3/25\n",
      "\n",
      "Epoch 3: val_loss improved from 2.12021 to 2.01357, saving model to BestModel.h5\n",
      "2/2 - 0s - loss: 2.1017 - accuracy: 0.7269 - val_loss: 2.0136 - val_accuracy: 0.7917 - 195ms/epoch - 98ms/step\n",
      "Epoch 4/25\n",
      "\n",
      "Epoch 4: val_loss improved from 2.01357 to 1.91290, saving model to BestModel.h5\n",
      "2/2 - 0s - loss: 1.9921 - accuracy: 0.8565 - val_loss: 1.9129 - val_accuracy: 1.0000 - 137ms/epoch - 68ms/step\n",
      "Epoch 5/25\n",
      "\n",
      "Epoch 5: val_loss improved from 1.91290 to 1.81805, saving model to BestModel.h5\n",
      "2/2 - 0s - loss: 1.8900 - accuracy: 0.9306 - val_loss: 1.8181 - val_accuracy: 0.9583 - 147ms/epoch - 74ms/step\n",
      "Epoch 6/25\n",
      "\n",
      "Epoch 6: val_loss improved from 1.81805 to 1.72887, saving model to BestModel.h5\n",
      "2/2 - 0s - loss: 1.7936 - accuracy: 0.9444 - val_loss: 1.7289 - val_accuracy: 0.9583 - 120ms/epoch - 60ms/step\n",
      "Epoch 7/25\n",
      "\n",
      "Epoch 7: val_loss improved from 1.72887 to 1.64508, saving model to BestModel.h5\n",
      "2/2 - 0s - loss: 1.7031 - accuracy: 0.9444 - val_loss: 1.6451 - val_accuracy: 0.9583 - 160ms/epoch - 80ms/step\n",
      "Epoch 8/25\n",
      "\n",
      "Epoch 8: val_loss improved from 1.64508 to 1.56641, saving model to BestModel.h5\n",
      "2/2 - 0s - loss: 1.6179 - accuracy: 0.9444 - val_loss: 1.5664 - val_accuracy: 0.9583 - 133ms/epoch - 67ms/step\n",
      "Epoch 9/25\n",
      "\n",
      "Epoch 9: val_loss improved from 1.56641 to 1.49234, saving model to BestModel.h5\n",
      "2/2 - 0s - loss: 1.5375 - accuracy: 0.9444 - val_loss: 1.4923 - val_accuracy: 0.9583 - 208ms/epoch - 104ms/step\n",
      "Epoch 10/25\n",
      "\n",
      "Epoch 10: val_loss improved from 1.49234 to 1.42285, saving model to BestModel.h5\n",
      "2/2 - 0s - loss: 1.4613 - accuracy: 0.9398 - val_loss: 1.4228 - val_accuracy: 0.9583 - 115ms/epoch - 57ms/step\n",
      "Epoch 11/25\n",
      "\n",
      "Epoch 11: val_loss improved from 1.42285 to 1.35753, saving model to BestModel.h5\n",
      "2/2 - 0s - loss: 1.3889 - accuracy: 0.9398 - val_loss: 1.3575 - val_accuracy: 0.9583 - 167ms/epoch - 83ms/step\n",
      "Epoch 12/25\n",
      "\n",
      "Epoch 12: val_loss improved from 1.35753 to 1.29594, saving model to BestModel.h5\n",
      "2/2 - 0s - loss: 1.3207 - accuracy: 0.9398 - val_loss: 1.2959 - val_accuracy: 0.9583 - 117ms/epoch - 58ms/step\n",
      "Epoch 13/25\n",
      "\n",
      "Epoch 13: val_loss improved from 1.29594 to 1.23796, saving model to BestModel.h5\n",
      "2/2 - 0s - loss: 1.2558 - accuracy: 0.9398 - val_loss: 1.2380 - val_accuracy: 0.9583 - 193ms/epoch - 96ms/step\n",
      "Epoch 14/25\n",
      "\n",
      "Epoch 14: val_loss improved from 1.23796 to 1.18353, saving model to BestModel.h5\n",
      "2/2 - 0s - loss: 1.1943 - accuracy: 0.9398 - val_loss: 1.1835 - val_accuracy: 0.9583 - 273ms/epoch - 136ms/step\n",
      "Epoch 15/25\n",
      "\n",
      "Epoch 15: val_loss improved from 1.18353 to 1.13203, saving model to BestModel.h5\n",
      "2/2 - 0s - loss: 1.1354 - accuracy: 0.9398 - val_loss: 1.1320 - val_accuracy: 0.9583 - 178ms/epoch - 89ms/step\n",
      "Epoch 16/25\n",
      "\n",
      "Epoch 16: val_loss improved from 1.13203 to 1.08272, saving model to BestModel.h5\n",
      "2/2 - 0s - loss: 1.0796 - accuracy: 0.9398 - val_loss: 1.0827 - val_accuracy: 0.9583 - 240ms/epoch - 120ms/step\n",
      "Epoch 17/25\n",
      "\n",
      "Epoch 17: val_loss improved from 1.08272 to 1.03547, saving model to BestModel.h5\n",
      "2/2 - 0s - loss: 1.0265 - accuracy: 0.9398 - val_loss: 1.0355 - val_accuracy: 0.9583 - 214ms/epoch - 107ms/step\n",
      "Epoch 18/25\n",
      "\n",
      "Epoch 18: val_loss improved from 1.03547 to 0.99086, saving model to BestModel.h5\n",
      "2/2 - 0s - loss: 0.9758 - accuracy: 0.9398 - val_loss: 0.9909 - val_accuracy: 0.9583 - 202ms/epoch - 101ms/step\n",
      "Epoch 19/25\n",
      "\n",
      "Epoch 19: val_loss improved from 0.99086 to 0.94889, saving model to BestModel.h5\n",
      "2/2 - 0s - loss: 0.9275 - accuracy: 0.9398 - val_loss: 0.9489 - val_accuracy: 0.9583 - 273ms/epoch - 136ms/step\n",
      "Epoch 20/25\n",
      "\n",
      "Epoch 20: val_loss improved from 0.94889 to 0.90906, saving model to BestModel.h5\n",
      "2/2 - 0s - loss: 0.8816 - accuracy: 0.9352 - val_loss: 0.9091 - val_accuracy: 0.9583 - 186ms/epoch - 93ms/step\n",
      "Epoch 21/25\n",
      "\n",
      "Epoch 21: val_loss improved from 0.90906 to 0.87140, saving model to BestModel.h5\n",
      "2/2 - 0s - loss: 0.8384 - accuracy: 0.9352 - val_loss: 0.8714 - val_accuracy: 0.9583 - 191ms/epoch - 96ms/step\n",
      "Epoch 22/25\n",
      "\n",
      "Epoch 22: val_loss improved from 0.87140 to 0.83577, saving model to BestModel.h5\n",
      "2/2 - 0s - loss: 0.7975 - accuracy: 0.9398 - val_loss: 0.8358 - val_accuracy: 0.9583 - 293ms/epoch - 146ms/step\n",
      "Epoch 23/25\n",
      "\n",
      "Epoch 23: val_loss improved from 0.83577 to 0.80239, saving model to BestModel.h5\n",
      "2/2 - 0s - loss: 0.7595 - accuracy: 0.9398 - val_loss: 0.8024 - val_accuracy: 0.9583 - 310ms/epoch - 155ms/step\n",
      "Epoch 24/25\n",
      "\n",
      "Epoch 24: val_loss improved from 0.80239 to 0.77135, saving model to BestModel.h5\n",
      "2/2 - 0s - loss: 0.7238 - accuracy: 0.9398 - val_loss: 0.7714 - val_accuracy: 0.9583 - 267ms/epoch - 134ms/step\n",
      "Epoch 25/25\n",
      "\n",
      "Epoch 25: val_loss improved from 0.77135 to 0.74242, saving model to BestModel.h5\n",
      "2/2 - 0s - loss: 0.6910 - accuracy: 0.9352 - val_loss: 0.7424 - val_accuracy: 0.9583 - 203ms/epoch - 102ms/step\n"
     ]
    }
   ],
   "source": [
    "# fit network\n",
    "checkpoint = ModelCheckpoint(\"BestModel.h5\",\n",
    "                             monitor=\"val_loss\",\n",
    "                             mode=\"min\",\n",
    "                             save_best_only = True,\n",
    "                             verbose=1)\n",
    "callbacks = [checkpoint]\n",
    "\n",
    "h = model.fit(Xtrain, ytrain, validation_split=0.1, callbacks = callbacks, batch_size=180, epochs=25, verbose=2)"
   ]
  },
  {
   "cell_type": "code",
   "execution_count": 129,
   "metadata": {
    "colab": {
     "base_uri": "https://localhost:8080/",
     "height": 488
    },
    "executionInfo": {
     "elapsed": 1996,
     "status": "ok",
     "timestamp": 1687025054359,
     "user": {
      "displayName": "Lakshmi Singh",
      "userId": "17047074843456537614"
     },
     "user_tz": -330
    },
    "id": "w7oyVGN0ZuAR",
    "outputId": "f361e3df-d32b-43a9-a689-a70c7f1001ef"
   },
   "outputs": [
    {
     "data": {
      "text/plain": [
       "Text(0, 0.5, 'Loss Fn valaues')"
      ]
     },
     "execution_count": 129,
     "metadata": {},
     "output_type": "execute_result"
    },
    {
     "data": {
      "image/png": "[encoded data removed]",
      "text/plain": [
       "<Figure size 800x500 with 1 Axes>"
      ]
     },
     "metadata": {},
     "output_type": "display_data"
    }
   ],
   "source": [
    "import matplotlib.pyplot as plt\n",
    "\n",
    "plt.figure(figsize=(8,5))\n",
    "plt.plot(list(range(1,26)), h.history['loss'], label='Training loss')\n",
    "plt.plot(list(range(1,26)), h.history['val_loss'], label='Validation loss')\n",
    "plt.legend(fontsize=15)\n",
    "plt.grid()\n",
    "plt.xlabel('Epochs', fontsize=15)\n",
    "plt.ylabel('Loss Fn valaues', fontsize=15)"
   ]
  },
  {
   "cell_type": "code",
   "execution_count": 130,
   "metadata": {
    "colab": {
     "base_uri": "https://localhost:8080/",
     "height": 488
    },
    "executionInfo": {
     "elapsed": 13,
     "status": "ok",
     "timestamp": 1687025054360,
     "user": {
      "displayName": "Lakshmi Singh",
      "userId": "17047074843456537614"
     },
     "user_tz": -330
    },
    "id": "krnSiwXpZ46E",
    "outputId": "aa716b34-4dbd-483d-c081-11f184a55c5a"
   },
   "outputs": [
    {
     "data": {
      "text/plain": [
       "Text(0, 0.5, 'Accuracy')"
      ]
     },
     "execution_count": 130,
     "metadata": {},
     "output_type": "execute_result"
    },
    {
     "data": {
      "image/png": "[encoded data removed]",
      "text/plain": [
       "<Figure size 800x500 with 1 Axes>"
      ]
     },
     "metadata": {},
     "output_type": "display_data"
    }
   ],
   "source": [
    "import matplotlib.pyplot as plt\n",
    "\n",
    "plt.figure(figsize=(8,5))\n",
    "plt.plot(list(range(1,26)), h.history['accuracy'], label='Training Accuracy')\n",
    "plt.plot(list(range(1,26)), h.history['val_accuracy'], label='Validation Accuracy')\n",
    "plt.legend(fontsize=15)\n",
    "plt.grid()\n",
    "plt.xlabel('Epochs', fontsize=15)\n",
    "plt.ylabel('Accuracy', fontsize=15)"
   ]
  },
  {
   "cell_type": "code",
   "execution_count": 130,
   "metadata": {
    "executionInfo": {
     "elapsed": 33,
     "status": "ok",
     "timestamp": 1687025054860,
     "user": {
      "displayName": "Lakshmi Singh",
      "userId": "17047074843456537614"
     },
     "user_tz": -330
    },
    "id": "bVClyop8aAA-"
   },
   "outputs": [],
   "source": []
  }
 ],
 "metadata": {
  "colab": {
   "authorship_tag": "ABX9TyM7xnARiCsVTKH/8gJzuOfy",
   "provenance": []
  },
  "kernelspec": {
   "display_name": "Python 3 (ipykernel)",
   "language": "python",
   "name": "python3"
  },
  "language_info": {
   "codemirror_mode": {
    "name": "ipython",
    "version": 3
   },
   "file_extension": ".py",
   "mimetype": "text/x-python",
   "name": "python",
   "nbconvert_exporter": "python",
   "pygments_lexer": "ipython3",
   "version": "3.10.12"
  }
 },
 "nbformat": 4,
 "nbformat_minor": 4
}
